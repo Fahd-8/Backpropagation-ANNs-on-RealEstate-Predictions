{
  "nbformat": 4,
  "nbformat_minor": 0,
  "metadata": {
    "colab": {
      "provenance": []
    },
    "kernelspec": {
      "name": "python3",
      "display_name": "Python 3"
    },
    "language_info": {
      "name": "python"
    }
  },
  "cells": [
    {
      "cell_type": "markdown",
      "source": [
        "# **BackPropagation ANNs (Real Estate Chicago)**"
      ],
      "metadata": {
        "id": "08C8CkrmFvY3"
      }
    },
    {
      "cell_type": "markdown",
      "source": [
        "## **Setting Environment**"
      ],
      "metadata": {
        "id": "kiPueXN6FiRQ"
      }
    },
    {
      "cell_type": "code",
      "execution_count": 2,
      "metadata": {
        "id": "CQ0Qrd_e8QMr"
      },
      "outputs": [],
      "source": [
        "import warnings\n",
        "warnings.filterwarnings(\"ignore\", category=DeprecationWarning)\n",
        "\n",
        "import pandas as pd\n",
        "import numpy as np\n",
        "import matplotlib.pyplot as plt\n",
        "import seaborn as sns\n",
        "import sklearn.cluster as cluster\n",
        "import sklearn.metrics as metrics\n",
        "import sklearn.preprocessing as preprocessing\n",
        "import sklearn.model_selection as model_selection\n",
        "from sklearn.neighbors import LocalOutlierFactor\n",
        "from mlxtend.frequent_patterns import apriori\n",
        "from mlxtend.frequent_patterns import association_rules\n",
        "from sklearn.decomposition import PCA\n",
        "from sklearn.cluster import KMeans"
      ]
    },
    {
      "cell_type": "markdown",
      "source": [
        "##  **Data Loading**"
      ],
      "metadata": {
        "id": "elD2pgiVFpL5"
      }
    },
    {
      "cell_type": "code",
      "source": [
        "realstate = pd.read_csv(\"/content/drive/MyDrive/PERSONAL/Projects/ML/RealEstateChicago(UnsupervisedML)/real_estate_data_chicago.csv\")"
      ],
      "metadata": {
        "id": "v58OUeee8ofS",
        "colab": {
          "base_uri": "https://localhost:8080/"
        },
        "outputId": "32f1ebca-ceda-4942-bcc4-17268bbd4357"
      },
      "execution_count": 3,
      "outputs": [
        {
          "output_type": "stream",
          "name": "stderr",
          "text": [
            "/usr/local/lib/python3.10/dist-packages/ipykernel/ipkernel.py:283: DeprecationWarning: `should_run_async` will not call `transform_cell` automatically in the future. Please pass the result to `transformed_cell` argument and any exception that happen during thetransform in `preprocessing_exc_tuple` in IPython 7.17 and above.\n",
            "  and should_run_async(code)\n"
          ]
        }
      ]
    },
    {
      "cell_type": "code",
      "source": [
        "realstate"
      ],
      "metadata": {
        "id": "P38RTW0r8oiF",
        "colab": {
          "base_uri": "https://localhost:8080/",
          "height": 669
        },
        "outputId": "16e9dae7-75c7-471a-c906-7cb6e9aac05a"
      },
      "execution_count": 4,
      "outputs": [
        {
          "output_type": "stream",
          "name": "stderr",
          "text": [
            "/usr/local/lib/python3.10/dist-packages/ipykernel/ipkernel.py:283: DeprecationWarning: `should_run_async` will not call `transform_cell` automatically in the future. Please pass the result to `transformed_cell` argument and any exception that happen during thetransform in `preprocessing_exc_tuple` in IPython 7.17 and above.\n",
            "  and should_run_async(code)\n"
          ]
        },
        {
          "output_type": "execute_result",
          "data": {
            "text/plain": [
              "               type                                               text  \\\n",
              "0     single_family  Come check out this amazing, move-in ready, 5 ...   \n",
              "1     single_family  Move in ready 2 story Mount Greenwood home on ...   \n",
              "2     single_family  Investor Special MONEY MAKING Gem. This is you...   \n",
              "3     single_family  Renovated Brick 1.5 story house with finished ...   \n",
              "4     single_family  This almost 3000sq foot home was thoughtfully ...   \n",
              "...             ...                                                ...   \n",
              "1995  single_family  WEST ELSDON BRICK SINGLE FAMILY RAISED RANCH H...   \n",
              "1996         condos  Welcome to your spacious three bedroom condo i...   \n",
              "1997         condos  Luxury Residence with jaw dropping City and Ri...   \n",
              "1998   multi_family  Welcome to this charming & RARE, meticulously ...   \n",
              "1999  single_family  Lovely 3 bedroom, 1.5 bath brick bungalow with...   \n",
              "\n",
              "      year_built  beds  baths  baths_full  baths_half  garage  lot_sqft  \\\n",
              "0         1951.0   4.0    4.0         3.0         1.0     1.0    5615.0   \n",
              "1         1922.0   4.0    3.0         2.0         1.0     2.0    6566.0   \n",
              "2         1947.0   4.0    2.0         2.0         NaN     3.0    5375.0   \n",
              "3         1945.0   4.0    3.0         2.0         1.0     2.0    6138.0   \n",
              "4         1907.0   4.0    4.0         2.0         2.0     2.0    8476.0   \n",
              "...          ...   ...    ...         ...         ...     ...       ...   \n",
              "1995      1961.0   3.0    2.0         2.0         NaN     2.0       NaN   \n",
              "1996      1962.0   3.0    2.0         2.0         NaN     1.0       NaN   \n",
              "1997      2002.0   3.0    3.0         2.0         1.0     3.0       NaN   \n",
              "1998      1946.0   6.0    5.0         5.0         NaN     2.0    6200.0   \n",
              "1999      1918.0   3.0    2.0         1.0         1.0     2.0    4059.0   \n",
              "\n",
              "        sqft  stories  lastSoldPrice      soldOn  listPrice    status  \n",
              "0     3000.0      2.0            NaN         NaN   750000.0  for_sale  \n",
              "1     2900.0      2.0       105000.0  1991-04-16   499900.0  for_sale  \n",
              "2     1170.0      2.0        60000.0  2019-10-28   325600.0  for_sale  \n",
              "3     2511.0      2.0       170000.0  1996-05-30   620000.0  for_sale  \n",
              "4     2870.0      3.0            NaN         NaN   850000.0  for_sale  \n",
              "...      ...      ...            ...         ...        ...       ...  \n",
              "1995  2080.0      1.0       148000.0  2000-09-15   319900.0  for_sale  \n",
              "1996  1498.0     27.0            NaN         NaN   260000.0  for_sale  \n",
              "1997  3700.0     37.0      1705000.0  2016-06-03  1449000.0  for_sale  \n",
              "1998  3654.0      NaN            NaN         NaN   749000.0  for_sale  \n",
              "1999     NaN      2.0        42500.0  1980-05-13   215000.0  for_sale  \n",
              "\n",
              "[2000 rows x 15 columns]"
            ],
            "text/html": [
              "\n",
              "  <div id=\"df-f13a28d1-d213-43ad-9c11-c02e0a0e4519\" class=\"colab-df-container\">\n",
              "    <div>\n",
              "<style scoped>\n",
              "    .dataframe tbody tr th:only-of-type {\n",
              "        vertical-align: middle;\n",
              "    }\n",
              "\n",
              "    .dataframe tbody tr th {\n",
              "        vertical-align: top;\n",
              "    }\n",
              "\n",
              "    .dataframe thead th {\n",
              "        text-align: right;\n",
              "    }\n",
              "</style>\n",
              "<table border=\"1\" class=\"dataframe\">\n",
              "  <thead>\n",
              "    <tr style=\"text-align: right;\">\n",
              "      <th></th>\n",
              "      <th>type</th>\n",
              "      <th>text</th>\n",
              "      <th>year_built</th>\n",
              "      <th>beds</th>\n",
              "      <th>baths</th>\n",
              "      <th>baths_full</th>\n",
              "      <th>baths_half</th>\n",
              "      <th>garage</th>\n",
              "      <th>lot_sqft</th>\n",
              "      <th>sqft</th>\n",
              "      <th>stories</th>\n",
              "      <th>lastSoldPrice</th>\n",
              "      <th>soldOn</th>\n",
              "      <th>listPrice</th>\n",
              "      <th>status</th>\n",
              "    </tr>\n",
              "  </thead>\n",
              "  <tbody>\n",
              "    <tr>\n",
              "      <th>0</th>\n",
              "      <td>single_family</td>\n",
              "      <td>Come check out this amazing, move-in ready, 5 ...</td>\n",
              "      <td>1951.0</td>\n",
              "      <td>4.0</td>\n",
              "      <td>4.0</td>\n",
              "      <td>3.0</td>\n",
              "      <td>1.0</td>\n",
              "      <td>1.0</td>\n",
              "      <td>5615.0</td>\n",
              "      <td>3000.0</td>\n",
              "      <td>2.0</td>\n",
              "      <td>NaN</td>\n",
              "      <td>NaN</td>\n",
              "      <td>750000.0</td>\n",
              "      <td>for_sale</td>\n",
              "    </tr>\n",
              "    <tr>\n",
              "      <th>1</th>\n",
              "      <td>single_family</td>\n",
              "      <td>Move in ready 2 story Mount Greenwood home on ...</td>\n",
              "      <td>1922.0</td>\n",
              "      <td>4.0</td>\n",
              "      <td>3.0</td>\n",
              "      <td>2.0</td>\n",
              "      <td>1.0</td>\n",
              "      <td>2.0</td>\n",
              "      <td>6566.0</td>\n",
              "      <td>2900.0</td>\n",
              "      <td>2.0</td>\n",
              "      <td>105000.0</td>\n",
              "      <td>1991-04-16</td>\n",
              "      <td>499900.0</td>\n",
              "      <td>for_sale</td>\n",
              "    </tr>\n",
              "    <tr>\n",
              "      <th>2</th>\n",
              "      <td>single_family</td>\n",
              "      <td>Investor Special MONEY MAKING Gem. This is you...</td>\n",
              "      <td>1947.0</td>\n",
              "      <td>4.0</td>\n",
              "      <td>2.0</td>\n",
              "      <td>2.0</td>\n",
              "      <td>NaN</td>\n",
              "      <td>3.0</td>\n",
              "      <td>5375.0</td>\n",
              "      <td>1170.0</td>\n",
              "      <td>2.0</td>\n",
              "      <td>60000.0</td>\n",
              "      <td>2019-10-28</td>\n",
              "      <td>325600.0</td>\n",
              "      <td>for_sale</td>\n",
              "    </tr>\n",
              "    <tr>\n",
              "      <th>3</th>\n",
              "      <td>single_family</td>\n",
              "      <td>Renovated Brick 1.5 story house with finished ...</td>\n",
              "      <td>1945.0</td>\n",
              "      <td>4.0</td>\n",
              "      <td>3.0</td>\n",
              "      <td>2.0</td>\n",
              "      <td>1.0</td>\n",
              "      <td>2.0</td>\n",
              "      <td>6138.0</td>\n",
              "      <td>2511.0</td>\n",
              "      <td>2.0</td>\n",
              "      <td>170000.0</td>\n",
              "      <td>1996-05-30</td>\n",
              "      <td>620000.0</td>\n",
              "      <td>for_sale</td>\n",
              "    </tr>\n",
              "    <tr>\n",
              "      <th>4</th>\n",
              "      <td>single_family</td>\n",
              "      <td>This almost 3000sq foot home was thoughtfully ...</td>\n",
              "      <td>1907.0</td>\n",
              "      <td>4.0</td>\n",
              "      <td>4.0</td>\n",
              "      <td>2.0</td>\n",
              "      <td>2.0</td>\n",
              "      <td>2.0</td>\n",
              "      <td>8476.0</td>\n",
              "      <td>2870.0</td>\n",
              "      <td>3.0</td>\n",
              "      <td>NaN</td>\n",
              "      <td>NaN</td>\n",
              "      <td>850000.0</td>\n",
              "      <td>for_sale</td>\n",
              "    </tr>\n",
              "    <tr>\n",
              "      <th>...</th>\n",
              "      <td>...</td>\n",
              "      <td>...</td>\n",
              "      <td>...</td>\n",
              "      <td>...</td>\n",
              "      <td>...</td>\n",
              "      <td>...</td>\n",
              "      <td>...</td>\n",
              "      <td>...</td>\n",
              "      <td>...</td>\n",
              "      <td>...</td>\n",
              "      <td>...</td>\n",
              "      <td>...</td>\n",
              "      <td>...</td>\n",
              "      <td>...</td>\n",
              "      <td>...</td>\n",
              "    </tr>\n",
              "    <tr>\n",
              "      <th>1995</th>\n",
              "      <td>single_family</td>\n",
              "      <td>WEST ELSDON BRICK SINGLE FAMILY RAISED RANCH H...</td>\n",
              "      <td>1961.0</td>\n",
              "      <td>3.0</td>\n",
              "      <td>2.0</td>\n",
              "      <td>2.0</td>\n",
              "      <td>NaN</td>\n",
              "      <td>2.0</td>\n",
              "      <td>NaN</td>\n",
              "      <td>2080.0</td>\n",
              "      <td>1.0</td>\n",
              "      <td>148000.0</td>\n",
              "      <td>2000-09-15</td>\n",
              "      <td>319900.0</td>\n",
              "      <td>for_sale</td>\n",
              "    </tr>\n",
              "    <tr>\n",
              "      <th>1996</th>\n",
              "      <td>condos</td>\n",
              "      <td>Welcome to your spacious three bedroom condo i...</td>\n",
              "      <td>1962.0</td>\n",
              "      <td>3.0</td>\n",
              "      <td>2.0</td>\n",
              "      <td>2.0</td>\n",
              "      <td>NaN</td>\n",
              "      <td>1.0</td>\n",
              "      <td>NaN</td>\n",
              "      <td>1498.0</td>\n",
              "      <td>27.0</td>\n",
              "      <td>NaN</td>\n",
              "      <td>NaN</td>\n",
              "      <td>260000.0</td>\n",
              "      <td>for_sale</td>\n",
              "    </tr>\n",
              "    <tr>\n",
              "      <th>1997</th>\n",
              "      <td>condos</td>\n",
              "      <td>Luxury Residence with jaw dropping City and Ri...</td>\n",
              "      <td>2002.0</td>\n",
              "      <td>3.0</td>\n",
              "      <td>3.0</td>\n",
              "      <td>2.0</td>\n",
              "      <td>1.0</td>\n",
              "      <td>3.0</td>\n",
              "      <td>NaN</td>\n",
              "      <td>3700.0</td>\n",
              "      <td>37.0</td>\n",
              "      <td>1705000.0</td>\n",
              "      <td>2016-06-03</td>\n",
              "      <td>1449000.0</td>\n",
              "      <td>for_sale</td>\n",
              "    </tr>\n",
              "    <tr>\n",
              "      <th>1998</th>\n",
              "      <td>multi_family</td>\n",
              "      <td>Welcome to this charming &amp; RARE, meticulously ...</td>\n",
              "      <td>1946.0</td>\n",
              "      <td>6.0</td>\n",
              "      <td>5.0</td>\n",
              "      <td>5.0</td>\n",
              "      <td>NaN</td>\n",
              "      <td>2.0</td>\n",
              "      <td>6200.0</td>\n",
              "      <td>3654.0</td>\n",
              "      <td>NaN</td>\n",
              "      <td>NaN</td>\n",
              "      <td>NaN</td>\n",
              "      <td>749000.0</td>\n",
              "      <td>for_sale</td>\n",
              "    </tr>\n",
              "    <tr>\n",
              "      <th>1999</th>\n",
              "      <td>single_family</td>\n",
              "      <td>Lovely 3 bedroom, 1.5 bath brick bungalow with...</td>\n",
              "      <td>1918.0</td>\n",
              "      <td>3.0</td>\n",
              "      <td>2.0</td>\n",
              "      <td>1.0</td>\n",
              "      <td>1.0</td>\n",
              "      <td>2.0</td>\n",
              "      <td>4059.0</td>\n",
              "      <td>NaN</td>\n",
              "      <td>2.0</td>\n",
              "      <td>42500.0</td>\n",
              "      <td>1980-05-13</td>\n",
              "      <td>215000.0</td>\n",
              "      <td>for_sale</td>\n",
              "    </tr>\n",
              "  </tbody>\n",
              "</table>\n",
              "<p>2000 rows × 15 columns</p>\n",
              "</div>\n",
              "    <div class=\"colab-df-buttons\">\n",
              "\n",
              "  <div class=\"colab-df-container\">\n",
              "    <button class=\"colab-df-convert\" onclick=\"convertToInteractive('df-f13a28d1-d213-43ad-9c11-c02e0a0e4519')\"\n",
              "            title=\"Convert this dataframe to an interactive table.\"\n",
              "            style=\"display:none;\">\n",
              "\n",
              "  <svg xmlns=\"http://www.w3.org/2000/svg\" height=\"24px\" viewBox=\"0 -960 960 960\">\n",
              "    <path d=\"M120-120v-720h720v720H120Zm60-500h600v-160H180v160Zm220 220h160v-160H400v160Zm0 220h160v-160H400v160ZM180-400h160v-160H180v160Zm440 0h160v-160H620v160ZM180-180h160v-160H180v160Zm440 0h160v-160H620v160Z\"/>\n",
              "  </svg>\n",
              "    </button>\n",
              "\n",
              "  <style>\n",
              "    .colab-df-container {\n",
              "      display:flex;\n",
              "      gap: 12px;\n",
              "    }\n",
              "\n",
              "    .colab-df-convert {\n",
              "      background-color: #E8F0FE;\n",
              "      border: none;\n",
              "      border-radius: 50%;\n",
              "      cursor: pointer;\n",
              "      display: none;\n",
              "      fill: #1967D2;\n",
              "      height: 32px;\n",
              "      padding: 0 0 0 0;\n",
              "      width: 32px;\n",
              "    }\n",
              "\n",
              "    .colab-df-convert:hover {\n",
              "      background-color: #E2EBFA;\n",
              "      box-shadow: 0px 1px 2px rgba(60, 64, 67, 0.3), 0px 1px 3px 1px rgba(60, 64, 67, 0.15);\n",
              "      fill: #174EA6;\n",
              "    }\n",
              "\n",
              "    .colab-df-buttons div {\n",
              "      margin-bottom: 4px;\n",
              "    }\n",
              "\n",
              "    [theme=dark] .colab-df-convert {\n",
              "      background-color: #3B4455;\n",
              "      fill: #D2E3FC;\n",
              "    }\n",
              "\n",
              "    [theme=dark] .colab-df-convert:hover {\n",
              "      background-color: #434B5C;\n",
              "      box-shadow: 0px 1px 3px 1px rgba(0, 0, 0, 0.15);\n",
              "      filter: drop-shadow(0px 1px 2px rgba(0, 0, 0, 0.3));\n",
              "      fill: #FFFFFF;\n",
              "    }\n",
              "  </style>\n",
              "\n",
              "    <script>\n",
              "      const buttonEl =\n",
              "        document.querySelector('#df-f13a28d1-d213-43ad-9c11-c02e0a0e4519 button.colab-df-convert');\n",
              "      buttonEl.style.display =\n",
              "        google.colab.kernel.accessAllowed ? 'block' : 'none';\n",
              "\n",
              "      async function convertToInteractive(key) {\n",
              "        const element = document.querySelector('#df-f13a28d1-d213-43ad-9c11-c02e0a0e4519');\n",
              "        const dataTable =\n",
              "          await google.colab.kernel.invokeFunction('convertToInteractive',\n",
              "                                                    [key], {});\n",
              "        if (!dataTable) return;\n",
              "\n",
              "        const docLinkHtml = 'Like what you see? Visit the ' +\n",
              "          '<a target=\"_blank\" href=https://colab.research.google.com/notebooks/data_table.ipynb>data table notebook</a>'\n",
              "          + ' to learn more about interactive tables.';\n",
              "        element.innerHTML = '';\n",
              "        dataTable['output_type'] = 'display_data';\n",
              "        await google.colab.output.renderOutput(dataTable, element);\n",
              "        const docLink = document.createElement('div');\n",
              "        docLink.innerHTML = docLinkHtml;\n",
              "        element.appendChild(docLink);\n",
              "      }\n",
              "    </script>\n",
              "  </div>\n",
              "\n",
              "\n",
              "<div id=\"df-cba0748e-dd95-4a67-b446-95c285f8d128\">\n",
              "  <button class=\"colab-df-quickchart\" onclick=\"quickchart('df-cba0748e-dd95-4a67-b446-95c285f8d128')\"\n",
              "            title=\"Suggest charts\"\n",
              "            style=\"display:none;\">\n",
              "\n",
              "<svg xmlns=\"http://www.w3.org/2000/svg\" height=\"24px\"viewBox=\"0 0 24 24\"\n",
              "     width=\"24px\">\n",
              "    <g>\n",
              "        <path d=\"M19 3H5c-1.1 0-2 .9-2 2v14c0 1.1.9 2 2 2h14c1.1 0 2-.9 2-2V5c0-1.1-.9-2-2-2zM9 17H7v-7h2v7zm4 0h-2V7h2v10zm4 0h-2v-4h2v4z\"/>\n",
              "    </g>\n",
              "</svg>\n",
              "  </button>\n",
              "\n",
              "<style>\n",
              "  .colab-df-quickchart {\n",
              "      --bg-color: #E8F0FE;\n",
              "      --fill-color: #1967D2;\n",
              "      --hover-bg-color: #E2EBFA;\n",
              "      --hover-fill-color: #174EA6;\n",
              "      --disabled-fill-color: #AAA;\n",
              "      --disabled-bg-color: #DDD;\n",
              "  }\n",
              "\n",
              "  [theme=dark] .colab-df-quickchart {\n",
              "      --bg-color: #3B4455;\n",
              "      --fill-color: #D2E3FC;\n",
              "      --hover-bg-color: #434B5C;\n",
              "      --hover-fill-color: #FFFFFF;\n",
              "      --disabled-bg-color: #3B4455;\n",
              "      --disabled-fill-color: #666;\n",
              "  }\n",
              "\n",
              "  .colab-df-quickchart {\n",
              "    background-color: var(--bg-color);\n",
              "    border: none;\n",
              "    border-radius: 50%;\n",
              "    cursor: pointer;\n",
              "    display: none;\n",
              "    fill: var(--fill-color);\n",
              "    height: 32px;\n",
              "    padding: 0;\n",
              "    width: 32px;\n",
              "  }\n",
              "\n",
              "  .colab-df-quickchart:hover {\n",
              "    background-color: var(--hover-bg-color);\n",
              "    box-shadow: 0 1px 2px rgba(60, 64, 67, 0.3), 0 1px 3px 1px rgba(60, 64, 67, 0.15);\n",
              "    fill: var(--button-hover-fill-color);\n",
              "  }\n",
              "\n",
              "  .colab-df-quickchart-complete:disabled,\n",
              "  .colab-df-quickchart-complete:disabled:hover {\n",
              "    background-color: var(--disabled-bg-color);\n",
              "    fill: var(--disabled-fill-color);\n",
              "    box-shadow: none;\n",
              "  }\n",
              "\n",
              "  .colab-df-spinner {\n",
              "    border: 2px solid var(--fill-color);\n",
              "    border-color: transparent;\n",
              "    border-bottom-color: var(--fill-color);\n",
              "    animation:\n",
              "      spin 1s steps(1) infinite;\n",
              "  }\n",
              "\n",
              "  @keyframes spin {\n",
              "    0% {\n",
              "      border-color: transparent;\n",
              "      border-bottom-color: var(--fill-color);\n",
              "      border-left-color: var(--fill-color);\n",
              "    }\n",
              "    20% {\n",
              "      border-color: transparent;\n",
              "      border-left-color: var(--fill-color);\n",
              "      border-top-color: var(--fill-color);\n",
              "    }\n",
              "    30% {\n",
              "      border-color: transparent;\n",
              "      border-left-color: var(--fill-color);\n",
              "      border-top-color: var(--fill-color);\n",
              "      border-right-color: var(--fill-color);\n",
              "    }\n",
              "    40% {\n",
              "      border-color: transparent;\n",
              "      border-right-color: var(--fill-color);\n",
              "      border-top-color: var(--fill-color);\n",
              "    }\n",
              "    60% {\n",
              "      border-color: transparent;\n",
              "      border-right-color: var(--fill-color);\n",
              "    }\n",
              "    80% {\n",
              "      border-color: transparent;\n",
              "      border-right-color: var(--fill-color);\n",
              "      border-bottom-color: var(--fill-color);\n",
              "    }\n",
              "    90% {\n",
              "      border-color: transparent;\n",
              "      border-bottom-color: var(--fill-color);\n",
              "    }\n",
              "  }\n",
              "</style>\n",
              "\n",
              "  <script>\n",
              "    async function quickchart(key) {\n",
              "      const quickchartButtonEl =\n",
              "        document.querySelector('#' + key + ' button');\n",
              "      quickchartButtonEl.disabled = true;  // To prevent multiple clicks.\n",
              "      quickchartButtonEl.classList.add('colab-df-spinner');\n",
              "      try {\n",
              "        const charts = await google.colab.kernel.invokeFunction(\n",
              "            'suggestCharts', [key], {});\n",
              "      } catch (error) {\n",
              "        console.error('Error during call to suggestCharts:', error);\n",
              "      }\n",
              "      quickchartButtonEl.classList.remove('colab-df-spinner');\n",
              "      quickchartButtonEl.classList.add('colab-df-quickchart-complete');\n",
              "    }\n",
              "    (() => {\n",
              "      let quickchartButtonEl =\n",
              "        document.querySelector('#df-cba0748e-dd95-4a67-b446-95c285f8d128 button');\n",
              "      quickchartButtonEl.style.display =\n",
              "        google.colab.kernel.accessAllowed ? 'block' : 'none';\n",
              "    })();\n",
              "  </script>\n",
              "</div>\n",
              "\n",
              "  <div id=\"id_41936777-9489-4708-8a81-8898e1608cbc\">\n",
              "    <style>\n",
              "      .colab-df-generate {\n",
              "        background-color: #E8F0FE;\n",
              "        border: none;\n",
              "        border-radius: 50%;\n",
              "        cursor: pointer;\n",
              "        display: none;\n",
              "        fill: #1967D2;\n",
              "        height: 32px;\n",
              "        padding: 0 0 0 0;\n",
              "        width: 32px;\n",
              "      }\n",
              "\n",
              "      .colab-df-generate:hover {\n",
              "        background-color: #E2EBFA;\n",
              "        box-shadow: 0px 1px 2px rgba(60, 64, 67, 0.3), 0px 1px 3px 1px rgba(60, 64, 67, 0.15);\n",
              "        fill: #174EA6;\n",
              "      }\n",
              "\n",
              "      [theme=dark] .colab-df-generate {\n",
              "        background-color: #3B4455;\n",
              "        fill: #D2E3FC;\n",
              "      }\n",
              "\n",
              "      [theme=dark] .colab-df-generate:hover {\n",
              "        background-color: #434B5C;\n",
              "        box-shadow: 0px 1px 3px 1px rgba(0, 0, 0, 0.15);\n",
              "        filter: drop-shadow(0px 1px 2px rgba(0, 0, 0, 0.3));\n",
              "        fill: #FFFFFF;\n",
              "      }\n",
              "    </style>\n",
              "    <button class=\"colab-df-generate\" onclick=\"generateWithVariable('realstate')\"\n",
              "            title=\"Generate code using this dataframe.\"\n",
              "            style=\"display:none;\">\n",
              "\n",
              "  <svg xmlns=\"http://www.w3.org/2000/svg\" height=\"24px\"viewBox=\"0 0 24 24\"\n",
              "       width=\"24px\">\n",
              "    <path d=\"M7,19H8.4L18.45,9,17,7.55,7,17.6ZM5,21V16.75L18.45,3.32a2,2,0,0,1,2.83,0l1.4,1.43a1.91,1.91,0,0,1,.58,1.4,1.91,1.91,0,0,1-.58,1.4L9.25,21ZM18.45,9,17,7.55Zm-12,3A5.31,5.31,0,0,0,4.9,8.1,5.31,5.31,0,0,0,1,6.5,5.31,5.31,0,0,0,4.9,4.9,5.31,5.31,0,0,0,6.5,1,5.31,5.31,0,0,0,8.1,4.9,5.31,5.31,0,0,0,12,6.5,5.46,5.46,0,0,0,6.5,12Z\"/>\n",
              "  </svg>\n",
              "    </button>\n",
              "    <script>\n",
              "      (() => {\n",
              "      const buttonEl =\n",
              "        document.querySelector('#id_41936777-9489-4708-8a81-8898e1608cbc button.colab-df-generate');\n",
              "      buttonEl.style.display =\n",
              "        google.colab.kernel.accessAllowed ? 'block' : 'none';\n",
              "\n",
              "      buttonEl.onclick = () => {\n",
              "        google.colab.notebook.generateWithVariable('realstate');\n",
              "      }\n",
              "      })();\n",
              "    </script>\n",
              "  </div>\n",
              "\n",
              "    </div>\n",
              "  </div>\n"
            ],
            "application/vnd.google.colaboratory.intrinsic+json": {
              "type": "dataframe",
              "variable_name": "realstate",
              "summary": "{\n  \"name\": \"realstate\",\n  \"rows\": 2000,\n  \"fields\": [\n    {\n      \"column\": \"type\",\n      \"properties\": {\n        \"dtype\": \"category\",\n        \"num_unique_values\": 7,\n        \"samples\": [\n          \"single_family\",\n          \"multi_family\",\n          \"land\"\n        ],\n        \"semantic_type\": \"\",\n        \"description\": \"\"\n      }\n    },\n    {\n      \"column\": \"text\",\n      \"properties\": {\n        \"dtype\": \"string\",\n        \"num_unique_values\": 1981,\n        \"samples\": [\n          \"Welcome to 5757 N Sheridan Rd Unit 7F, where breathtaking lake views meet urban convenience. This 1 bed, 1 bath condo offers 850 sq ft of modern living space flooded with natural light and adorned with hardwood floors. The gourmet kitchen features stainless steel appliances and granite countertops, perfect for culinary enthusiasts. The spacious bedroom boasts ample closet space and stunning lake vistas. Residents enjoy 24-hour door staff, extra storage and rooftop deck. With direct access to the lakefront trail and nearby parks, outdoor adventures await. Explore Edgewater's diverse dining scene or venture downtown with easy access to public transportation. Experience lakeside living at its finest at 5757 N Sheridan Rd Unit 7F. Schedule your tour today! INVESTOR FRIENDLY, no short term, however NO RENTAL CAP. HOA is currently $688, however there will be an increase to $783. Valet in building for $180 self park $220\",\n          \"If you've been down Logan Boulevard during the holidays then you KNOW this house, beautifully situated on the corner of Logan and Washtenaw, this is THE Christmas House. 2656 is on an oversized double lot with 48 feet of frontage on the boulevard and 166 feet of frontage on Washtenaw. The interior of the home is extra wide and sun filled with southern + western exposures. Enjoy Logan Square from the back yard with plenty of room for fun + relaxation. The home is ready for your ideas - bring your contractor and passion for vintage homes - it's in need of a full rehab. 2656 Logan is waiting for you, its next owner. The home is located in the landmarks district and is 'orange lined'. ORANGE (OR) properties possess some architectural feature or historical association that made them potentially significant in the context of the surrounding community. About 9,600 properties are categorized as 'Orange' in the CHRS. Will you be the lucky next owner? (Rooms sizes are estimates, not guaranteed, verify by buyer)\",\n          \"Bring your vision to this historic Brownsville beauty. Rehab has already been started and includes new plumbing, new electric, new windows throughout, new ductwork, new walls and framing and a new roof. Architectural plans are available as well. The home offers 10 foot ceilings, 3 fireplaces, 3 bedrooms and 3 full baths including one in the master, plus a roughed in bath and bedroom in the basement.\"\n        ],\n        \"semantic_type\": \"\",\n        \"description\": \"\"\n      }\n    },\n    {\n      \"column\": \"year_built\",\n      \"properties\": {\n        \"dtype\": \"number\",\n        \"std\": 38.9859040165293,\n        \"min\": 1856.0,\n        \"max\": 2024.0,\n        \"num_unique_values\": 149,\n        \"samples\": [\n          1964.0,\n          1962.0,\n          2020.0\n        ],\n        \"semantic_type\": \"\",\n        \"description\": \"\"\n      }\n    },\n    {\n      \"column\": \"beds\",\n      \"properties\": {\n        \"dtype\": \"number\",\n        \"std\": 1.7585495153298638,\n        \"min\": 0.0,\n        \"max\": 21.0,\n        \"num_unique_values\": 14,\n        \"samples\": [\n          0.0,\n          12.0,\n          4.0\n        ],\n        \"semantic_type\": \"\",\n        \"description\": \"\"\n      }\n    },\n    {\n      \"column\": \"baths\",\n      \"properties\": {\n        \"dtype\": \"number\",\n        \"std\": 1.4564904689172624,\n        \"min\": 0.0,\n        \"max\": 13.0,\n        \"num_unique_values\": 13,\n        \"samples\": [\n          9.0,\n          13.0,\n          4.0\n        ],\n        \"semantic_type\": \"\",\n        \"description\": \"\"\n      }\n    },\n    {\n      \"column\": \"baths_full\",\n      \"properties\": {\n        \"dtype\": \"number\",\n        \"std\": 1.106637286115054,\n        \"min\": 1.0,\n        \"max\": 8.0,\n        \"num_unique_values\": 8,\n        \"samples\": [\n          2.0,\n          5.0,\n          3.0\n        ],\n        \"semantic_type\": \"\",\n        \"description\": \"\"\n      }\n    },\n    {\n      \"column\": \"baths_half\",\n      \"properties\": {\n        \"dtype\": \"number\",\n        \"std\": 0.5531188463835979,\n        \"min\": 1.0,\n        \"max\": 5.0,\n        \"num_unique_values\": 5,\n        \"samples\": [\n          2.0,\n          5.0,\n          4.0\n        ],\n        \"semantic_type\": \"\",\n        \"description\": \"\"\n      }\n    },\n    {\n      \"column\": \"garage\",\n      \"properties\": {\n        \"dtype\": \"number\",\n        \"std\": 11.367288123766743,\n        \"min\": 1.0,\n        \"max\": 400.0,\n        \"num_unique_values\": 10,\n        \"samples\": [\n          75.0,\n          2.0,\n          400.0\n        ],\n        \"semantic_type\": \"\",\n        \"description\": \"\"\n      }\n    },\n    {\n      \"column\": \"lot_sqft\",\n      \"properties\": {\n        \"dtype\": \"number\",\n        \"std\": 68611.53646566604,\n        \"min\": 1.0,\n        \"max\": 2156000.0,\n        \"num_unique_values\": 444,\n        \"samples\": [\n          3625.0,\n          2892.0,\n          4200.0\n        ],\n        \"semantic_type\": \"\",\n        \"description\": \"\"\n      }\n    },\n    {\n      \"column\": \"sqft\",\n      \"properties\": {\n        \"dtype\": \"number\",\n        \"std\": 1691.5183188204091,\n        \"min\": 372.0,\n        \"max\": 25000.0,\n        \"num_unique_values\": 679,\n        \"samples\": [\n          1509.0,\n          1196.0,\n          2615.0\n        ],\n        \"semantic_type\": \"\",\n        \"description\": \"\"\n      }\n    },\n    {\n      \"column\": \"stories\",\n      \"properties\": {\n        \"dtype\": \"number\",\n        \"std\": 13.036822054751106,\n        \"min\": 1.0,\n        \"max\": 119.0,\n        \"num_unique_values\": 64,\n        \"samples\": [\n          100.0,\n          52.0,\n          2.0\n        ],\n        \"semantic_type\": \"\",\n        \"description\": \"\"\n      }\n    },\n    {\n      \"column\": \"lastSoldPrice\",\n      \"properties\": {\n        \"dtype\": \"number\",\n        \"std\": 615689.5595452014,\n        \"min\": 600.0,\n        \"max\": 7500000.0,\n        \"num_unique_values\": 643,\n        \"samples\": [\n          134500.0,\n          130000.0,\n          460000.0\n        ],\n        \"semantic_type\": \"\",\n        \"description\": \"\"\n      }\n    },\n    {\n      \"column\": \"soldOn\",\n      \"properties\": {\n        \"dtype\": \"date\",\n        \"min\": \"1976-11-09 00:00:00\",\n        \"max\": \"2024-02-16 00:00:00\",\n        \"num_unique_values\": 1253,\n        \"samples\": [\n          \"2005-11-29\",\n          \"2002-02-06\",\n          \"2021-04-22\"\n        ],\n        \"semantic_type\": \"\",\n        \"description\": \"\"\n      }\n    },\n    {\n      \"column\": \"listPrice\",\n      \"properties\": {\n        \"dtype\": \"number\",\n        \"std\": 1202399.6314406488,\n        \"min\": 150.0,\n        \"max\": 23500000.0,\n        \"num_unique_values\": 713,\n        \"samples\": [\n          180000.0,\n          739000.0,\n          2049000.0\n        ],\n        \"semantic_type\": \"\",\n        \"description\": \"\"\n      }\n    },\n    {\n      \"column\": \"status\",\n      \"properties\": {\n        \"dtype\": \"category\",\n        \"num_unique_values\": 2,\n        \"samples\": [\n          \"ready_to_build\",\n          \"for_sale\"\n        ],\n        \"semantic_type\": \"\",\n        \"description\": \"\"\n      }\n    }\n  ]\n}"
            }
          },
          "metadata": {},
          "execution_count": 4
        }
      ]
    },
    {
      "cell_type": "code",
      "source": [
        "realstate.head(3)"
      ],
      "metadata": {
        "id": "xKTO0Olg8oli",
        "colab": {
          "base_uri": "https://localhost:8080/",
          "height": 250
        },
        "outputId": "3c5e8cbd-4a05-47dd-ab85-21e63cf93b55"
      },
      "execution_count": 5,
      "outputs": [
        {
          "output_type": "stream",
          "name": "stderr",
          "text": [
            "/usr/local/lib/python3.10/dist-packages/ipykernel/ipkernel.py:283: DeprecationWarning: `should_run_async` will not call `transform_cell` automatically in the future. Please pass the result to `transformed_cell` argument and any exception that happen during thetransform in `preprocessing_exc_tuple` in IPython 7.17 and above.\n",
            "  and should_run_async(code)\n"
          ]
        },
        {
          "output_type": "execute_result",
          "data": {
            "text/plain": [
              "            type                                               text  \\\n",
              "0  single_family  Come check out this amazing, move-in ready, 5 ...   \n",
              "1  single_family  Move in ready 2 story Mount Greenwood home on ...   \n",
              "2  single_family  Investor Special MONEY MAKING Gem. This is you...   \n",
              "\n",
              "   year_built  beds  baths  baths_full  baths_half  garage  lot_sqft    sqft  \\\n",
              "0      1951.0   4.0    4.0         3.0         1.0     1.0    5615.0  3000.0   \n",
              "1      1922.0   4.0    3.0         2.0         1.0     2.0    6566.0  2900.0   \n",
              "2      1947.0   4.0    2.0         2.0         NaN     3.0    5375.0  1170.0   \n",
              "\n",
              "   stories  lastSoldPrice      soldOn  listPrice    status  \n",
              "0      2.0            NaN         NaN   750000.0  for_sale  \n",
              "1      2.0       105000.0  1991-04-16   499900.0  for_sale  \n",
              "2      2.0        60000.0  2019-10-28   325600.0  for_sale  "
            ],
            "text/html": [
              "\n",
              "  <div id=\"df-e9ee334d-cc66-4c8a-84cb-a322dee5e822\" class=\"colab-df-container\">\n",
              "    <div>\n",
              "<style scoped>\n",
              "    .dataframe tbody tr th:only-of-type {\n",
              "        vertical-align: middle;\n",
              "    }\n",
              "\n",
              "    .dataframe tbody tr th {\n",
              "        vertical-align: top;\n",
              "    }\n",
              "\n",
              "    .dataframe thead th {\n",
              "        text-align: right;\n",
              "    }\n",
              "</style>\n",
              "<table border=\"1\" class=\"dataframe\">\n",
              "  <thead>\n",
              "    <tr style=\"text-align: right;\">\n",
              "      <th></th>\n",
              "      <th>type</th>\n",
              "      <th>text</th>\n",
              "      <th>year_built</th>\n",
              "      <th>beds</th>\n",
              "      <th>baths</th>\n",
              "      <th>baths_full</th>\n",
              "      <th>baths_half</th>\n",
              "      <th>garage</th>\n",
              "      <th>lot_sqft</th>\n",
              "      <th>sqft</th>\n",
              "      <th>stories</th>\n",
              "      <th>lastSoldPrice</th>\n",
              "      <th>soldOn</th>\n",
              "      <th>listPrice</th>\n",
              "      <th>status</th>\n",
              "    </tr>\n",
              "  </thead>\n",
              "  <tbody>\n",
              "    <tr>\n",
              "      <th>0</th>\n",
              "      <td>single_family</td>\n",
              "      <td>Come check out this amazing, move-in ready, 5 ...</td>\n",
              "      <td>1951.0</td>\n",
              "      <td>4.0</td>\n",
              "      <td>4.0</td>\n",
              "      <td>3.0</td>\n",
              "      <td>1.0</td>\n",
              "      <td>1.0</td>\n",
              "      <td>5615.0</td>\n",
              "      <td>3000.0</td>\n",
              "      <td>2.0</td>\n",
              "      <td>NaN</td>\n",
              "      <td>NaN</td>\n",
              "      <td>750000.0</td>\n",
              "      <td>for_sale</td>\n",
              "    </tr>\n",
              "    <tr>\n",
              "      <th>1</th>\n",
              "      <td>single_family</td>\n",
              "      <td>Move in ready 2 story Mount Greenwood home on ...</td>\n",
              "      <td>1922.0</td>\n",
              "      <td>4.0</td>\n",
              "      <td>3.0</td>\n",
              "      <td>2.0</td>\n",
              "      <td>1.0</td>\n",
              "      <td>2.0</td>\n",
              "      <td>6566.0</td>\n",
              "      <td>2900.0</td>\n",
              "      <td>2.0</td>\n",
              "      <td>105000.0</td>\n",
              "      <td>1991-04-16</td>\n",
              "      <td>499900.0</td>\n",
              "      <td>for_sale</td>\n",
              "    </tr>\n",
              "    <tr>\n",
              "      <th>2</th>\n",
              "      <td>single_family</td>\n",
              "      <td>Investor Special MONEY MAKING Gem. This is you...</td>\n",
              "      <td>1947.0</td>\n",
              "      <td>4.0</td>\n",
              "      <td>2.0</td>\n",
              "      <td>2.0</td>\n",
              "      <td>NaN</td>\n",
              "      <td>3.0</td>\n",
              "      <td>5375.0</td>\n",
              "      <td>1170.0</td>\n",
              "      <td>2.0</td>\n",
              "      <td>60000.0</td>\n",
              "      <td>2019-10-28</td>\n",
              "      <td>325600.0</td>\n",
              "      <td>for_sale</td>\n",
              "    </tr>\n",
              "  </tbody>\n",
              "</table>\n",
              "</div>\n",
              "    <div class=\"colab-df-buttons\">\n",
              "\n",
              "  <div class=\"colab-df-container\">\n",
              "    <button class=\"colab-df-convert\" onclick=\"convertToInteractive('df-e9ee334d-cc66-4c8a-84cb-a322dee5e822')\"\n",
              "            title=\"Convert this dataframe to an interactive table.\"\n",
              "            style=\"display:none;\">\n",
              "\n",
              "  <svg xmlns=\"http://www.w3.org/2000/svg\" height=\"24px\" viewBox=\"0 -960 960 960\">\n",
              "    <path d=\"M120-120v-720h720v720H120Zm60-500h600v-160H180v160Zm220 220h160v-160H400v160Zm0 220h160v-160H400v160ZM180-400h160v-160H180v160Zm440 0h160v-160H620v160ZM180-180h160v-160H180v160Zm440 0h160v-160H620v160Z\"/>\n",
              "  </svg>\n",
              "    </button>\n",
              "\n",
              "  <style>\n",
              "    .colab-df-container {\n",
              "      display:flex;\n",
              "      gap: 12px;\n",
              "    }\n",
              "\n",
              "    .colab-df-convert {\n",
              "      background-color: #E8F0FE;\n",
              "      border: none;\n",
              "      border-radius: 50%;\n",
              "      cursor: pointer;\n",
              "      display: none;\n",
              "      fill: #1967D2;\n",
              "      height: 32px;\n",
              "      padding: 0 0 0 0;\n",
              "      width: 32px;\n",
              "    }\n",
              "\n",
              "    .colab-df-convert:hover {\n",
              "      background-color: #E2EBFA;\n",
              "      box-shadow: 0px 1px 2px rgba(60, 64, 67, 0.3), 0px 1px 3px 1px rgba(60, 64, 67, 0.15);\n",
              "      fill: #174EA6;\n",
              "    }\n",
              "\n",
              "    .colab-df-buttons div {\n",
              "      margin-bottom: 4px;\n",
              "    }\n",
              "\n",
              "    [theme=dark] .colab-df-convert {\n",
              "      background-color: #3B4455;\n",
              "      fill: #D2E3FC;\n",
              "    }\n",
              "\n",
              "    [theme=dark] .colab-df-convert:hover {\n",
              "      background-color: #434B5C;\n",
              "      box-shadow: 0px 1px 3px 1px rgba(0, 0, 0, 0.15);\n",
              "      filter: drop-shadow(0px 1px 2px rgba(0, 0, 0, 0.3));\n",
              "      fill: #FFFFFF;\n",
              "    }\n",
              "  </style>\n",
              "\n",
              "    <script>\n",
              "      const buttonEl =\n",
              "        document.querySelector('#df-e9ee334d-cc66-4c8a-84cb-a322dee5e822 button.colab-df-convert');\n",
              "      buttonEl.style.display =\n",
              "        google.colab.kernel.accessAllowed ? 'block' : 'none';\n",
              "\n",
              "      async function convertToInteractive(key) {\n",
              "        const element = document.querySelector('#df-e9ee334d-cc66-4c8a-84cb-a322dee5e822');\n",
              "        const dataTable =\n",
              "          await google.colab.kernel.invokeFunction('convertToInteractive',\n",
              "                                                    [key], {});\n",
              "        if (!dataTable) return;\n",
              "\n",
              "        const docLinkHtml = 'Like what you see? Visit the ' +\n",
              "          '<a target=\"_blank\" href=https://colab.research.google.com/notebooks/data_table.ipynb>data table notebook</a>'\n",
              "          + ' to learn more about interactive tables.';\n",
              "        element.innerHTML = '';\n",
              "        dataTable['output_type'] = 'display_data';\n",
              "        await google.colab.output.renderOutput(dataTable, element);\n",
              "        const docLink = document.createElement('div');\n",
              "        docLink.innerHTML = docLinkHtml;\n",
              "        element.appendChild(docLink);\n",
              "      }\n",
              "    </script>\n",
              "  </div>\n",
              "\n",
              "\n",
              "<div id=\"df-f9850816-44b1-4c7b-b0d7-2d27b8eb4df4\">\n",
              "  <button class=\"colab-df-quickchart\" onclick=\"quickchart('df-f9850816-44b1-4c7b-b0d7-2d27b8eb4df4')\"\n",
              "            title=\"Suggest charts\"\n",
              "            style=\"display:none;\">\n",
              "\n",
              "<svg xmlns=\"http://www.w3.org/2000/svg\" height=\"24px\"viewBox=\"0 0 24 24\"\n",
              "     width=\"24px\">\n",
              "    <g>\n",
              "        <path d=\"M19 3H5c-1.1 0-2 .9-2 2v14c0 1.1.9 2 2 2h14c1.1 0 2-.9 2-2V5c0-1.1-.9-2-2-2zM9 17H7v-7h2v7zm4 0h-2V7h2v10zm4 0h-2v-4h2v4z\"/>\n",
              "    </g>\n",
              "</svg>\n",
              "  </button>\n",
              "\n",
              "<style>\n",
              "  .colab-df-quickchart {\n",
              "      --bg-color: #E8F0FE;\n",
              "      --fill-color: #1967D2;\n",
              "      --hover-bg-color: #E2EBFA;\n",
              "      --hover-fill-color: #174EA6;\n",
              "      --disabled-fill-color: #AAA;\n",
              "      --disabled-bg-color: #DDD;\n",
              "  }\n",
              "\n",
              "  [theme=dark] .colab-df-quickchart {\n",
              "      --bg-color: #3B4455;\n",
              "      --fill-color: #D2E3FC;\n",
              "      --hover-bg-color: #434B5C;\n",
              "      --hover-fill-color: #FFFFFF;\n",
              "      --disabled-bg-color: #3B4455;\n",
              "      --disabled-fill-color: #666;\n",
              "  }\n",
              "\n",
              "  .colab-df-quickchart {\n",
              "    background-color: var(--bg-color);\n",
              "    border: none;\n",
              "    border-radius: 50%;\n",
              "    cursor: pointer;\n",
              "    display: none;\n",
              "    fill: var(--fill-color);\n",
              "    height: 32px;\n",
              "    padding: 0;\n",
              "    width: 32px;\n",
              "  }\n",
              "\n",
              "  .colab-df-quickchart:hover {\n",
              "    background-color: var(--hover-bg-color);\n",
              "    box-shadow: 0 1px 2px rgba(60, 64, 67, 0.3), 0 1px 3px 1px rgba(60, 64, 67, 0.15);\n",
              "    fill: var(--button-hover-fill-color);\n",
              "  }\n",
              "\n",
              "  .colab-df-quickchart-complete:disabled,\n",
              "  .colab-df-quickchart-complete:disabled:hover {\n",
              "    background-color: var(--disabled-bg-color);\n",
              "    fill: var(--disabled-fill-color);\n",
              "    box-shadow: none;\n",
              "  }\n",
              "\n",
              "  .colab-df-spinner {\n",
              "    border: 2px solid var(--fill-color);\n",
              "    border-color: transparent;\n",
              "    border-bottom-color: var(--fill-color);\n",
              "    animation:\n",
              "      spin 1s steps(1) infinite;\n",
              "  }\n",
              "\n",
              "  @keyframes spin {\n",
              "    0% {\n",
              "      border-color: transparent;\n",
              "      border-bottom-color: var(--fill-color);\n",
              "      border-left-color: var(--fill-color);\n",
              "    }\n",
              "    20% {\n",
              "      border-color: transparent;\n",
              "      border-left-color: var(--fill-color);\n",
              "      border-top-color: var(--fill-color);\n",
              "    }\n",
              "    30% {\n",
              "      border-color: transparent;\n",
              "      border-left-color: var(--fill-color);\n",
              "      border-top-color: var(--fill-color);\n",
              "      border-right-color: var(--fill-color);\n",
              "    }\n",
              "    40% {\n",
              "      border-color: transparent;\n",
              "      border-right-color: var(--fill-color);\n",
              "      border-top-color: var(--fill-color);\n",
              "    }\n",
              "    60% {\n",
              "      border-color: transparent;\n",
              "      border-right-color: var(--fill-color);\n",
              "    }\n",
              "    80% {\n",
              "      border-color: transparent;\n",
              "      border-right-color: var(--fill-color);\n",
              "      border-bottom-color: var(--fill-color);\n",
              "    }\n",
              "    90% {\n",
              "      border-color: transparent;\n",
              "      border-bottom-color: var(--fill-color);\n",
              "    }\n",
              "  }\n",
              "</style>\n",
              "\n",
              "  <script>\n",
              "    async function quickchart(key) {\n",
              "      const quickchartButtonEl =\n",
              "        document.querySelector('#' + key + ' button');\n",
              "      quickchartButtonEl.disabled = true;  // To prevent multiple clicks.\n",
              "      quickchartButtonEl.classList.add('colab-df-spinner');\n",
              "      try {\n",
              "        const charts = await google.colab.kernel.invokeFunction(\n",
              "            'suggestCharts', [key], {});\n",
              "      } catch (error) {\n",
              "        console.error('Error during call to suggestCharts:', error);\n",
              "      }\n",
              "      quickchartButtonEl.classList.remove('colab-df-spinner');\n",
              "      quickchartButtonEl.classList.add('colab-df-quickchart-complete');\n",
              "    }\n",
              "    (() => {\n",
              "      let quickchartButtonEl =\n",
              "        document.querySelector('#df-f9850816-44b1-4c7b-b0d7-2d27b8eb4df4 button');\n",
              "      quickchartButtonEl.style.display =\n",
              "        google.colab.kernel.accessAllowed ? 'block' : 'none';\n",
              "    })();\n",
              "  </script>\n",
              "</div>\n",
              "\n",
              "    </div>\n",
              "  </div>\n"
            ],
            "application/vnd.google.colaboratory.intrinsic+json": {
              "type": "dataframe",
              "variable_name": "realstate",
              "summary": "{\n  \"name\": \"realstate\",\n  \"rows\": 2000,\n  \"fields\": [\n    {\n      \"column\": \"type\",\n      \"properties\": {\n        \"dtype\": \"category\",\n        \"num_unique_values\": 7,\n        \"samples\": [\n          \"single_family\",\n          \"multi_family\",\n          \"land\"\n        ],\n        \"semantic_type\": \"\",\n        \"description\": \"\"\n      }\n    },\n    {\n      \"column\": \"text\",\n      \"properties\": {\n        \"dtype\": \"string\",\n        \"num_unique_values\": 1981,\n        \"samples\": [\n          \"Welcome to 5757 N Sheridan Rd Unit 7F, where breathtaking lake views meet urban convenience. This 1 bed, 1 bath condo offers 850 sq ft of modern living space flooded with natural light and adorned with hardwood floors. The gourmet kitchen features stainless steel appliances and granite countertops, perfect for culinary enthusiasts. The spacious bedroom boasts ample closet space and stunning lake vistas. Residents enjoy 24-hour door staff, extra storage and rooftop deck. With direct access to the lakefront trail and nearby parks, outdoor adventures await. Explore Edgewater's diverse dining scene or venture downtown with easy access to public transportation. Experience lakeside living at its finest at 5757 N Sheridan Rd Unit 7F. Schedule your tour today! INVESTOR FRIENDLY, no short term, however NO RENTAL CAP. HOA is currently $688, however there will be an increase to $783. Valet in building for $180 self park $220\",\n          \"If you've been down Logan Boulevard during the holidays then you KNOW this house, beautifully situated on the corner of Logan and Washtenaw, this is THE Christmas House. 2656 is on an oversized double lot with 48 feet of frontage on the boulevard and 166 feet of frontage on Washtenaw. The interior of the home is extra wide and sun filled with southern + western exposures. Enjoy Logan Square from the back yard with plenty of room for fun + relaxation. The home is ready for your ideas - bring your contractor and passion for vintage homes - it's in need of a full rehab. 2656 Logan is waiting for you, its next owner. The home is located in the landmarks district and is 'orange lined'. ORANGE (OR) properties possess some architectural feature or historical association that made them potentially significant in the context of the surrounding community. About 9,600 properties are categorized as 'Orange' in the CHRS. Will you be the lucky next owner? (Rooms sizes are estimates, not guaranteed, verify by buyer)\",\n          \"Bring your vision to this historic Brownsville beauty. Rehab has already been started and includes new plumbing, new electric, new windows throughout, new ductwork, new walls and framing and a new roof. Architectural plans are available as well. The home offers 10 foot ceilings, 3 fireplaces, 3 bedrooms and 3 full baths including one in the master, plus a roughed in bath and bedroom in the basement.\"\n        ],\n        \"semantic_type\": \"\",\n        \"description\": \"\"\n      }\n    },\n    {\n      \"column\": \"year_built\",\n      \"properties\": {\n        \"dtype\": \"number\",\n        \"std\": 38.9859040165293,\n        \"min\": 1856.0,\n        \"max\": 2024.0,\n        \"num_unique_values\": 149,\n        \"samples\": [\n          1964.0,\n          1962.0,\n          2020.0\n        ],\n        \"semantic_type\": \"\",\n        \"description\": \"\"\n      }\n    },\n    {\n      \"column\": \"beds\",\n      \"properties\": {\n        \"dtype\": \"number\",\n        \"std\": 1.7585495153298638,\n        \"min\": 0.0,\n        \"max\": 21.0,\n        \"num_unique_values\": 14,\n        \"samples\": [\n          0.0,\n          12.0,\n          4.0\n        ],\n        \"semantic_type\": \"\",\n        \"description\": \"\"\n      }\n    },\n    {\n      \"column\": \"baths\",\n      \"properties\": {\n        \"dtype\": \"number\",\n        \"std\": 1.4564904689172624,\n        \"min\": 0.0,\n        \"max\": 13.0,\n        \"num_unique_values\": 13,\n        \"samples\": [\n          9.0,\n          13.0,\n          4.0\n        ],\n        \"semantic_type\": \"\",\n        \"description\": \"\"\n      }\n    },\n    {\n      \"column\": \"baths_full\",\n      \"properties\": {\n        \"dtype\": \"number\",\n        \"std\": 1.106637286115054,\n        \"min\": 1.0,\n        \"max\": 8.0,\n        \"num_unique_values\": 8,\n        \"samples\": [\n          2.0,\n          5.0,\n          3.0\n        ],\n        \"semantic_type\": \"\",\n        \"description\": \"\"\n      }\n    },\n    {\n      \"column\": \"baths_half\",\n      \"properties\": {\n        \"dtype\": \"number\",\n        \"std\": 0.5531188463835979,\n        \"min\": 1.0,\n        \"max\": 5.0,\n        \"num_unique_values\": 5,\n        \"samples\": [\n          2.0,\n          5.0,\n          4.0\n        ],\n        \"semantic_type\": \"\",\n        \"description\": \"\"\n      }\n    },\n    {\n      \"column\": \"garage\",\n      \"properties\": {\n        \"dtype\": \"number\",\n        \"std\": 11.367288123766743,\n        \"min\": 1.0,\n        \"max\": 400.0,\n        \"num_unique_values\": 10,\n        \"samples\": [\n          75.0,\n          2.0,\n          400.0\n        ],\n        \"semantic_type\": \"\",\n        \"description\": \"\"\n      }\n    },\n    {\n      \"column\": \"lot_sqft\",\n      \"properties\": {\n        \"dtype\": \"number\",\n        \"std\": 68611.53646566604,\n        \"min\": 1.0,\n        \"max\": 2156000.0,\n        \"num_unique_values\": 444,\n        \"samples\": [\n          3625.0,\n          2892.0,\n          4200.0\n        ],\n        \"semantic_type\": \"\",\n        \"description\": \"\"\n      }\n    },\n    {\n      \"column\": \"sqft\",\n      \"properties\": {\n        \"dtype\": \"number\",\n        \"std\": 1691.5183188204091,\n        \"min\": 372.0,\n        \"max\": 25000.0,\n        \"num_unique_values\": 679,\n        \"samples\": [\n          1509.0,\n          1196.0,\n          2615.0\n        ],\n        \"semantic_type\": \"\",\n        \"description\": \"\"\n      }\n    },\n    {\n      \"column\": \"stories\",\n      \"properties\": {\n        \"dtype\": \"number\",\n        \"std\": 13.036822054751106,\n        \"min\": 1.0,\n        \"max\": 119.0,\n        \"num_unique_values\": 64,\n        \"samples\": [\n          100.0,\n          52.0,\n          2.0\n        ],\n        \"semantic_type\": \"\",\n        \"description\": \"\"\n      }\n    },\n    {\n      \"column\": \"lastSoldPrice\",\n      \"properties\": {\n        \"dtype\": \"number\",\n        \"std\": 615689.5595452014,\n        \"min\": 600.0,\n        \"max\": 7500000.0,\n        \"num_unique_values\": 643,\n        \"samples\": [\n          134500.0,\n          130000.0,\n          460000.0\n        ],\n        \"semantic_type\": \"\",\n        \"description\": \"\"\n      }\n    },\n    {\n      \"column\": \"soldOn\",\n      \"properties\": {\n        \"dtype\": \"date\",\n        \"min\": \"1976-11-09 00:00:00\",\n        \"max\": \"2024-02-16 00:00:00\",\n        \"num_unique_values\": 1253,\n        \"samples\": [\n          \"2005-11-29\",\n          \"2002-02-06\",\n          \"2021-04-22\"\n        ],\n        \"semantic_type\": \"\",\n        \"description\": \"\"\n      }\n    },\n    {\n      \"column\": \"listPrice\",\n      \"properties\": {\n        \"dtype\": \"number\",\n        \"std\": 1202399.6314406488,\n        \"min\": 150.0,\n        \"max\": 23500000.0,\n        \"num_unique_values\": 713,\n        \"samples\": [\n          180000.0,\n          739000.0,\n          2049000.0\n        ],\n        \"semantic_type\": \"\",\n        \"description\": \"\"\n      }\n    },\n    {\n      \"column\": \"status\",\n      \"properties\": {\n        \"dtype\": \"category\",\n        \"num_unique_values\": 2,\n        \"samples\": [\n          \"ready_to_build\",\n          \"for_sale\"\n        ],\n        \"semantic_type\": \"\",\n        \"description\": \"\"\n      }\n    }\n  ]\n}"
            }
          },
          "metadata": {},
          "execution_count": 5
        }
      ]
    },
    {
      "cell_type": "code",
      "source": [
        "realstate[\"type\"].head()"
      ],
      "metadata": {
        "id": "zrous8OQ8oni",
        "colab": {
          "base_uri": "https://localhost:8080/"
        },
        "outputId": "640f19d0-be74-421d-ecc2-5366879bd062"
      },
      "execution_count": 6,
      "outputs": [
        {
          "output_type": "stream",
          "name": "stderr",
          "text": [
            "/usr/local/lib/python3.10/dist-packages/ipykernel/ipkernel.py:283: DeprecationWarning: `should_run_async` will not call `transform_cell` automatically in the future. Please pass the result to `transformed_cell` argument and any exception that happen during thetransform in `preprocessing_exc_tuple` in IPython 7.17 and above.\n",
            "  and should_run_async(code)\n"
          ]
        },
        {
          "output_type": "execute_result",
          "data": {
            "text/plain": [
              "0    single_family\n",
              "1    single_family\n",
              "2    single_family\n",
              "3    single_family\n",
              "4    single_family\n",
              "Name: type, dtype: object"
            ]
          },
          "metadata": {},
          "execution_count": 6
        }
      ]
    },
    {
      "cell_type": "code",
      "source": [
        "realstate.info()"
      ],
      "metadata": {
        "id": "zYiB8wjP8osR",
        "colab": {
          "base_uri": "https://localhost:8080/"
        },
        "outputId": "ecf67c6f-9a05-4a25-a286-a81ace003e91"
      },
      "execution_count": 7,
      "outputs": [
        {
          "output_type": "stream",
          "name": "stderr",
          "text": [
            "/usr/local/lib/python3.10/dist-packages/ipykernel/ipkernel.py:283: DeprecationWarning: `should_run_async` will not call `transform_cell` automatically in the future. Please pass the result to `transformed_cell` argument and any exception that happen during thetransform in `preprocessing_exc_tuple` in IPython 7.17 and above.\n",
            "  and should_run_async(code)\n"
          ]
        },
        {
          "output_type": "stream",
          "name": "stdout",
          "text": [
            "<class 'pandas.core.frame.DataFrame'>\n",
            "RangeIndex: 2000 entries, 0 to 1999\n",
            "Data columns (total 15 columns):\n",
            " #   Column         Non-Null Count  Dtype  \n",
            "---  ------         --------------  -----  \n",
            " 0   type           2000 non-null   object \n",
            " 1   text           1992 non-null   object \n",
            " 2   year_built     1790 non-null   float64\n",
            " 3   beds           1940 non-null   float64\n",
            " 4   baths          1999 non-null   float64\n",
            " 5   baths_full     1937 non-null   float64\n",
            " 6   baths_half     592 non-null    float64\n",
            " 7   garage         1282 non-null   float64\n",
            " 8   lot_sqft       992 non-null    float64\n",
            " 9   sqft           1447 non-null   float64\n",
            " 10  stories        1620 non-null   float64\n",
            " 11  lastSoldPrice  1415 non-null   float64\n",
            " 12  soldOn         1415 non-null   object \n",
            " 13  listPrice      1994 non-null   float64\n",
            " 14  status         2000 non-null   object \n",
            "dtypes: float64(11), object(4)\n",
            "memory usage: 234.5+ KB\n"
          ]
        }
      ]
    },
    {
      "cell_type": "code",
      "source": [
        "realstate.describe()"
      ],
      "metadata": {
        "id": "jOd7komu8ovN",
        "colab": {
          "base_uri": "https://localhost:8080/",
          "height": 355
        },
        "outputId": "6417724c-282f-4f43-8ee7-da852f0f8ace"
      },
      "execution_count": 8,
      "outputs": [
        {
          "output_type": "stream",
          "name": "stderr",
          "text": [
            "/usr/local/lib/python3.10/dist-packages/ipykernel/ipkernel.py:283: DeprecationWarning: `should_run_async` will not call `transform_cell` automatically in the future. Please pass the result to `transformed_cell` argument and any exception that happen during thetransform in `preprocessing_exc_tuple` in IPython 7.17 and above.\n",
            "  and should_run_async(code)\n"
          ]
        },
        {
          "output_type": "execute_result",
          "data": {
            "text/plain": [
              "        year_built        beds       baths   baths_full  baths_half  \\\n",
              "count  1790.000000  1940.00000  1999.00000  1937.000000  592.000000   \n",
              "mean   1946.050838     3.28866     2.43972     2.155911    1.189189   \n",
              "std      38.985904     1.75855     1.45649     1.106637    0.553119   \n",
              "min    1856.000000     0.00000     0.00000     1.000000    1.000000   \n",
              "25%    1916.000000     2.00000     2.00000     1.000000    1.000000   \n",
              "50%    1943.000000     3.00000     2.00000     2.000000    1.000000   \n",
              "75%    1970.750000     4.00000     3.00000     3.000000    1.000000   \n",
              "max    2024.000000    21.00000    13.00000     8.000000    5.000000   \n",
              "\n",
              "            garage      lot_sqft          sqft      stories  lastSoldPrice  \\\n",
              "count  1282.000000  9.920000e+02   1447.000000  1620.000000   1.415000e+03   \n",
              "mean      2.131825  7.156209e+03   2069.910159     7.183951   3.685186e+05   \n",
              "std      11.367288  6.861154e+04   1691.518319    13.036822   6.156896e+05   \n",
              "min       1.000000  1.000000e+00    372.000000     1.000000   6.000000e+02   \n",
              "25%       1.000000  3.125000e+03   1170.000000     2.000000   1.117500e+05   \n",
              "50%       2.000000  3.750000e+03   1550.000000     2.000000   2.180000e+05   \n",
              "75%       2.000000  5.013000e+03   2355.000000     4.000000   3.950000e+05   \n",
              "max     400.000000  2.156000e+06  25000.000000   119.000000   7.500000e+06   \n",
              "\n",
              "          listPrice  \n",
              "count  1.994000e+03  \n",
              "mean   6.012279e+05  \n",
              "std    1.202400e+06  \n",
              "min    1.500000e+02  \n",
              "25%    2.250000e+05  \n",
              "50%    3.499000e+05  \n",
              "75%    5.750000e+05  \n",
              "max    2.350000e+07  "
            ],
            "text/html": [
              "\n",
              "  <div id=\"df-52c6d4bb-2b20-47a7-af37-e145c35e9288\" class=\"colab-df-container\">\n",
              "    <div>\n",
              "<style scoped>\n",
              "    .dataframe tbody tr th:only-of-type {\n",
              "        vertical-align: middle;\n",
              "    }\n",
              "\n",
              "    .dataframe tbody tr th {\n",
              "        vertical-align: top;\n",
              "    }\n",
              "\n",
              "    .dataframe thead th {\n",
              "        text-align: right;\n",
              "    }\n",
              "</style>\n",
              "<table border=\"1\" class=\"dataframe\">\n",
              "  <thead>\n",
              "    <tr style=\"text-align: right;\">\n",
              "      <th></th>\n",
              "      <th>year_built</th>\n",
              "      <th>beds</th>\n",
              "      <th>baths</th>\n",
              "      <th>baths_full</th>\n",
              "      <th>baths_half</th>\n",
              "      <th>garage</th>\n",
              "      <th>lot_sqft</th>\n",
              "      <th>sqft</th>\n",
              "      <th>stories</th>\n",
              "      <th>lastSoldPrice</th>\n",
              "      <th>listPrice</th>\n",
              "    </tr>\n",
              "  </thead>\n",
              "  <tbody>\n",
              "    <tr>\n",
              "      <th>count</th>\n",
              "      <td>1790.000000</td>\n",
              "      <td>1940.00000</td>\n",
              "      <td>1999.00000</td>\n",
              "      <td>1937.000000</td>\n",
              "      <td>592.000000</td>\n",
              "      <td>1282.000000</td>\n",
              "      <td>9.920000e+02</td>\n",
              "      <td>1447.000000</td>\n",
              "      <td>1620.000000</td>\n",
              "      <td>1.415000e+03</td>\n",
              "      <td>1.994000e+03</td>\n",
              "    </tr>\n",
              "    <tr>\n",
              "      <th>mean</th>\n",
              "      <td>1946.050838</td>\n",
              "      <td>3.28866</td>\n",
              "      <td>2.43972</td>\n",
              "      <td>2.155911</td>\n",
              "      <td>1.189189</td>\n",
              "      <td>2.131825</td>\n",
              "      <td>7.156209e+03</td>\n",
              "      <td>2069.910159</td>\n",
              "      <td>7.183951</td>\n",
              "      <td>3.685186e+05</td>\n",
              "      <td>6.012279e+05</td>\n",
              "    </tr>\n",
              "    <tr>\n",
              "      <th>std</th>\n",
              "      <td>38.985904</td>\n",
              "      <td>1.75855</td>\n",
              "      <td>1.45649</td>\n",
              "      <td>1.106637</td>\n",
              "      <td>0.553119</td>\n",
              "      <td>11.367288</td>\n",
              "      <td>6.861154e+04</td>\n",
              "      <td>1691.518319</td>\n",
              "      <td>13.036822</td>\n",
              "      <td>6.156896e+05</td>\n",
              "      <td>1.202400e+06</td>\n",
              "    </tr>\n",
              "    <tr>\n",
              "      <th>min</th>\n",
              "      <td>1856.000000</td>\n",
              "      <td>0.00000</td>\n",
              "      <td>0.00000</td>\n",
              "      <td>1.000000</td>\n",
              "      <td>1.000000</td>\n",
              "      <td>1.000000</td>\n",
              "      <td>1.000000e+00</td>\n",
              "      <td>372.000000</td>\n",
              "      <td>1.000000</td>\n",
              "      <td>6.000000e+02</td>\n",
              "      <td>1.500000e+02</td>\n",
              "    </tr>\n",
              "    <tr>\n",
              "      <th>25%</th>\n",
              "      <td>1916.000000</td>\n",
              "      <td>2.00000</td>\n",
              "      <td>2.00000</td>\n",
              "      <td>1.000000</td>\n",
              "      <td>1.000000</td>\n",
              "      <td>1.000000</td>\n",
              "      <td>3.125000e+03</td>\n",
              "      <td>1170.000000</td>\n",
              "      <td>2.000000</td>\n",
              "      <td>1.117500e+05</td>\n",
              "      <td>2.250000e+05</td>\n",
              "    </tr>\n",
              "    <tr>\n",
              "      <th>50%</th>\n",
              "      <td>1943.000000</td>\n",
              "      <td>3.00000</td>\n",
              "      <td>2.00000</td>\n",
              "      <td>2.000000</td>\n",
              "      <td>1.000000</td>\n",
              "      <td>2.000000</td>\n",
              "      <td>3.750000e+03</td>\n",
              "      <td>1550.000000</td>\n",
              "      <td>2.000000</td>\n",
              "      <td>2.180000e+05</td>\n",
              "      <td>3.499000e+05</td>\n",
              "    </tr>\n",
              "    <tr>\n",
              "      <th>75%</th>\n",
              "      <td>1970.750000</td>\n",
              "      <td>4.00000</td>\n",
              "      <td>3.00000</td>\n",
              "      <td>3.000000</td>\n",
              "      <td>1.000000</td>\n",
              "      <td>2.000000</td>\n",
              "      <td>5.013000e+03</td>\n",
              "      <td>2355.000000</td>\n",
              "      <td>4.000000</td>\n",
              "      <td>3.950000e+05</td>\n",
              "      <td>5.750000e+05</td>\n",
              "    </tr>\n",
              "    <tr>\n",
              "      <th>max</th>\n",
              "      <td>2024.000000</td>\n",
              "      <td>21.00000</td>\n",
              "      <td>13.00000</td>\n",
              "      <td>8.000000</td>\n",
              "      <td>5.000000</td>\n",
              "      <td>400.000000</td>\n",
              "      <td>2.156000e+06</td>\n",
              "      <td>25000.000000</td>\n",
              "      <td>119.000000</td>\n",
              "      <td>7.500000e+06</td>\n",
              "      <td>2.350000e+07</td>\n",
              "    </tr>\n",
              "  </tbody>\n",
              "</table>\n",
              "</div>\n",
              "    <div class=\"colab-df-buttons\">\n",
              "\n",
              "  <div class=\"colab-df-container\">\n",
              "    <button class=\"colab-df-convert\" onclick=\"convertToInteractive('df-52c6d4bb-2b20-47a7-af37-e145c35e9288')\"\n",
              "            title=\"Convert this dataframe to an interactive table.\"\n",
              "            style=\"display:none;\">\n",
              "\n",
              "  <svg xmlns=\"http://www.w3.org/2000/svg\" height=\"24px\" viewBox=\"0 -960 960 960\">\n",
              "    <path d=\"M120-120v-720h720v720H120Zm60-500h600v-160H180v160Zm220 220h160v-160H400v160Zm0 220h160v-160H400v160ZM180-400h160v-160H180v160Zm440 0h160v-160H620v160ZM180-180h160v-160H180v160Zm440 0h160v-160H620v160Z\"/>\n",
              "  </svg>\n",
              "    </button>\n",
              "\n",
              "  <style>\n",
              "    .colab-df-container {\n",
              "      display:flex;\n",
              "      gap: 12px;\n",
              "    }\n",
              "\n",
              "    .colab-df-convert {\n",
              "      background-color: #E8F0FE;\n",
              "      border: none;\n",
              "      border-radius: 50%;\n",
              "      cursor: pointer;\n",
              "      display: none;\n",
              "      fill: #1967D2;\n",
              "      height: 32px;\n",
              "      padding: 0 0 0 0;\n",
              "      width: 32px;\n",
              "    }\n",
              "\n",
              "    .colab-df-convert:hover {\n",
              "      background-color: #E2EBFA;\n",
              "      box-shadow: 0px 1px 2px rgba(60, 64, 67, 0.3), 0px 1px 3px 1px rgba(60, 64, 67, 0.15);\n",
              "      fill: #174EA6;\n",
              "    }\n",
              "\n",
              "    .colab-df-buttons div {\n",
              "      margin-bottom: 4px;\n",
              "    }\n",
              "\n",
              "    [theme=dark] .colab-df-convert {\n",
              "      background-color: #3B4455;\n",
              "      fill: #D2E3FC;\n",
              "    }\n",
              "\n",
              "    [theme=dark] .colab-df-convert:hover {\n",
              "      background-color: #434B5C;\n",
              "      box-shadow: 0px 1px 3px 1px rgba(0, 0, 0, 0.15);\n",
              "      filter: drop-shadow(0px 1px 2px rgba(0, 0, 0, 0.3));\n",
              "      fill: #FFFFFF;\n",
              "    }\n",
              "  </style>\n",
              "\n",
              "    <script>\n",
              "      const buttonEl =\n",
              "        document.querySelector('#df-52c6d4bb-2b20-47a7-af37-e145c35e9288 button.colab-df-convert');\n",
              "      buttonEl.style.display =\n",
              "        google.colab.kernel.accessAllowed ? 'block' : 'none';\n",
              "\n",
              "      async function convertToInteractive(key) {\n",
              "        const element = document.querySelector('#df-52c6d4bb-2b20-47a7-af37-e145c35e9288');\n",
              "        const dataTable =\n",
              "          await google.colab.kernel.invokeFunction('convertToInteractive',\n",
              "                                                    [key], {});\n",
              "        if (!dataTable) return;\n",
              "\n",
              "        const docLinkHtml = 'Like what you see? Visit the ' +\n",
              "          '<a target=\"_blank\" href=https://colab.research.google.com/notebooks/data_table.ipynb>data table notebook</a>'\n",
              "          + ' to learn more about interactive tables.';\n",
              "        element.innerHTML = '';\n",
              "        dataTable['output_type'] = 'display_data';\n",
              "        await google.colab.output.renderOutput(dataTable, element);\n",
              "        const docLink = document.createElement('div');\n",
              "        docLink.innerHTML = docLinkHtml;\n",
              "        element.appendChild(docLink);\n",
              "      }\n",
              "    </script>\n",
              "  </div>\n",
              "\n",
              "\n",
              "<div id=\"df-65dbf1d6-1f09-458a-9d0d-c4824f77a4a2\">\n",
              "  <button class=\"colab-df-quickchart\" onclick=\"quickchart('df-65dbf1d6-1f09-458a-9d0d-c4824f77a4a2')\"\n",
              "            title=\"Suggest charts\"\n",
              "            style=\"display:none;\">\n",
              "\n",
              "<svg xmlns=\"http://www.w3.org/2000/svg\" height=\"24px\"viewBox=\"0 0 24 24\"\n",
              "     width=\"24px\">\n",
              "    <g>\n",
              "        <path d=\"M19 3H5c-1.1 0-2 .9-2 2v14c0 1.1.9 2 2 2h14c1.1 0 2-.9 2-2V5c0-1.1-.9-2-2-2zM9 17H7v-7h2v7zm4 0h-2V7h2v10zm4 0h-2v-4h2v4z\"/>\n",
              "    </g>\n",
              "</svg>\n",
              "  </button>\n",
              "\n",
              "<style>\n",
              "  .colab-df-quickchart {\n",
              "      --bg-color: #E8F0FE;\n",
              "      --fill-color: #1967D2;\n",
              "      --hover-bg-color: #E2EBFA;\n",
              "      --hover-fill-color: #174EA6;\n",
              "      --disabled-fill-color: #AAA;\n",
              "      --disabled-bg-color: #DDD;\n",
              "  }\n",
              "\n",
              "  [theme=dark] .colab-df-quickchart {\n",
              "      --bg-color: #3B4455;\n",
              "      --fill-color: #D2E3FC;\n",
              "      --hover-bg-color: #434B5C;\n",
              "      --hover-fill-color: #FFFFFF;\n",
              "      --disabled-bg-color: #3B4455;\n",
              "      --disabled-fill-color: #666;\n",
              "  }\n",
              "\n",
              "  .colab-df-quickchart {\n",
              "    background-color: var(--bg-color);\n",
              "    border: none;\n",
              "    border-radius: 50%;\n",
              "    cursor: pointer;\n",
              "    display: none;\n",
              "    fill: var(--fill-color);\n",
              "    height: 32px;\n",
              "    padding: 0;\n",
              "    width: 32px;\n",
              "  }\n",
              "\n",
              "  .colab-df-quickchart:hover {\n",
              "    background-color: var(--hover-bg-color);\n",
              "    box-shadow: 0 1px 2px rgba(60, 64, 67, 0.3), 0 1px 3px 1px rgba(60, 64, 67, 0.15);\n",
              "    fill: var(--button-hover-fill-color);\n",
              "  }\n",
              "\n",
              "  .colab-df-quickchart-complete:disabled,\n",
              "  .colab-df-quickchart-complete:disabled:hover {\n",
              "    background-color: var(--disabled-bg-color);\n",
              "    fill: var(--disabled-fill-color);\n",
              "    box-shadow: none;\n",
              "  }\n",
              "\n",
              "  .colab-df-spinner {\n",
              "    border: 2px solid var(--fill-color);\n",
              "    border-color: transparent;\n",
              "    border-bottom-color: var(--fill-color);\n",
              "    animation:\n",
              "      spin 1s steps(1) infinite;\n",
              "  }\n",
              "\n",
              "  @keyframes spin {\n",
              "    0% {\n",
              "      border-color: transparent;\n",
              "      border-bottom-color: var(--fill-color);\n",
              "      border-left-color: var(--fill-color);\n",
              "    }\n",
              "    20% {\n",
              "      border-color: transparent;\n",
              "      border-left-color: var(--fill-color);\n",
              "      border-top-color: var(--fill-color);\n",
              "    }\n",
              "    30% {\n",
              "      border-color: transparent;\n",
              "      border-left-color: var(--fill-color);\n",
              "      border-top-color: var(--fill-color);\n",
              "      border-right-color: var(--fill-color);\n",
              "    }\n",
              "    40% {\n",
              "      border-color: transparent;\n",
              "      border-right-color: var(--fill-color);\n",
              "      border-top-color: var(--fill-color);\n",
              "    }\n",
              "    60% {\n",
              "      border-color: transparent;\n",
              "      border-right-color: var(--fill-color);\n",
              "    }\n",
              "    80% {\n",
              "      border-color: transparent;\n",
              "      border-right-color: var(--fill-color);\n",
              "      border-bottom-color: var(--fill-color);\n",
              "    }\n",
              "    90% {\n",
              "      border-color: transparent;\n",
              "      border-bottom-color: var(--fill-color);\n",
              "    }\n",
              "  }\n",
              "</style>\n",
              "\n",
              "  <script>\n",
              "    async function quickchart(key) {\n",
              "      const quickchartButtonEl =\n",
              "        document.querySelector('#' + key + ' button');\n",
              "      quickchartButtonEl.disabled = true;  // To prevent multiple clicks.\n",
              "      quickchartButtonEl.classList.add('colab-df-spinner');\n",
              "      try {\n",
              "        const charts = await google.colab.kernel.invokeFunction(\n",
              "            'suggestCharts', [key], {});\n",
              "      } catch (error) {\n",
              "        console.error('Error during call to suggestCharts:', error);\n",
              "      }\n",
              "      quickchartButtonEl.classList.remove('colab-df-spinner');\n",
              "      quickchartButtonEl.classList.add('colab-df-quickchart-complete');\n",
              "    }\n",
              "    (() => {\n",
              "      let quickchartButtonEl =\n",
              "        document.querySelector('#df-65dbf1d6-1f09-458a-9d0d-c4824f77a4a2 button');\n",
              "      quickchartButtonEl.style.display =\n",
              "        google.colab.kernel.accessAllowed ? 'block' : 'none';\n",
              "    })();\n",
              "  </script>\n",
              "</div>\n",
              "\n",
              "    </div>\n",
              "  </div>\n"
            ],
            "application/vnd.google.colaboratory.intrinsic+json": {
              "type": "dataframe",
              "summary": "{\n  \"name\": \"realstate\",\n  \"rows\": 8,\n  \"fields\": [\n    {\n      \"column\": \"year_built\",\n      \"properties\": {\n        \"dtype\": \"number\",\n        \"std\": 669.143604337298,\n        \"min\": 38.9859040165293,\n        \"max\": 2024.0,\n        \"num_unique_values\": 8,\n        \"samples\": [\n          1946.0508379888267,\n          1943.0,\n          1790.0\n        ],\n        \"semantic_type\": \"\",\n        \"description\": \"\"\n      }\n    },\n    {\n      \"column\": \"beds\",\n      \"properties\": {\n        \"dtype\": \"number\",\n        \"std\": 684.155629006051,\n        \"min\": 0.0,\n        \"max\": 1940.0,\n        \"num_unique_values\": 8,\n        \"samples\": [\n          3.288659793814433,\n          3.0,\n          1940.0\n        ],\n        \"semantic_type\": \"\",\n        \"description\": \"\"\n      }\n    },\n    {\n      \"column\": \"baths\",\n      \"properties\": {\n        \"dtype\": \"number\",\n        \"std\": 705.557675973626,\n        \"min\": 0.0,\n        \"max\": 1999.0,\n        \"num_unique_values\": 7,\n        \"samples\": [\n          1999.0,\n          2.4397198599299648,\n          3.0\n        ],\n        \"semantic_type\": \"\",\n        \"description\": \"\"\n      }\n    },\n    {\n      \"column\": \"baths_full\",\n      \"properties\": {\n        \"dtype\": \"number\",\n        \"std\": 683.9144075946442,\n        \"min\": 1.0,\n        \"max\": 1937.0,\n        \"num_unique_values\": 7,\n        \"samples\": [\n          1937.0,\n          2.1559112028910685,\n          3.0\n        ],\n        \"semantic_type\": \"\",\n        \"description\": \"\"\n      }\n    },\n    {\n      \"column\": \"baths_half\",\n      \"properties\": {\n        \"dtype\": \"number\",\n        \"std\": 208.7659091882511,\n        \"min\": 0.5531188463835979,\n        \"max\": 592.0,\n        \"num_unique_values\": 5,\n        \"samples\": [\n          1.1891891891891893,\n          5.0,\n          0.5531188463835979\n        ],\n        \"semantic_type\": \"\",\n        \"description\": \"\"\n      }\n    },\n    {\n      \"column\": \"garage\",\n      \"properties\": {\n        \"dtype\": \"number\",\n        \"std\": 453.8376606873291,\n        \"min\": 1.0,\n        \"max\": 1282.0,\n        \"num_unique_values\": 6,\n        \"samples\": [\n          1282.0,\n          2.1318252730109206,\n          400.0\n        ],\n        \"semantic_type\": \"\",\n        \"description\": \"\"\n      }\n    },\n    {\n      \"column\": \"lot_sqft\",\n      \"properties\": {\n        \"dtype\": \"number\",\n        \"std\": 758131.0382388834,\n        \"min\": 1.0,\n        \"max\": 2156000.0,\n        \"num_unique_values\": 8,\n        \"samples\": [\n          7156.208669354839,\n          3750.0,\n          992.0\n        ],\n        \"semantic_type\": \"\",\n        \"description\": \"\"\n      }\n    },\n    {\n      \"column\": \"sqft\",\n      \"properties\": {\n        \"dtype\": \"number\",\n        \"std\": 8321.930431931529,\n        \"min\": 372.0,\n        \"max\": 25000.0,\n        \"num_unique_values\": 8,\n        \"samples\": [\n          2069.910158949551,\n          1550.0,\n          1447.0\n        ],\n        \"semantic_type\": \"\",\n        \"description\": \"\"\n      }\n    },\n    {\n      \"column\": \"stories\",\n      \"properties\": {\n        \"dtype\": \"number\",\n        \"std\": 566.6924058910552,\n        \"min\": 1.0,\n        \"max\": 1620.0,\n        \"num_unique_values\": 7,\n        \"samples\": [\n          1620.0,\n          7.1839506172839505,\n          4.0\n        ],\n        \"semantic_type\": \"\",\n        \"description\": \"\"\n      }\n    },\n    {\n      \"column\": \"lastSoldPrice\",\n      \"properties\": {\n        \"dtype\": \"number\",\n        \"std\": 2573926.009249106,\n        \"min\": 600.0,\n        \"max\": 7500000.0,\n        \"num_unique_values\": 8,\n        \"samples\": [\n          368518.59434628976,\n          218000.0,\n          1415.0\n        ],\n        \"semantic_type\": \"\",\n        \"description\": \"\"\n      }\n    },\n    {\n      \"column\": \"listPrice\",\n      \"properties\": {\n        \"dtype\": \"number\",\n        \"std\": 8168520.623660521,\n        \"min\": 150.0,\n        \"max\": 23500000.0,\n        \"num_unique_values\": 8,\n        \"samples\": [\n          601227.9172517553,\n          349900.0,\n          1994.0\n        ],\n        \"semantic_type\": \"\",\n        \"description\": \"\"\n      }\n    }\n  ]\n}"
            }
          },
          "metadata": {},
          "execution_count": 8
        }
      ]
    },
    {
      "cell_type": "markdown",
      "source": [
        "## **Preprocessing**"
      ],
      "metadata": {
        "id": "a8swHK0TF821"
      }
    },
    {
      "cell_type": "code",
      "source": [
        "realstate.isnull().sum()"
      ],
      "metadata": {
        "colab": {
          "base_uri": "https://localhost:8080/"
        },
        "id": "iDippPTNBXJW",
        "outputId": "42576a71-292e-4ef6-ff25-6729e182e5a6"
      },
      "execution_count": 9,
      "outputs": [
        {
          "output_type": "stream",
          "name": "stderr",
          "text": [
            "/usr/local/lib/python3.10/dist-packages/ipykernel/ipkernel.py:283: DeprecationWarning: `should_run_async` will not call `transform_cell` automatically in the future. Please pass the result to `transformed_cell` argument and any exception that happen during thetransform in `preprocessing_exc_tuple` in IPython 7.17 and above.\n",
            "  and should_run_async(code)\n"
          ]
        },
        {
          "output_type": "execute_result",
          "data": {
            "text/plain": [
              "type                0\n",
              "text                8\n",
              "year_built        210\n",
              "beds               60\n",
              "baths               1\n",
              "baths_full         63\n",
              "baths_half       1408\n",
              "garage            718\n",
              "lot_sqft         1008\n",
              "sqft              553\n",
              "stories           380\n",
              "lastSoldPrice     585\n",
              "soldOn            585\n",
              "listPrice           6\n",
              "status              0\n",
              "dtype: int64"
            ]
          },
          "metadata": {},
          "execution_count": 9
        }
      ]
    },
    {
      "cell_type": "code",
      "source": [
        "realstate.isnull().any().sum()"
      ],
      "metadata": {
        "colab": {
          "base_uri": "https://localhost:8080/"
        },
        "id": "iq0waGo4Bdtb",
        "outputId": "439019e1-356e-4225-c9bf-ad4e6dc8a473"
      },
      "execution_count": 10,
      "outputs": [
        {
          "output_type": "stream",
          "name": "stderr",
          "text": [
            "/usr/local/lib/python3.10/dist-packages/ipykernel/ipkernel.py:283: DeprecationWarning: `should_run_async` will not call `transform_cell` automatically in the future. Please pass the result to `transformed_cell` argument and any exception that happen during thetransform in `preprocessing_exc_tuple` in IPython 7.17 and above.\n",
            "  and should_run_async(code)\n"
          ]
        },
        {
          "output_type": "execute_result",
          "data": {
            "text/plain": [
              "13"
            ]
          },
          "metadata": {},
          "execution_count": 10
        }
      ]
    },
    {
      "cell_type": "code",
      "source": [
        "realstate.isnull().any()"
      ],
      "metadata": {
        "colab": {
          "base_uri": "https://localhost:8080/"
        },
        "id": "aCDCfnfSBib3",
        "outputId": "216fc45b-d110-41c4-b41e-25561dfc7bae"
      },
      "execution_count": 11,
      "outputs": [
        {
          "output_type": "stream",
          "name": "stderr",
          "text": [
            "/usr/local/lib/python3.10/dist-packages/ipykernel/ipkernel.py:283: DeprecationWarning: `should_run_async` will not call `transform_cell` automatically in the future. Please pass the result to `transformed_cell` argument and any exception that happen during thetransform in `preprocessing_exc_tuple` in IPython 7.17 and above.\n",
            "  and should_run_async(code)\n"
          ]
        },
        {
          "output_type": "execute_result",
          "data": {
            "text/plain": [
              "type             False\n",
              "text              True\n",
              "year_built        True\n",
              "beds              True\n",
              "baths             True\n",
              "baths_full        True\n",
              "baths_half        True\n",
              "garage            True\n",
              "lot_sqft          True\n",
              "sqft              True\n",
              "stories           True\n",
              "lastSoldPrice     True\n",
              "soldOn            True\n",
              "listPrice         True\n",
              "status           False\n",
              "dtype: bool"
            ]
          },
          "metadata": {},
          "execution_count": 11
        }
      ]
    },
    {
      "cell_type": "code",
      "source": [
        "realstate[\"beds\"] = realstate['beds'].fillna(realstate['beds'].mean())"
      ],
      "metadata": {
        "id": "4i8vjkwyBo7p",
        "colab": {
          "base_uri": "https://localhost:8080/"
        },
        "outputId": "b75cfc6e-0625-4adf-d955-84e1652f4b1f"
      },
      "execution_count": 12,
      "outputs": [
        {
          "output_type": "stream",
          "name": "stderr",
          "text": [
            "/usr/local/lib/python3.10/dist-packages/ipykernel/ipkernel.py:283: DeprecationWarning: `should_run_async` will not call `transform_cell` automatically in the future. Please pass the result to `transformed_cell` argument and any exception that happen during thetransform in `preprocessing_exc_tuple` in IPython 7.17 and above.\n",
            "  and should_run_async(code)\n"
          ]
        }
      ]
    },
    {
      "cell_type": "code",
      "source": [
        "# Verify that missing values in the 'beds' column have been filled successfully\n",
        "missing_values = realstate['beds'].isnull().sum()\n",
        "missing_values"
      ],
      "metadata": {
        "colab": {
          "base_uri": "https://localhost:8080/"
        },
        "id": "a7TcZPC6CBul",
        "outputId": "909e5eb1-40df-43a2-a297-e9de5eb027fc"
      },
      "execution_count": 13,
      "outputs": [
        {
          "output_type": "stream",
          "name": "stderr",
          "text": [
            "/usr/local/lib/python3.10/dist-packages/ipykernel/ipkernel.py:283: DeprecationWarning: `should_run_async` will not call `transform_cell` automatically in the future. Please pass the result to `transformed_cell` argument and any exception that happen during thetransform in `preprocessing_exc_tuple` in IPython 7.17 and above.\n",
            "  and should_run_async(code)\n"
          ]
        },
        {
          "output_type": "execute_result",
          "data": {
            "text/plain": [
              "0"
            ]
          },
          "metadata": {},
          "execution_count": 13
        }
      ]
    },
    {
      "cell_type": "code",
      "source": [
        "# Optional: Save the modified DataFrame back to a file if needed\n",
        "realstate.to_csv('imputed_data.csv', index=False)"
      ],
      "metadata": {
        "id": "HvlGoq-1CGCr",
        "colab": {
          "base_uri": "https://localhost:8080/"
        },
        "outputId": "4e631577-8b2f-46b3-d53d-c97300c39571"
      },
      "execution_count": 14,
      "outputs": [
        {
          "output_type": "stream",
          "name": "stderr",
          "text": [
            "/usr/local/lib/python3.10/dist-packages/ipykernel/ipkernel.py:283: DeprecationWarning: `should_run_async` will not call `transform_cell` automatically in the future. Please pass the result to `transformed_cell` argument and any exception that happen during thetransform in `preprocessing_exc_tuple` in IPython 7.17 and above.\n",
            "  and should_run_async(code)\n"
          ]
        }
      ]
    },
    {
      "cell_type": "code",
      "source": [
        "realstate.info()"
      ],
      "metadata": {
        "colab": {
          "base_uri": "https://localhost:8080/"
        },
        "id": "KAIi-6T9CJOT",
        "outputId": "5f619443-7fea-4d50-fef7-a4a46892e179"
      },
      "execution_count": 15,
      "outputs": [
        {
          "output_type": "stream",
          "name": "stdout",
          "text": [
            "<class 'pandas.core.frame.DataFrame'>\n",
            "RangeIndex: 2000 entries, 0 to 1999\n",
            "Data columns (total 15 columns):\n",
            " #   Column         Non-Null Count  Dtype  \n",
            "---  ------         --------------  -----  \n",
            " 0   type           2000 non-null   object \n",
            " 1   text           1992 non-null   object \n",
            " 2   year_built     1790 non-null   float64\n",
            " 3   beds           2000 non-null   float64\n",
            " 4   baths          1999 non-null   float64\n",
            " 5   baths_full     1937 non-null   float64\n",
            " 6   baths_half     592 non-null    float64\n",
            " 7   garage         1282 non-null   float64\n",
            " 8   lot_sqft       992 non-null    float64\n",
            " 9   sqft           1447 non-null   float64\n",
            " 10  stories        1620 non-null   float64\n",
            " 11  lastSoldPrice  1415 non-null   float64\n",
            " 12  soldOn         1415 non-null   object \n",
            " 13  listPrice      1994 non-null   float64\n",
            " 14  status         2000 non-null   object \n",
            "dtypes: float64(11), object(4)\n",
            "memory usage: 234.5+ KB\n"
          ]
        },
        {
          "output_type": "stream",
          "name": "stderr",
          "text": [
            "/usr/local/lib/python3.10/dist-packages/ipykernel/ipkernel.py:283: DeprecationWarning: `should_run_async` will not call `transform_cell` automatically in the future. Please pass the result to `transformed_cell` argument and any exception that happen during thetransform in `preprocessing_exc_tuple` in IPython 7.17 and above.\n",
            "  and should_run_async(code)\n"
          ]
        }
      ]
    },
    {
      "cell_type": "code",
      "source": [
        "# Impute missing values in the 'beds' column with the mean of that column\n",
        "realstate['garage'] = realstate['garage'].fillna(realstate['garage'].mean())\n",
        "# Verify that missing values in the 'beds' column have been filled successfully\n",
        "missing_values = realstate['garage'].isnull().sum()\n",
        "missing_values\n",
        "# Optional: Save the modified DataFrame back to a file if needed\n",
        "realstate.to_csv('imputed_data.csv', index=False)"
      ],
      "metadata": {
        "id": "aaiwQyh-CMcZ",
        "colab": {
          "base_uri": "https://localhost:8080/"
        },
        "outputId": "25e70897-226d-487a-904d-27c8c733d412"
      },
      "execution_count": 16,
      "outputs": [
        {
          "output_type": "stream",
          "name": "stderr",
          "text": [
            "/usr/local/lib/python3.10/dist-packages/ipykernel/ipkernel.py:283: DeprecationWarning: `should_run_async` will not call `transform_cell` automatically in the future. Please pass the result to `transformed_cell` argument and any exception that happen during thetransform in `preprocessing_exc_tuple` in IPython 7.17 and above.\n",
            "  and should_run_async(code)\n"
          ]
        }
      ]
    },
    {
      "cell_type": "code",
      "source": [
        "# Impute missing values in the 'baths_half' column with the mean of that column\n",
        "realstate['baths_half'] = realstate['baths_half'].fillna(realstate['baths_half'].mean())\n",
        "# Impute missing values in the 'baths' column with the mean of that column\n",
        "realstate['baths'] = realstate['baths'].fillna(realstate['baths'].mean())\n",
        "# Impute missing values in the 'baths_full' column with the mean of that column\n",
        "realstate['baths_full'] = realstate['baths_full'].fillna(realstate['baths_full'].mean())\n",
        "realstate.to_csv('imputed_data.csv', index=False)"
      ],
      "metadata": {
        "id": "6bzSrf97CREQ",
        "colab": {
          "base_uri": "https://localhost:8080/"
        },
        "outputId": "902239ba-461e-4589-c0da-3d90086adfd7"
      },
      "execution_count": 17,
      "outputs": [
        {
          "output_type": "stream",
          "name": "stderr",
          "text": [
            "/usr/local/lib/python3.10/dist-packages/ipykernel/ipkernel.py:283: DeprecationWarning: `should_run_async` will not call `transform_cell` automatically in the future. Please pass the result to `transformed_cell` argument and any exception that happen during thetransform in `preprocessing_exc_tuple` in IPython 7.17 and above.\n",
            "  and should_run_async(code)\n"
          ]
        }
      ]
    },
    {
      "cell_type": "code",
      "source": [
        "realstate.isnull().any()"
      ],
      "metadata": {
        "colab": {
          "base_uri": "https://localhost:8080/"
        },
        "id": "LNtXPbnECVSU",
        "outputId": "c6d84175-f678-41f9-b7f0-2e0e24584e8f"
      },
      "execution_count": 18,
      "outputs": [
        {
          "output_type": "stream",
          "name": "stderr",
          "text": [
            "/usr/local/lib/python3.10/dist-packages/ipykernel/ipkernel.py:283: DeprecationWarning: `should_run_async` will not call `transform_cell` automatically in the future. Please pass the result to `transformed_cell` argument and any exception that happen during thetransform in `preprocessing_exc_tuple` in IPython 7.17 and above.\n",
            "  and should_run_async(code)\n"
          ]
        },
        {
          "output_type": "execute_result",
          "data": {
            "text/plain": [
              "type             False\n",
              "text              True\n",
              "year_built        True\n",
              "beds             False\n",
              "baths            False\n",
              "baths_full       False\n",
              "baths_half       False\n",
              "garage           False\n",
              "lot_sqft          True\n",
              "sqft              True\n",
              "stories           True\n",
              "lastSoldPrice     True\n",
              "soldOn            True\n",
              "listPrice         True\n",
              "status           False\n",
              "dtype: bool"
            ]
          },
          "metadata": {},
          "execution_count": 18
        }
      ]
    },
    {
      "cell_type": "code",
      "source": [
        "# Impute missing values in the 'baths_half' column with the mean of that column\n",
        "realstate['lot_sqft'] = realstate['lot_sqft'].fillna(realstate['lot_sqft'].mean())\n",
        "realstate['sqft'] = realstate['sqft'].fillna(realstate['sqft'].mean())\n",
        "realstate['stories'] = realstate['stories'].fillna(realstate['stories'].mean())\n",
        "realstate['soldOn'] = realstate['lastSoldPrice'].fillna(realstate['lastSoldPrice'].mean())\n",
        "realstate['listPrice'] = realstate['listPrice'].fillna(realstate['listPrice'].mean())\n",
        "realstate['lastSoldPrice'] = realstate['lastSoldPrice'].fillna(realstate['lastSoldPrice'].mean())\n",
        "realstate.to_csv('imputed_data.csv', index=False)"
      ],
      "metadata": {
        "id": "dPdn2N5CCX2w",
        "colab": {
          "base_uri": "https://localhost:8080/"
        },
        "outputId": "397457ec-c48c-478b-e452-a3533f1d26aa"
      },
      "execution_count": 19,
      "outputs": [
        {
          "output_type": "stream",
          "name": "stderr",
          "text": [
            "/usr/local/lib/python3.10/dist-packages/ipykernel/ipkernel.py:283: DeprecationWarning: `should_run_async` will not call `transform_cell` automatically in the future. Please pass the result to `transformed_cell` argument and any exception that happen during thetransform in `preprocessing_exc_tuple` in IPython 7.17 and above.\n",
            "  and should_run_async(code)\n"
          ]
        }
      ]
    },
    {
      "cell_type": "code",
      "source": [
        "realstate.isnull().any()"
      ],
      "metadata": {
        "colab": {
          "base_uri": "https://localhost:8080/"
        },
        "id": "k3zjKWeSChea",
        "outputId": "7da92ac8-65a9-4b38-a02a-6e3fd67fafb4"
      },
      "execution_count": 20,
      "outputs": [
        {
          "output_type": "stream",
          "name": "stderr",
          "text": [
            "/usr/local/lib/python3.10/dist-packages/ipykernel/ipkernel.py:283: DeprecationWarning: `should_run_async` will not call `transform_cell` automatically in the future. Please pass the result to `transformed_cell` argument and any exception that happen during thetransform in `preprocessing_exc_tuple` in IPython 7.17 and above.\n",
            "  and should_run_async(code)\n"
          ]
        },
        {
          "output_type": "execute_result",
          "data": {
            "text/plain": [
              "type             False\n",
              "text              True\n",
              "year_built        True\n",
              "beds             False\n",
              "baths            False\n",
              "baths_full       False\n",
              "baths_half       False\n",
              "garage           False\n",
              "lot_sqft         False\n",
              "sqft             False\n",
              "stories          False\n",
              "lastSoldPrice    False\n",
              "soldOn           False\n",
              "listPrice        False\n",
              "status           False\n",
              "dtype: bool"
            ]
          },
          "metadata": {},
          "execution_count": 20
        }
      ]
    },
    {
      "cell_type": "code",
      "source": [
        "realstate[\"year_built\"]"
      ],
      "metadata": {
        "colab": {
          "base_uri": "https://localhost:8080/"
        },
        "id": "6D3KQYCBChid",
        "outputId": "e816e658-c78e-4dcb-e506-02335e8684d1"
      },
      "execution_count": 21,
      "outputs": [
        {
          "output_type": "stream",
          "name": "stderr",
          "text": [
            "/usr/local/lib/python3.10/dist-packages/ipykernel/ipkernel.py:283: DeprecationWarning: `should_run_async` will not call `transform_cell` automatically in the future. Please pass the result to `transformed_cell` argument and any exception that happen during thetransform in `preprocessing_exc_tuple` in IPython 7.17 and above.\n",
            "  and should_run_async(code)\n"
          ]
        },
        {
          "output_type": "execute_result",
          "data": {
            "text/plain": [
              "0       1951.0\n",
              "1       1922.0\n",
              "2       1947.0\n",
              "3       1945.0\n",
              "4       1907.0\n",
              "         ...  \n",
              "1995    1961.0\n",
              "1996    1962.0\n",
              "1997    2002.0\n",
              "1998    1946.0\n",
              "1999    1918.0\n",
              "Name: year_built, Length: 2000, dtype: float64"
            ]
          },
          "metadata": {},
          "execution_count": 21
        }
      ]
    },
    {
      "cell_type": "code",
      "source": [
        "realstate['year_built'] = realstate['year_built'].fillna(realstate['year_built'].mean())\n",
        "realstate.to_csv('imputed_data.csv', index=False)"
      ],
      "metadata": {
        "id": "OF5qar8bChmI",
        "colab": {
          "base_uri": "https://localhost:8080/"
        },
        "outputId": "7313550a-5707-4efb-8663-8ae6e8f1c4ba"
      },
      "execution_count": 22,
      "outputs": [
        {
          "output_type": "stream",
          "name": "stderr",
          "text": [
            "/usr/local/lib/python3.10/dist-packages/ipykernel/ipkernel.py:283: DeprecationWarning: `should_run_async` will not call `transform_cell` automatically in the future. Please pass the result to `transformed_cell` argument and any exception that happen during thetransform in `preprocessing_exc_tuple` in IPython 7.17 and above.\n",
            "  and should_run_async(code)\n"
          ]
        }
      ]
    },
    {
      "cell_type": "code",
      "source": [
        "# Replace missing values in the text column with a special category representing missing data\n",
        "special_value = 'Unknown'\n",
        "realstate['text'] = realstate['text'].fillna(special_value)\n",
        "\n",
        "# Optionally, you can save the modified DataFrame back to a file\n",
        "realstate.to_csv('filled_dataset.csv', index=False)"
      ],
      "metadata": {
        "id": "0F1TN-5NChpI",
        "colab": {
          "base_uri": "https://localhost:8080/"
        },
        "outputId": "c980fb12-094e-4f54-f532-db5339f963c9"
      },
      "execution_count": 23,
      "outputs": [
        {
          "output_type": "stream",
          "name": "stderr",
          "text": [
            "/usr/local/lib/python3.10/dist-packages/ipykernel/ipkernel.py:283: DeprecationWarning: `should_run_async` will not call `transform_cell` automatically in the future. Please pass the result to `transformed_cell` argument and any exception that happen during thetransform in `preprocessing_exc_tuple` in IPython 7.17 and above.\n",
            "  and should_run_async(code)\n"
          ]
        }
      ]
    },
    {
      "cell_type": "code",
      "source": [
        "realstate.isnull().any()"
      ],
      "metadata": {
        "colab": {
          "base_uri": "https://localhost:8080/"
        },
        "id": "Lt_5JoPmChrj",
        "outputId": "bbfc52fa-39aa-40b2-8181-c01e4ab2a6e5"
      },
      "execution_count": 24,
      "outputs": [
        {
          "output_type": "stream",
          "name": "stderr",
          "text": [
            "/usr/local/lib/python3.10/dist-packages/ipykernel/ipkernel.py:283: DeprecationWarning: `should_run_async` will not call `transform_cell` automatically in the future. Please pass the result to `transformed_cell` argument and any exception that happen during thetransform in `preprocessing_exc_tuple` in IPython 7.17 and above.\n",
            "  and should_run_async(code)\n"
          ]
        },
        {
          "output_type": "execute_result",
          "data": {
            "text/plain": [
              "type             False\n",
              "text             False\n",
              "year_built       False\n",
              "beds             False\n",
              "baths            False\n",
              "baths_full       False\n",
              "baths_half       False\n",
              "garage           False\n",
              "lot_sqft         False\n",
              "sqft             False\n",
              "stories          False\n",
              "lastSoldPrice    False\n",
              "soldOn           False\n",
              "listPrice        False\n",
              "status           False\n",
              "dtype: bool"
            ]
          },
          "metadata": {},
          "execution_count": 24
        }
      ]
    },
    {
      "cell_type": "code",
      "source": [
        "realstate[\"status\"]"
      ],
      "metadata": {
        "colab": {
          "base_uri": "https://localhost:8080/"
        },
        "id": "hemOp4rnChuQ",
        "outputId": "345a1a23-2775-48a9-ae06-a183bdc79eaa"
      },
      "execution_count": 25,
      "outputs": [
        {
          "output_type": "stream",
          "name": "stderr",
          "text": [
            "/usr/local/lib/python3.10/dist-packages/ipykernel/ipkernel.py:283: DeprecationWarning: `should_run_async` will not call `transform_cell` automatically in the future. Please pass the result to `transformed_cell` argument and any exception that happen during thetransform in `preprocessing_exc_tuple` in IPython 7.17 and above.\n",
            "  and should_run_async(code)\n"
          ]
        },
        {
          "output_type": "execute_result",
          "data": {
            "text/plain": [
              "0       for_sale\n",
              "1       for_sale\n",
              "2       for_sale\n",
              "3       for_sale\n",
              "4       for_sale\n",
              "          ...   \n",
              "1995    for_sale\n",
              "1996    for_sale\n",
              "1997    for_sale\n",
              "1998    for_sale\n",
              "1999    for_sale\n",
              "Name: status, Length: 2000, dtype: object"
            ]
          },
          "metadata": {},
          "execution_count": 25
        }
      ]
    },
    {
      "cell_type": "code",
      "source": [
        "realstate[\"soldOn\"]"
      ],
      "metadata": {
        "colab": {
          "base_uri": "https://localhost:8080/"
        },
        "id": "Z8Qf3RQrChw5",
        "outputId": "d59b2ce8-b297-4fe4-906c-c34b9aa7cd7d"
      },
      "execution_count": 26,
      "outputs": [
        {
          "output_type": "stream",
          "name": "stderr",
          "text": [
            "/usr/local/lib/python3.10/dist-packages/ipykernel/ipkernel.py:283: DeprecationWarning: `should_run_async` will not call `transform_cell` automatically in the future. Please pass the result to `transformed_cell` argument and any exception that happen during thetransform in `preprocessing_exc_tuple` in IPython 7.17 and above.\n",
            "  and should_run_async(code)\n"
          ]
        },
        {
          "output_type": "execute_result",
          "data": {
            "text/plain": [
              "0       3.685186e+05\n",
              "1       1.050000e+05\n",
              "2       6.000000e+04\n",
              "3       1.700000e+05\n",
              "4       3.685186e+05\n",
              "            ...     \n",
              "1995    1.480000e+05\n",
              "1996    3.685186e+05\n",
              "1997    1.705000e+06\n",
              "1998    3.685186e+05\n",
              "1999    4.250000e+04\n",
              "Name: soldOn, Length: 2000, dtype: float64"
            ]
          },
          "metadata": {},
          "execution_count": 26
        }
      ]
    },
    {
      "cell_type": "code",
      "source": [
        "realstate.isnull().any().sum()"
      ],
      "metadata": {
        "colab": {
          "base_uri": "https://localhost:8080/"
        },
        "id": "yYB7MlCeDBsg",
        "outputId": "c7bdeefa-3576-49eb-c6fc-8ee39cb5961a"
      },
      "execution_count": 27,
      "outputs": [
        {
          "output_type": "stream",
          "name": "stderr",
          "text": [
            "/usr/local/lib/python3.10/dist-packages/ipykernel/ipkernel.py:283: DeprecationWarning: `should_run_async` will not call `transform_cell` automatically in the future. Please pass the result to `transformed_cell` argument and any exception that happen during thetransform in `preprocessing_exc_tuple` in IPython 7.17 and above.\n",
            "  and should_run_async(code)\n"
          ]
        },
        {
          "output_type": "execute_result",
          "data": {
            "text/plain": [
              "0"
            ]
          },
          "metadata": {},
          "execution_count": 27
        }
      ]
    },
    {
      "cell_type": "code",
      "source": [
        "realstate.head(5)"
      ],
      "metadata": {
        "colab": {
          "base_uri": "https://localhost:8080/",
          "height": 400
        },
        "id": "G1EZWpbSDKNJ",
        "outputId": "916efaac-f804-4490-a6d9-fbcda9f258e3"
      },
      "execution_count": 28,
      "outputs": [
        {
          "output_type": "stream",
          "name": "stderr",
          "text": [
            "/usr/local/lib/python3.10/dist-packages/ipykernel/ipkernel.py:283: DeprecationWarning: `should_run_async` will not call `transform_cell` automatically in the future. Please pass the result to `transformed_cell` argument and any exception that happen during thetransform in `preprocessing_exc_tuple` in IPython 7.17 and above.\n",
            "  and should_run_async(code)\n"
          ]
        },
        {
          "output_type": "execute_result",
          "data": {
            "text/plain": [
              "            type                                               text  \\\n",
              "0  single_family  Come check out this amazing, move-in ready, 5 ...   \n",
              "1  single_family  Move in ready 2 story Mount Greenwood home on ...   \n",
              "2  single_family  Investor Special MONEY MAKING Gem. This is you...   \n",
              "3  single_family  Renovated Brick 1.5 story house with finished ...   \n",
              "4  single_family  This almost 3000sq foot home was thoughtfully ...   \n",
              "\n",
              "   year_built  beds  baths  baths_full  baths_half  garage  lot_sqft    sqft  \\\n",
              "0      1951.0   4.0    4.0         3.0    1.000000     1.0    5615.0  3000.0   \n",
              "1      1922.0   4.0    3.0         2.0    1.000000     2.0    6566.0  2900.0   \n",
              "2      1947.0   4.0    2.0         2.0    1.189189     3.0    5375.0  1170.0   \n",
              "3      1945.0   4.0    3.0         2.0    1.000000     2.0    6138.0  2511.0   \n",
              "4      1907.0   4.0    4.0         2.0    2.000000     2.0    8476.0  2870.0   \n",
              "\n",
              "   stories  lastSoldPrice         soldOn  listPrice    status  \n",
              "0      2.0  368518.594346  368518.594346   750000.0  for_sale  \n",
              "1      2.0  105000.000000  105000.000000   499900.0  for_sale  \n",
              "2      2.0   60000.000000   60000.000000   325600.0  for_sale  \n",
              "3      2.0  170000.000000  170000.000000   620000.0  for_sale  \n",
              "4      3.0  368518.594346  368518.594346   850000.0  for_sale  "
            ],
            "text/html": [
              "\n",
              "  <div id=\"df-bd993a69-0439-40a1-8a1d-936182f57d66\" class=\"colab-df-container\">\n",
              "    <div>\n",
              "<style scoped>\n",
              "    .dataframe tbody tr th:only-of-type {\n",
              "        vertical-align: middle;\n",
              "    }\n",
              "\n",
              "    .dataframe tbody tr th {\n",
              "        vertical-align: top;\n",
              "    }\n",
              "\n",
              "    .dataframe thead th {\n",
              "        text-align: right;\n",
              "    }\n",
              "</style>\n",
              "<table border=\"1\" class=\"dataframe\">\n",
              "  <thead>\n",
              "    <tr style=\"text-align: right;\">\n",
              "      <th></th>\n",
              "      <th>type</th>\n",
              "      <th>text</th>\n",
              "      <th>year_built</th>\n",
              "      <th>beds</th>\n",
              "      <th>baths</th>\n",
              "      <th>baths_full</th>\n",
              "      <th>baths_half</th>\n",
              "      <th>garage</th>\n",
              "      <th>lot_sqft</th>\n",
              "      <th>sqft</th>\n",
              "      <th>stories</th>\n",
              "      <th>lastSoldPrice</th>\n",
              "      <th>soldOn</th>\n",
              "      <th>listPrice</th>\n",
              "      <th>status</th>\n",
              "    </tr>\n",
              "  </thead>\n",
              "  <tbody>\n",
              "    <tr>\n",
              "      <th>0</th>\n",
              "      <td>single_family</td>\n",
              "      <td>Come check out this amazing, move-in ready, 5 ...</td>\n",
              "      <td>1951.0</td>\n",
              "      <td>4.0</td>\n",
              "      <td>4.0</td>\n",
              "      <td>3.0</td>\n",
              "      <td>1.000000</td>\n",
              "      <td>1.0</td>\n",
              "      <td>5615.0</td>\n",
              "      <td>3000.0</td>\n",
              "      <td>2.0</td>\n",
              "      <td>368518.594346</td>\n",
              "      <td>368518.594346</td>\n",
              "      <td>750000.0</td>\n",
              "      <td>for_sale</td>\n",
              "    </tr>\n",
              "    <tr>\n",
              "      <th>1</th>\n",
              "      <td>single_family</td>\n",
              "      <td>Move in ready 2 story Mount Greenwood home on ...</td>\n",
              "      <td>1922.0</td>\n",
              "      <td>4.0</td>\n",
              "      <td>3.0</td>\n",
              "      <td>2.0</td>\n",
              "      <td>1.000000</td>\n",
              "      <td>2.0</td>\n",
              "      <td>6566.0</td>\n",
              "      <td>2900.0</td>\n",
              "      <td>2.0</td>\n",
              "      <td>105000.000000</td>\n",
              "      <td>105000.000000</td>\n",
              "      <td>499900.0</td>\n",
              "      <td>for_sale</td>\n",
              "    </tr>\n",
              "    <tr>\n",
              "      <th>2</th>\n",
              "      <td>single_family</td>\n",
              "      <td>Investor Special MONEY MAKING Gem. This is you...</td>\n",
              "      <td>1947.0</td>\n",
              "      <td>4.0</td>\n",
              "      <td>2.0</td>\n",
              "      <td>2.0</td>\n",
              "      <td>1.189189</td>\n",
              "      <td>3.0</td>\n",
              "      <td>5375.0</td>\n",
              "      <td>1170.0</td>\n",
              "      <td>2.0</td>\n",
              "      <td>60000.000000</td>\n",
              "      <td>60000.000000</td>\n",
              "      <td>325600.0</td>\n",
              "      <td>for_sale</td>\n",
              "    </tr>\n",
              "    <tr>\n",
              "      <th>3</th>\n",
              "      <td>single_family</td>\n",
              "      <td>Renovated Brick 1.5 story house with finished ...</td>\n",
              "      <td>1945.0</td>\n",
              "      <td>4.0</td>\n",
              "      <td>3.0</td>\n",
              "      <td>2.0</td>\n",
              "      <td>1.000000</td>\n",
              "      <td>2.0</td>\n",
              "      <td>6138.0</td>\n",
              "      <td>2511.0</td>\n",
              "      <td>2.0</td>\n",
              "      <td>170000.000000</td>\n",
              "      <td>170000.000000</td>\n",
              "      <td>620000.0</td>\n",
              "      <td>for_sale</td>\n",
              "    </tr>\n",
              "    <tr>\n",
              "      <th>4</th>\n",
              "      <td>single_family</td>\n",
              "      <td>This almost 3000sq foot home was thoughtfully ...</td>\n",
              "      <td>1907.0</td>\n",
              "      <td>4.0</td>\n",
              "      <td>4.0</td>\n",
              "      <td>2.0</td>\n",
              "      <td>2.000000</td>\n",
              "      <td>2.0</td>\n",
              "      <td>8476.0</td>\n",
              "      <td>2870.0</td>\n",
              "      <td>3.0</td>\n",
              "      <td>368518.594346</td>\n",
              "      <td>368518.594346</td>\n",
              "      <td>850000.0</td>\n",
              "      <td>for_sale</td>\n",
              "    </tr>\n",
              "  </tbody>\n",
              "</table>\n",
              "</div>\n",
              "    <div class=\"colab-df-buttons\">\n",
              "\n",
              "  <div class=\"colab-df-container\">\n",
              "    <button class=\"colab-df-convert\" onclick=\"convertToInteractive('df-bd993a69-0439-40a1-8a1d-936182f57d66')\"\n",
              "            title=\"Convert this dataframe to an interactive table.\"\n",
              "            style=\"display:none;\">\n",
              "\n",
              "  <svg xmlns=\"http://www.w3.org/2000/svg\" height=\"24px\" viewBox=\"0 -960 960 960\">\n",
              "    <path d=\"M120-120v-720h720v720H120Zm60-500h600v-160H180v160Zm220 220h160v-160H400v160Zm0 220h160v-160H400v160ZM180-400h160v-160H180v160Zm440 0h160v-160H620v160ZM180-180h160v-160H180v160Zm440 0h160v-160H620v160Z\"/>\n",
              "  </svg>\n",
              "    </button>\n",
              "\n",
              "  <style>\n",
              "    .colab-df-container {\n",
              "      display:flex;\n",
              "      gap: 12px;\n",
              "    }\n",
              "\n",
              "    .colab-df-convert {\n",
              "      background-color: #E8F0FE;\n",
              "      border: none;\n",
              "      border-radius: 50%;\n",
              "      cursor: pointer;\n",
              "      display: none;\n",
              "      fill: #1967D2;\n",
              "      height: 32px;\n",
              "      padding: 0 0 0 0;\n",
              "      width: 32px;\n",
              "    }\n",
              "\n",
              "    .colab-df-convert:hover {\n",
              "      background-color: #E2EBFA;\n",
              "      box-shadow: 0px 1px 2px rgba(60, 64, 67, 0.3), 0px 1px 3px 1px rgba(60, 64, 67, 0.15);\n",
              "      fill: #174EA6;\n",
              "    }\n",
              "\n",
              "    .colab-df-buttons div {\n",
              "      margin-bottom: 4px;\n",
              "    }\n",
              "\n",
              "    [theme=dark] .colab-df-convert {\n",
              "      background-color: #3B4455;\n",
              "      fill: #D2E3FC;\n",
              "    }\n",
              "\n",
              "    [theme=dark] .colab-df-convert:hover {\n",
              "      background-color: #434B5C;\n",
              "      box-shadow: 0px 1px 3px 1px rgba(0, 0, 0, 0.15);\n",
              "      filter: drop-shadow(0px 1px 2px rgba(0, 0, 0, 0.3));\n",
              "      fill: #FFFFFF;\n",
              "    }\n",
              "  </style>\n",
              "\n",
              "    <script>\n",
              "      const buttonEl =\n",
              "        document.querySelector('#df-bd993a69-0439-40a1-8a1d-936182f57d66 button.colab-df-convert');\n",
              "      buttonEl.style.display =\n",
              "        google.colab.kernel.accessAllowed ? 'block' : 'none';\n",
              "\n",
              "      async function convertToInteractive(key) {\n",
              "        const element = document.querySelector('#df-bd993a69-0439-40a1-8a1d-936182f57d66');\n",
              "        const dataTable =\n",
              "          await google.colab.kernel.invokeFunction('convertToInteractive',\n",
              "                                                    [key], {});\n",
              "        if (!dataTable) return;\n",
              "\n",
              "        const docLinkHtml = 'Like what you see? Visit the ' +\n",
              "          '<a target=\"_blank\" href=https://colab.research.google.com/notebooks/data_table.ipynb>data table notebook</a>'\n",
              "          + ' to learn more about interactive tables.';\n",
              "        element.innerHTML = '';\n",
              "        dataTable['output_type'] = 'display_data';\n",
              "        await google.colab.output.renderOutput(dataTable, element);\n",
              "        const docLink = document.createElement('div');\n",
              "        docLink.innerHTML = docLinkHtml;\n",
              "        element.appendChild(docLink);\n",
              "      }\n",
              "    </script>\n",
              "  </div>\n",
              "\n",
              "\n",
              "<div id=\"df-8b4a8ad7-2875-45fe-9b5a-9192e748fd43\">\n",
              "  <button class=\"colab-df-quickchart\" onclick=\"quickchart('df-8b4a8ad7-2875-45fe-9b5a-9192e748fd43')\"\n",
              "            title=\"Suggest charts\"\n",
              "            style=\"display:none;\">\n",
              "\n",
              "<svg xmlns=\"http://www.w3.org/2000/svg\" height=\"24px\"viewBox=\"0 0 24 24\"\n",
              "     width=\"24px\">\n",
              "    <g>\n",
              "        <path d=\"M19 3H5c-1.1 0-2 .9-2 2v14c0 1.1.9 2 2 2h14c1.1 0 2-.9 2-2V5c0-1.1-.9-2-2-2zM9 17H7v-7h2v7zm4 0h-2V7h2v10zm4 0h-2v-4h2v4z\"/>\n",
              "    </g>\n",
              "</svg>\n",
              "  </button>\n",
              "\n",
              "<style>\n",
              "  .colab-df-quickchart {\n",
              "      --bg-color: #E8F0FE;\n",
              "      --fill-color: #1967D2;\n",
              "      --hover-bg-color: #E2EBFA;\n",
              "      --hover-fill-color: #174EA6;\n",
              "      --disabled-fill-color: #AAA;\n",
              "      --disabled-bg-color: #DDD;\n",
              "  }\n",
              "\n",
              "  [theme=dark] .colab-df-quickchart {\n",
              "      --bg-color: #3B4455;\n",
              "      --fill-color: #D2E3FC;\n",
              "      --hover-bg-color: #434B5C;\n",
              "      --hover-fill-color: #FFFFFF;\n",
              "      --disabled-bg-color: #3B4455;\n",
              "      --disabled-fill-color: #666;\n",
              "  }\n",
              "\n",
              "  .colab-df-quickchart {\n",
              "    background-color: var(--bg-color);\n",
              "    border: none;\n",
              "    border-radius: 50%;\n",
              "    cursor: pointer;\n",
              "    display: none;\n",
              "    fill: var(--fill-color);\n",
              "    height: 32px;\n",
              "    padding: 0;\n",
              "    width: 32px;\n",
              "  }\n",
              "\n",
              "  .colab-df-quickchart:hover {\n",
              "    background-color: var(--hover-bg-color);\n",
              "    box-shadow: 0 1px 2px rgba(60, 64, 67, 0.3), 0 1px 3px 1px rgba(60, 64, 67, 0.15);\n",
              "    fill: var(--button-hover-fill-color);\n",
              "  }\n",
              "\n",
              "  .colab-df-quickchart-complete:disabled,\n",
              "  .colab-df-quickchart-complete:disabled:hover {\n",
              "    background-color: var(--disabled-bg-color);\n",
              "    fill: var(--disabled-fill-color);\n",
              "    box-shadow: none;\n",
              "  }\n",
              "\n",
              "  .colab-df-spinner {\n",
              "    border: 2px solid var(--fill-color);\n",
              "    border-color: transparent;\n",
              "    border-bottom-color: var(--fill-color);\n",
              "    animation:\n",
              "      spin 1s steps(1) infinite;\n",
              "  }\n",
              "\n",
              "  @keyframes spin {\n",
              "    0% {\n",
              "      border-color: transparent;\n",
              "      border-bottom-color: var(--fill-color);\n",
              "      border-left-color: var(--fill-color);\n",
              "    }\n",
              "    20% {\n",
              "      border-color: transparent;\n",
              "      border-left-color: var(--fill-color);\n",
              "      border-top-color: var(--fill-color);\n",
              "    }\n",
              "    30% {\n",
              "      border-color: transparent;\n",
              "      border-left-color: var(--fill-color);\n",
              "      border-top-color: var(--fill-color);\n",
              "      border-right-color: var(--fill-color);\n",
              "    }\n",
              "    40% {\n",
              "      border-color: transparent;\n",
              "      border-right-color: var(--fill-color);\n",
              "      border-top-color: var(--fill-color);\n",
              "    }\n",
              "    60% {\n",
              "      border-color: transparent;\n",
              "      border-right-color: var(--fill-color);\n",
              "    }\n",
              "    80% {\n",
              "      border-color: transparent;\n",
              "      border-right-color: var(--fill-color);\n",
              "      border-bottom-color: var(--fill-color);\n",
              "    }\n",
              "    90% {\n",
              "      border-color: transparent;\n",
              "      border-bottom-color: var(--fill-color);\n",
              "    }\n",
              "  }\n",
              "</style>\n",
              "\n",
              "  <script>\n",
              "    async function quickchart(key) {\n",
              "      const quickchartButtonEl =\n",
              "        document.querySelector('#' + key + ' button');\n",
              "      quickchartButtonEl.disabled = true;  // To prevent multiple clicks.\n",
              "      quickchartButtonEl.classList.add('colab-df-spinner');\n",
              "      try {\n",
              "        const charts = await google.colab.kernel.invokeFunction(\n",
              "            'suggestCharts', [key], {});\n",
              "      } catch (error) {\n",
              "        console.error('Error during call to suggestCharts:', error);\n",
              "      }\n",
              "      quickchartButtonEl.classList.remove('colab-df-spinner');\n",
              "      quickchartButtonEl.classList.add('colab-df-quickchart-complete');\n",
              "    }\n",
              "    (() => {\n",
              "      let quickchartButtonEl =\n",
              "        document.querySelector('#df-8b4a8ad7-2875-45fe-9b5a-9192e748fd43 button');\n",
              "      quickchartButtonEl.style.display =\n",
              "        google.colab.kernel.accessAllowed ? 'block' : 'none';\n",
              "    })();\n",
              "  </script>\n",
              "</div>\n",
              "\n",
              "    </div>\n",
              "  </div>\n"
            ],
            "application/vnd.google.colaboratory.intrinsic+json": {
              "type": "dataframe",
              "variable_name": "realstate",
              "summary": "{\n  \"name\": \"realstate\",\n  \"rows\": 2000,\n  \"fields\": [\n    {\n      \"column\": \"type\",\n      \"properties\": {\n        \"dtype\": \"category\",\n        \"num_unique_values\": 7,\n        \"samples\": [\n          \"single_family\",\n          \"multi_family\",\n          \"land\"\n        ],\n        \"semantic_type\": \"\",\n        \"description\": \"\"\n      }\n    },\n    {\n      \"column\": \"text\",\n      \"properties\": {\n        \"dtype\": \"string\",\n        \"num_unique_values\": 1982,\n        \"samples\": [\n          \"In the heart of the storied Oakland community, nestled proudly overlooking the Boulevard, stands a majestic relic of the past, awaiting its renaissance. The ME Team brings you an exclusive insight into the magnificent Greystone at 4123 S Drexel Avenue, an architectural masterpiece waiting to be reborn. This three-unit Greystone, a testament to the grandeur of yesteryears, beckons investors, dreamers, and visionaries alike. With its stately gray stone facade casting an imposing silhouette against the skyline, this property is a timeless symbol of elegance and potential. What sets this property apart is not just its historical significance, but the myriad of opportunities it presents. In need of total rehabilitation, this blank canvas offers the chance to transform and revitalize, breathing new life into its 5260 square feet of living space. With four majestic fireplaces lending an air of opulence, and the possibility to duplex down, the potential for grandeur is limitless. Imagine the opportunity to offset your mortgage with the rental income from the other two units, or to craft a singular haven, a sprawling single-family mansion befitting of royalty. The choice is yours, limited only by the bounds of your imagination. Venturing below, discover an additional unit awaiting transformation in the lower level, offering even more potential for expansion or rental income. And with the property boasting both forced air and a boiler system, modern amenities can seamlessly meld with the historic charm, ensuring comfort and efficiency for generations to come. But perhaps the most compelling aspect of this property lies not just in its bricks and mortar, but in its enviable location. Oakland, a community steeped in history and culture, offers more than just a place to live - it offers the promise of generational wealth. In the equation of Location + Land, the sum is far greater than its parts, promising a legacy that transcends time.\",\n          \"If you've been down Logan Boulevard during the holidays then you KNOW this house, beautifully situated on the corner of Logan and Washtenaw, this is THE Christmas House. 2656 is on an oversized double lot with 48 feet of frontage on the boulevard and 166 feet of frontage on Washtenaw. The interior of the home is extra wide and sun filled with southern + western exposures. Enjoy Logan Square from the back yard with plenty of room for fun + relaxation. The home is ready for your ideas - bring your contractor and passion for vintage homes - it's in need of a full rehab. 2656 Logan is waiting for you, its next owner. The home is located in the landmarks district and is 'orange lined'. ORANGE (OR) properties possess some architectural feature or historical association that made them potentially significant in the context of the surrounding community. About 9,600 properties are categorized as 'Orange' in the CHRS. Will you be the lucky next owner? (Rooms sizes are estimates, not guaranteed, verify by buyer)\",\n          \"Excellent opportunity for an experienced Contractor, Handyman, or Investor. The property sits on two City Lots and is sold in its As Is condition. The seller does not provide a survey. Taxes are prorated at 100 percent. Buyer agrees to purchase subject to existing building violations. Proof of Funds is Required with all Offers. Due to Condition, Cash Only.\"\n        ],\n        \"semantic_type\": \"\",\n        \"description\": \"\"\n      }\n    },\n    {\n      \"column\": \"year_built\",\n      \"properties\": {\n        \"dtype\": \"number\",\n        \"std\": 36.88131373097723,\n        \"min\": 1856.0,\n        \"max\": 2024.0,\n        \"num_unique_values\": 150,\n        \"samples\": [\n          2021.0,\n          1962.0,\n          2020.0\n        ],\n        \"semantic_type\": \"\",\n        \"description\": \"\"\n      }\n    },\n    {\n      \"column\": \"beds\",\n      \"properties\": {\n        \"dtype\": \"number\",\n        \"std\": 1.7319570131153943,\n        \"min\": 0.0,\n        \"max\": 21.0,\n        \"num_unique_values\": 15,\n        \"samples\": [\n          0.0,\n          10.0,\n          4.0\n        ],\n        \"semantic_type\": \"\",\n        \"description\": \"\"\n      }\n    },\n    {\n      \"column\": \"baths\",\n      \"properties\": {\n        \"dtype\": \"number\",\n        \"std\": 1.4561261185753722,\n        \"min\": 0.0,\n        \"max\": 13.0,\n        \"num_unique_values\": 14,\n        \"samples\": [\n          13.0,\n          8.0,\n          4.0\n        ],\n        \"semantic_type\": \"\",\n        \"description\": \"\"\n      }\n    },\n    {\n      \"column\": \"baths_full\",\n      \"properties\": {\n        \"dtype\": \"number\",\n        \"std\": 1.0890594261013669,\n        \"min\": 1.0,\n        \"max\": 8.0,\n        \"num_unique_values\": 9,\n        \"samples\": [\n          6.0,\n          2.0,\n          5.0\n        ],\n        \"semantic_type\": \"\",\n        \"description\": \"\"\n      }\n    },\n    {\n      \"column\": \"baths_half\",\n      \"properties\": {\n        \"dtype\": \"number\",\n        \"std\": 0.30075011341771063,\n        \"min\": 1.0,\n        \"max\": 5.0,\n        \"num_unique_values\": 6,\n        \"samples\": [\n          1.0,\n          1.1891891891891893,\n          5.0\n        ],\n        \"semantic_type\": \"\",\n        \"description\": \"\"\n      }\n    },\n    {\n      \"column\": \"garage\",\n      \"properties\": {\n        \"dtype\": \"number\",\n        \"std\": 9.099657281774597,\n        \"min\": 1.0,\n        \"max\": 400.0,\n        \"num_unique_values\": 11,\n        \"samples\": [\n          4.0,\n          1.0,\n          75.0\n        ],\n        \"semantic_type\": \"\",\n        \"description\": \"\"\n      }\n    },\n    {\n      \"column\": \"lot_sqft\",\n      \"properties\": {\n        \"dtype\": \"number\",\n        \"std\": 48308.9474329336,\n        \"min\": 1.0,\n        \"max\": 2156000.0,\n        \"num_unique_values\": 445,\n        \"samples\": [\n          3781.0,\n          4883.0,\n          2700.0\n        ],\n        \"semantic_type\": \"\",\n        \"description\": \"\"\n      }\n    },\n    {\n      \"column\": \"sqft\",\n      \"properties\": {\n        \"dtype\": \"number\",\n        \"std\": 1438.647697234702,\n        \"min\": 372.0,\n        \"max\": 25000.0,\n        \"num_unique_values\": 680,\n        \"samples\": [\n          1509.0,\n          2755.0,\n          977.0\n        ],\n        \"semantic_type\": \"\",\n        \"description\": \"\"\n      }\n    },\n    {\n      \"column\": \"stories\",\n      \"properties\": {\n        \"dtype\": \"number\",\n        \"std\": 11.732451430383499,\n        \"min\": 1.0,\n        \"max\": 119.0,\n        \"num_unique_values\": 65,\n        \"samples\": [\n          100.0,\n          53.0,\n          2.0\n        ],\n        \"semantic_type\": \"\",\n        \"description\": \"\"\n      }\n    },\n    {\n      \"column\": \"lastSoldPrice\",\n      \"properties\": {\n        \"dtype\": \"number\",\n        \"std\": 517821.52196824766,\n        \"min\": 600.0,\n        \"max\": 7500000.0,\n        \"num_unique_values\": 644,\n        \"samples\": [\n          134500.0,\n          123000.0,\n          453000.0\n        ],\n        \"semantic_type\": \"\",\n        \"description\": \"\"\n      }\n    },\n    {\n      \"column\": \"soldOn\",\n      \"properties\": {\n        \"dtype\": \"number\",\n        \"std\": 517821.52196824766,\n        \"min\": 600.0,\n        \"max\": 7500000.0,\n        \"num_unique_values\": 644,\n        \"samples\": [\n          134500.0,\n          123000.0,\n          453000.0\n        ],\n        \"semantic_type\": \"\",\n        \"description\": \"\"\n      }\n    },\n    {\n      \"column\": \"listPrice\",\n      \"properties\": {\n        \"dtype\": \"number\",\n        \"std\": 1200593.7736534225,\n        \"min\": 150.0,\n        \"max\": 23500000.0,\n        \"num_unique_values\": 714,\n        \"samples\": [\n          180000.0,\n          739000.0,\n          2049000.0\n        ],\n        \"semantic_type\": \"\",\n        \"description\": \"\"\n      }\n    },\n    {\n      \"column\": \"status\",\n      \"properties\": {\n        \"dtype\": \"category\",\n        \"num_unique_values\": 2,\n        \"samples\": [\n          \"ready_to_build\",\n          \"for_sale\"\n        ],\n        \"semantic_type\": \"\",\n        \"description\": \"\"\n      }\n    }\n  ]\n}"
            }
          },
          "metadata": {},
          "execution_count": 28
        }
      ]
    },
    {
      "cell_type": "markdown",
      "source": [
        "## **Feature Engineering**"
      ],
      "metadata": {
        "id": "a9LyhqLsDVPA"
      }
    },
    {
      "cell_type": "markdown",
      "source": [
        "#### **Label Encoding**"
      ],
      "metadata": {
        "id": "3ZQE76f7Dgfo"
      }
    },
    {
      "cell_type": "code",
      "source": [
        "from sklearn.preprocessing import LabelEncoder\n",
        "# Initialize LabelEncoder\n",
        "label_encoder = LabelEncoder()\n",
        "\n",
        "# Apply label encoding to each categorical column\n",
        "for col in ['type', 'status','text']:\n",
        "    realstate[col] = label_encoder.fit_transform(realstate[col])\n",
        "\n",
        "# Optionally, you can save the encoded DataFrame back to a file\n",
        "realstate.to_csv('encoded_dataset_label.csv', index=False)\n"
      ],
      "metadata": {
        "id": "n71TD2CJDRb2",
        "colab": {
          "base_uri": "https://localhost:8080/"
        },
        "outputId": "1fcc44e2-d630-44d3-dc46-b9b69652215a"
      },
      "execution_count": 29,
      "outputs": [
        {
          "output_type": "stream",
          "name": "stderr",
          "text": [
            "/usr/local/lib/python3.10/dist-packages/ipykernel/ipkernel.py:283: DeprecationWarning: `should_run_async` will not call `transform_cell` automatically in the future. Please pass the result to `transformed_cell` argument and any exception that happen during thetransform in `preprocessing_exc_tuple` in IPython 7.17 and above.\n",
            "  and should_run_async(code)\n"
          ]
        }
      ]
    },
    {
      "cell_type": "code",
      "source": [
        "realstate.head(3)"
      ],
      "metadata": {
        "colab": {
          "base_uri": "https://localhost:8080/",
          "height": 198
        },
        "id": "rXN_V2QEDk6U",
        "outputId": "40002a52-d6fa-4c5e-90ec-7a049482f1b4"
      },
      "execution_count": 30,
      "outputs": [
        {
          "output_type": "stream",
          "name": "stderr",
          "text": [
            "/usr/local/lib/python3.10/dist-packages/ipykernel/ipkernel.py:283: DeprecationWarning: `should_run_async` will not call `transform_cell` automatically in the future. Please pass the result to `transformed_cell` argument and any exception that happen during thetransform in `preprocessing_exc_tuple` in IPython 7.17 and above.\n",
            "  and should_run_async(code)\n"
          ]
        },
        {
          "output_type": "execute_result",
          "data": {
            "text/plain": [
              "   type  text  year_built  beds  baths  baths_full  baths_half  garage  \\\n",
              "0     5   327      1951.0   4.0    4.0         3.0    1.000000     1.0   \n",
              "1     5   952      1922.0   4.0    3.0         2.0    1.000000     2.0   \n",
              "2     5   797      1947.0   4.0    2.0         2.0    1.189189     3.0   \n",
              "\n",
              "   lot_sqft    sqft  stories  lastSoldPrice         soldOn  listPrice  status  \n",
              "0    5615.0  3000.0      2.0  368518.594346  368518.594346   750000.0       0  \n",
              "1    6566.0  2900.0      2.0  105000.000000  105000.000000   499900.0       0  \n",
              "2    5375.0  1170.0      2.0   60000.000000   60000.000000   325600.0       0  "
            ],
            "text/html": [
              "\n",
              "  <div id=\"df-93d8dbaf-09b1-4cfe-a729-a49c95c5bf7f\" class=\"colab-df-container\">\n",
              "    <div>\n",
              "<style scoped>\n",
              "    .dataframe tbody tr th:only-of-type {\n",
              "        vertical-align: middle;\n",
              "    }\n",
              "\n",
              "    .dataframe tbody tr th {\n",
              "        vertical-align: top;\n",
              "    }\n",
              "\n",
              "    .dataframe thead th {\n",
              "        text-align: right;\n",
              "    }\n",
              "</style>\n",
              "<table border=\"1\" class=\"dataframe\">\n",
              "  <thead>\n",
              "    <tr style=\"text-align: right;\">\n",
              "      <th></th>\n",
              "      <th>type</th>\n",
              "      <th>text</th>\n",
              "      <th>year_built</th>\n",
              "      <th>beds</th>\n",
              "      <th>baths</th>\n",
              "      <th>baths_full</th>\n",
              "      <th>baths_half</th>\n",
              "      <th>garage</th>\n",
              "      <th>lot_sqft</th>\n",
              "      <th>sqft</th>\n",
              "      <th>stories</th>\n",
              "      <th>lastSoldPrice</th>\n",
              "      <th>soldOn</th>\n",
              "      <th>listPrice</th>\n",
              "      <th>status</th>\n",
              "    </tr>\n",
              "  </thead>\n",
              "  <tbody>\n",
              "    <tr>\n",
              "      <th>0</th>\n",
              "      <td>5</td>\n",
              "      <td>327</td>\n",
              "      <td>1951.0</td>\n",
              "      <td>4.0</td>\n",
              "      <td>4.0</td>\n",
              "      <td>3.0</td>\n",
              "      <td>1.000000</td>\n",
              "      <td>1.0</td>\n",
              "      <td>5615.0</td>\n",
              "      <td>3000.0</td>\n",
              "      <td>2.0</td>\n",
              "      <td>368518.594346</td>\n",
              "      <td>368518.594346</td>\n",
              "      <td>750000.0</td>\n",
              "      <td>0</td>\n",
              "    </tr>\n",
              "    <tr>\n",
              "      <th>1</th>\n",
              "      <td>5</td>\n",
              "      <td>952</td>\n",
              "      <td>1922.0</td>\n",
              "      <td>4.0</td>\n",
              "      <td>3.0</td>\n",
              "      <td>2.0</td>\n",
              "      <td>1.000000</td>\n",
              "      <td>2.0</td>\n",
              "      <td>6566.0</td>\n",
              "      <td>2900.0</td>\n",
              "      <td>2.0</td>\n",
              "      <td>105000.000000</td>\n",
              "      <td>105000.000000</td>\n",
              "      <td>499900.0</td>\n",
              "      <td>0</td>\n",
              "    </tr>\n",
              "    <tr>\n",
              "      <th>2</th>\n",
              "      <td>5</td>\n",
              "      <td>797</td>\n",
              "      <td>1947.0</td>\n",
              "      <td>4.0</td>\n",
              "      <td>2.0</td>\n",
              "      <td>2.0</td>\n",
              "      <td>1.189189</td>\n",
              "      <td>3.0</td>\n",
              "      <td>5375.0</td>\n",
              "      <td>1170.0</td>\n",
              "      <td>2.0</td>\n",
              "      <td>60000.000000</td>\n",
              "      <td>60000.000000</td>\n",
              "      <td>325600.0</td>\n",
              "      <td>0</td>\n",
              "    </tr>\n",
              "  </tbody>\n",
              "</table>\n",
              "</div>\n",
              "    <div class=\"colab-df-buttons\">\n",
              "\n",
              "  <div class=\"colab-df-container\">\n",
              "    <button class=\"colab-df-convert\" onclick=\"convertToInteractive('df-93d8dbaf-09b1-4cfe-a729-a49c95c5bf7f')\"\n",
              "            title=\"Convert this dataframe to an interactive table.\"\n",
              "            style=\"display:none;\">\n",
              "\n",
              "  <svg xmlns=\"http://www.w3.org/2000/svg\" height=\"24px\" viewBox=\"0 -960 960 960\">\n",
              "    <path d=\"M120-120v-720h720v720H120Zm60-500h600v-160H180v160Zm220 220h160v-160H400v160Zm0 220h160v-160H400v160ZM180-400h160v-160H180v160Zm440 0h160v-160H620v160ZM180-180h160v-160H180v160Zm440 0h160v-160H620v160Z\"/>\n",
              "  </svg>\n",
              "    </button>\n",
              "\n",
              "  <style>\n",
              "    .colab-df-container {\n",
              "      display:flex;\n",
              "      gap: 12px;\n",
              "    }\n",
              "\n",
              "    .colab-df-convert {\n",
              "      background-color: #E8F0FE;\n",
              "      border: none;\n",
              "      border-radius: 50%;\n",
              "      cursor: pointer;\n",
              "      display: none;\n",
              "      fill: #1967D2;\n",
              "      height: 32px;\n",
              "      padding: 0 0 0 0;\n",
              "      width: 32px;\n",
              "    }\n",
              "\n",
              "    .colab-df-convert:hover {\n",
              "      background-color: #E2EBFA;\n",
              "      box-shadow: 0px 1px 2px rgba(60, 64, 67, 0.3), 0px 1px 3px 1px rgba(60, 64, 67, 0.15);\n",
              "      fill: #174EA6;\n",
              "    }\n",
              "\n",
              "    .colab-df-buttons div {\n",
              "      margin-bottom: 4px;\n",
              "    }\n",
              "\n",
              "    [theme=dark] .colab-df-convert {\n",
              "      background-color: #3B4455;\n",
              "      fill: #D2E3FC;\n",
              "    }\n",
              "\n",
              "    [theme=dark] .colab-df-convert:hover {\n",
              "      background-color: #434B5C;\n",
              "      box-shadow: 0px 1px 3px 1px rgba(0, 0, 0, 0.15);\n",
              "      filter: drop-shadow(0px 1px 2px rgba(0, 0, 0, 0.3));\n",
              "      fill: #FFFFFF;\n",
              "    }\n",
              "  </style>\n",
              "\n",
              "    <script>\n",
              "      const buttonEl =\n",
              "        document.querySelector('#df-93d8dbaf-09b1-4cfe-a729-a49c95c5bf7f button.colab-df-convert');\n",
              "      buttonEl.style.display =\n",
              "        google.colab.kernel.accessAllowed ? 'block' : 'none';\n",
              "\n",
              "      async function convertToInteractive(key) {\n",
              "        const element = document.querySelector('#df-93d8dbaf-09b1-4cfe-a729-a49c95c5bf7f');\n",
              "        const dataTable =\n",
              "          await google.colab.kernel.invokeFunction('convertToInteractive',\n",
              "                                                    [key], {});\n",
              "        if (!dataTable) return;\n",
              "\n",
              "        const docLinkHtml = 'Like what you see? Visit the ' +\n",
              "          '<a target=\"_blank\" href=https://colab.research.google.com/notebooks/data_table.ipynb>data table notebook</a>'\n",
              "          + ' to learn more about interactive tables.';\n",
              "        element.innerHTML = '';\n",
              "        dataTable['output_type'] = 'display_data';\n",
              "        await google.colab.output.renderOutput(dataTable, element);\n",
              "        const docLink = document.createElement('div');\n",
              "        docLink.innerHTML = docLinkHtml;\n",
              "        element.appendChild(docLink);\n",
              "      }\n",
              "    </script>\n",
              "  </div>\n",
              "\n",
              "\n",
              "<div id=\"df-92c3144d-ecd3-48fc-ab50-9d2d7d675b62\">\n",
              "  <button class=\"colab-df-quickchart\" onclick=\"quickchart('df-92c3144d-ecd3-48fc-ab50-9d2d7d675b62')\"\n",
              "            title=\"Suggest charts\"\n",
              "            style=\"display:none;\">\n",
              "\n",
              "<svg xmlns=\"http://www.w3.org/2000/svg\" height=\"24px\"viewBox=\"0 0 24 24\"\n",
              "     width=\"24px\">\n",
              "    <g>\n",
              "        <path d=\"M19 3H5c-1.1 0-2 .9-2 2v14c0 1.1.9 2 2 2h14c1.1 0 2-.9 2-2V5c0-1.1-.9-2-2-2zM9 17H7v-7h2v7zm4 0h-2V7h2v10zm4 0h-2v-4h2v4z\"/>\n",
              "    </g>\n",
              "</svg>\n",
              "  </button>\n",
              "\n",
              "<style>\n",
              "  .colab-df-quickchart {\n",
              "      --bg-color: #E8F0FE;\n",
              "      --fill-color: #1967D2;\n",
              "      --hover-bg-color: #E2EBFA;\n",
              "      --hover-fill-color: #174EA6;\n",
              "      --disabled-fill-color: #AAA;\n",
              "      --disabled-bg-color: #DDD;\n",
              "  }\n",
              "\n",
              "  [theme=dark] .colab-df-quickchart {\n",
              "      --bg-color: #3B4455;\n",
              "      --fill-color: #D2E3FC;\n",
              "      --hover-bg-color: #434B5C;\n",
              "      --hover-fill-color: #FFFFFF;\n",
              "      --disabled-bg-color: #3B4455;\n",
              "      --disabled-fill-color: #666;\n",
              "  }\n",
              "\n",
              "  .colab-df-quickchart {\n",
              "    background-color: var(--bg-color);\n",
              "    border: none;\n",
              "    border-radius: 50%;\n",
              "    cursor: pointer;\n",
              "    display: none;\n",
              "    fill: var(--fill-color);\n",
              "    height: 32px;\n",
              "    padding: 0;\n",
              "    width: 32px;\n",
              "  }\n",
              "\n",
              "  .colab-df-quickchart:hover {\n",
              "    background-color: var(--hover-bg-color);\n",
              "    box-shadow: 0 1px 2px rgba(60, 64, 67, 0.3), 0 1px 3px 1px rgba(60, 64, 67, 0.15);\n",
              "    fill: var(--button-hover-fill-color);\n",
              "  }\n",
              "\n",
              "  .colab-df-quickchart-complete:disabled,\n",
              "  .colab-df-quickchart-complete:disabled:hover {\n",
              "    background-color: var(--disabled-bg-color);\n",
              "    fill: var(--disabled-fill-color);\n",
              "    box-shadow: none;\n",
              "  }\n",
              "\n",
              "  .colab-df-spinner {\n",
              "    border: 2px solid var(--fill-color);\n",
              "    border-color: transparent;\n",
              "    border-bottom-color: var(--fill-color);\n",
              "    animation:\n",
              "      spin 1s steps(1) infinite;\n",
              "  }\n",
              "\n",
              "  @keyframes spin {\n",
              "    0% {\n",
              "      border-color: transparent;\n",
              "      border-bottom-color: var(--fill-color);\n",
              "      border-left-color: var(--fill-color);\n",
              "    }\n",
              "    20% {\n",
              "      border-color: transparent;\n",
              "      border-left-color: var(--fill-color);\n",
              "      border-top-color: var(--fill-color);\n",
              "    }\n",
              "    30% {\n",
              "      border-color: transparent;\n",
              "      border-left-color: var(--fill-color);\n",
              "      border-top-color: var(--fill-color);\n",
              "      border-right-color: var(--fill-color);\n",
              "    }\n",
              "    40% {\n",
              "      border-color: transparent;\n",
              "      border-right-color: var(--fill-color);\n",
              "      border-top-color: var(--fill-color);\n",
              "    }\n",
              "    60% {\n",
              "      border-color: transparent;\n",
              "      border-right-color: var(--fill-color);\n",
              "    }\n",
              "    80% {\n",
              "      border-color: transparent;\n",
              "      border-right-color: var(--fill-color);\n",
              "      border-bottom-color: var(--fill-color);\n",
              "    }\n",
              "    90% {\n",
              "      border-color: transparent;\n",
              "      border-bottom-color: var(--fill-color);\n",
              "    }\n",
              "  }\n",
              "</style>\n",
              "\n",
              "  <script>\n",
              "    async function quickchart(key) {\n",
              "      const quickchartButtonEl =\n",
              "        document.querySelector('#' + key + ' button');\n",
              "      quickchartButtonEl.disabled = true;  // To prevent multiple clicks.\n",
              "      quickchartButtonEl.classList.add('colab-df-spinner');\n",
              "      try {\n",
              "        const charts = await google.colab.kernel.invokeFunction(\n",
              "            'suggestCharts', [key], {});\n",
              "      } catch (error) {\n",
              "        console.error('Error during call to suggestCharts:', error);\n",
              "      }\n",
              "      quickchartButtonEl.classList.remove('colab-df-spinner');\n",
              "      quickchartButtonEl.classList.add('colab-df-quickchart-complete');\n",
              "    }\n",
              "    (() => {\n",
              "      let quickchartButtonEl =\n",
              "        document.querySelector('#df-92c3144d-ecd3-48fc-ab50-9d2d7d675b62 button');\n",
              "      quickchartButtonEl.style.display =\n",
              "        google.colab.kernel.accessAllowed ? 'block' : 'none';\n",
              "    })();\n",
              "  </script>\n",
              "</div>\n",
              "\n",
              "    </div>\n",
              "  </div>\n"
            ],
            "application/vnd.google.colaboratory.intrinsic+json": {
              "type": "dataframe",
              "variable_name": "realstate",
              "summary": "{\n  \"name\": \"realstate\",\n  \"rows\": 2000,\n  \"fields\": [\n    {\n      \"column\": \"type\",\n      \"properties\": {\n        \"dtype\": \"number\",\n        \"std\": 1,\n        \"min\": 0,\n        \"max\": 6,\n        \"num_unique_values\": 7,\n        \"samples\": [\n          5,\n          4,\n          2\n        ],\n        \"semantic_type\": \"\",\n        \"description\": \"\"\n      }\n    },\n    {\n      \"column\": \"text\",\n      \"properties\": {\n        \"dtype\": \"number\",\n        \"std\": 571,\n        \"min\": 0,\n        \"max\": 1981,\n        \"num_unique_values\": 1982,\n        \"samples\": [\n          750,\n          726,\n          475\n        ],\n        \"semantic_type\": \"\",\n        \"description\": \"\"\n      }\n    },\n    {\n      \"column\": \"year_built\",\n      \"properties\": {\n        \"dtype\": \"number\",\n        \"std\": 36.88131373097723,\n        \"min\": 1856.0,\n        \"max\": 2024.0,\n        \"num_unique_values\": 150,\n        \"samples\": [\n          2021.0,\n          1962.0,\n          2020.0\n        ],\n        \"semantic_type\": \"\",\n        \"description\": \"\"\n      }\n    },\n    {\n      \"column\": \"beds\",\n      \"properties\": {\n        \"dtype\": \"number\",\n        \"std\": 1.7319570131153943,\n        \"min\": 0.0,\n        \"max\": 21.0,\n        \"num_unique_values\": 15,\n        \"samples\": [\n          0.0,\n          10.0,\n          4.0\n        ],\n        \"semantic_type\": \"\",\n        \"description\": \"\"\n      }\n    },\n    {\n      \"column\": \"baths\",\n      \"properties\": {\n        \"dtype\": \"number\",\n        \"std\": 1.4561261185753722,\n        \"min\": 0.0,\n        \"max\": 13.0,\n        \"num_unique_values\": 14,\n        \"samples\": [\n          13.0,\n          8.0,\n          4.0\n        ],\n        \"semantic_type\": \"\",\n        \"description\": \"\"\n      }\n    },\n    {\n      \"column\": \"baths_full\",\n      \"properties\": {\n        \"dtype\": \"number\",\n        \"std\": 1.0890594261013669,\n        \"min\": 1.0,\n        \"max\": 8.0,\n        \"num_unique_values\": 9,\n        \"samples\": [\n          6.0,\n          2.0,\n          5.0\n        ],\n        \"semantic_type\": \"\",\n        \"description\": \"\"\n      }\n    },\n    {\n      \"column\": \"baths_half\",\n      \"properties\": {\n        \"dtype\": \"number\",\n        \"std\": 0.30075011341771063,\n        \"min\": 1.0,\n        \"max\": 5.0,\n        \"num_unique_values\": 6,\n        \"samples\": [\n          1.0,\n          1.1891891891891893,\n          5.0\n        ],\n        \"semantic_type\": \"\",\n        \"description\": \"\"\n      }\n    },\n    {\n      \"column\": \"garage\",\n      \"properties\": {\n        \"dtype\": \"number\",\n        \"std\": 9.099657281774597,\n        \"min\": 1.0,\n        \"max\": 400.0,\n        \"num_unique_values\": 11,\n        \"samples\": [\n          4.0,\n          1.0,\n          75.0\n        ],\n        \"semantic_type\": \"\",\n        \"description\": \"\"\n      }\n    },\n    {\n      \"column\": \"lot_sqft\",\n      \"properties\": {\n        \"dtype\": \"number\",\n        \"std\": 48308.9474329336,\n        \"min\": 1.0,\n        \"max\": 2156000.0,\n        \"num_unique_values\": 445,\n        \"samples\": [\n          3781.0,\n          4883.0,\n          2700.0\n        ],\n        \"semantic_type\": \"\",\n        \"description\": \"\"\n      }\n    },\n    {\n      \"column\": \"sqft\",\n      \"properties\": {\n        \"dtype\": \"number\",\n        \"std\": 1438.647697234702,\n        \"min\": 372.0,\n        \"max\": 25000.0,\n        \"num_unique_values\": 680,\n        \"samples\": [\n          1509.0,\n          2755.0,\n          977.0\n        ],\n        \"semantic_type\": \"\",\n        \"description\": \"\"\n      }\n    },\n    {\n      \"column\": \"stories\",\n      \"properties\": {\n        \"dtype\": \"number\",\n        \"std\": 11.732451430383499,\n        \"min\": 1.0,\n        \"max\": 119.0,\n        \"num_unique_values\": 65,\n        \"samples\": [\n          100.0,\n          53.0,\n          2.0\n        ],\n        \"semantic_type\": \"\",\n        \"description\": \"\"\n      }\n    },\n    {\n      \"column\": \"lastSoldPrice\",\n      \"properties\": {\n        \"dtype\": \"number\",\n        \"std\": 517821.52196824766,\n        \"min\": 600.0,\n        \"max\": 7500000.0,\n        \"num_unique_values\": 644,\n        \"samples\": [\n          134500.0,\n          123000.0,\n          453000.0\n        ],\n        \"semantic_type\": \"\",\n        \"description\": \"\"\n      }\n    },\n    {\n      \"column\": \"soldOn\",\n      \"properties\": {\n        \"dtype\": \"number\",\n        \"std\": 517821.52196824766,\n        \"min\": 600.0,\n        \"max\": 7500000.0,\n        \"num_unique_values\": 644,\n        \"samples\": [\n          134500.0,\n          123000.0,\n          453000.0\n        ],\n        \"semantic_type\": \"\",\n        \"description\": \"\"\n      }\n    },\n    {\n      \"column\": \"listPrice\",\n      \"properties\": {\n        \"dtype\": \"number\",\n        \"std\": 1200593.7736534225,\n        \"min\": 150.0,\n        \"max\": 23500000.0,\n        \"num_unique_values\": 714,\n        \"samples\": [\n          180000.0,\n          739000.0,\n          2049000.0\n        ],\n        \"semantic_type\": \"\",\n        \"description\": \"\"\n      }\n    },\n    {\n      \"column\": \"status\",\n      \"properties\": {\n        \"dtype\": \"number\",\n        \"std\": 0,\n        \"min\": 0,\n        \"max\": 1,\n        \"num_unique_values\": 2,\n        \"samples\": [\n          1,\n          0\n        ],\n        \"semantic_type\": \"\",\n        \"description\": \"\"\n      }\n    }\n  ]\n}"
            }
          },
          "metadata": {},
          "execution_count": 30
        }
      ]
    },
    {
      "cell_type": "code",
      "source": [
        "realstate.to_csv(\"Preprocessed_realestatedatachicago.csv\", index=False)\n"
      ],
      "metadata": {
        "id": "33oiEqZuDnkY",
        "colab": {
          "base_uri": "https://localhost:8080/"
        },
        "outputId": "8cf71f10-4675-4144-d91c-f1f6fc39cb1b"
      },
      "execution_count": 31,
      "outputs": [
        {
          "output_type": "stream",
          "name": "stderr",
          "text": [
            "/usr/local/lib/python3.10/dist-packages/ipykernel/ipkernel.py:283: DeprecationWarning: `should_run_async` will not call `transform_cell` automatically in the future. Please pass the result to `transformed_cell` argument and any exception that happen during thetransform in `preprocessing_exc_tuple` in IPython 7.17 and above.\n",
            "  and should_run_async(code)\n"
          ]
        }
      ]
    },
    {
      "cell_type": "markdown",
      "source": [
        "#### **Applying StandardScaler**"
      ],
      "metadata": {
        "id": "jxGNP2c4DydS"
      }
    },
    {
      "cell_type": "code",
      "source": [
        "from sklearn.preprocessing import StandardScaler\n",
        "\n",
        "# Select numerical columns to scale\n",
        "numerical_columns = ['type','year_built', 'beds', 'baths', 'baths_full', 'baths_half',\n",
        "                     'garage', 'lot_sqft', 'sqft', 'stories', 'lastSoldPrice',\n",
        "                     'soldOn', 'listPrice']\n",
        "\n",
        "# Apply StandardScaler\n",
        "scaler = StandardScaler()\n",
        "realstate[numerical_columns] = scaler.fit_transform(realstate[numerical_columns])\n"
      ],
      "metadata": {
        "id": "odhV-CzSDtkv",
        "colab": {
          "base_uri": "https://localhost:8080/"
        },
        "outputId": "7c3cd13e-69de-4d5f-90fa-c3b8d1fd8feb"
      },
      "execution_count": 32,
      "outputs": [
        {
          "output_type": "stream",
          "name": "stderr",
          "text": [
            "/usr/local/lib/python3.10/dist-packages/ipykernel/ipkernel.py:283: DeprecationWarning: `should_run_async` will not call `transform_cell` automatically in the future. Please pass the result to `transformed_cell` argument and any exception that happen during thetransform in `preprocessing_exc_tuple` in IPython 7.17 and above.\n",
            "  and should_run_async(code)\n"
          ]
        }
      ]
    },
    {
      "cell_type": "code",
      "source": [
        "realstate.head(4)"
      ],
      "metadata": {
        "colab": {
          "base_uri": "https://localhost:8080/",
          "height": 230
        },
        "id": "U6s1ljg0D2U8",
        "outputId": "3b892c1f-38bb-440a-a887-7798f568af29"
      },
      "execution_count": 33,
      "outputs": [
        {
          "output_type": "stream",
          "name": "stderr",
          "text": [
            "/usr/local/lib/python3.10/dist-packages/ipykernel/ipkernel.py:283: DeprecationWarning: `should_run_async` will not call `transform_cell` automatically in the future. Please pass the result to `transformed_cell` argument and any exception that happen during thetransform in `preprocessing_exc_tuple` in IPython 7.17 and above.\n",
            "  and should_run_async(code)\n"
          ]
        },
        {
          "output_type": "execute_result",
          "data": {
            "text/plain": [
              "       type  text  year_built      beds     baths  baths_full    baths_half  \\\n",
              "0  0.837495   327    0.134225  0.410817  1.071796    0.775256 -6.292151e-01   \n",
              "1  0.837495   952   -0.652278  0.410817  0.384871   -0.143197 -6.292151e-01   \n",
              "2  0.837495   797    0.025742  0.410817 -0.302055   -0.143197 -7.384873e-16   \n",
              "3  0.837495  1203   -0.028500  0.410817  0.384871   -0.143197 -6.292151e-01   \n",
              "\n",
              "     garage  lot_sqft      sqft   stories  lastSoldPrice        soldOn  \\\n",
              "0 -0.124412 -0.031911  0.646665 -0.441958   1.124368e-16  1.124368e-16   \n",
              "1 -0.014490 -0.012220  0.577137 -0.441958  -5.090258e-01 -5.090258e-01   \n",
              "2  0.095431 -0.036880 -0.625681 -0.441958  -5.959500e-01 -5.959500e-01   \n",
              "3 -0.014490 -0.021082  0.306677 -0.441958  -3.834685e-01 -3.834685e-01   \n",
              "\n",
              "   listPrice  status  \n",
              "0   0.123946       0  \n",
              "1  -0.084419       0  \n",
              "2  -0.229634       0  \n",
              "3   0.015640       0  "
            ],
            "text/html": [
              "\n",
              "  <div id=\"df-c28868d7-a0e4-4b0d-a0ee-72c83187834b\" class=\"colab-df-container\">\n",
              "    <div>\n",
              "<style scoped>\n",
              "    .dataframe tbody tr th:only-of-type {\n",
              "        vertical-align: middle;\n",
              "    }\n",
              "\n",
              "    .dataframe tbody tr th {\n",
              "        vertical-align: top;\n",
              "    }\n",
              "\n",
              "    .dataframe thead th {\n",
              "        text-align: right;\n",
              "    }\n",
              "</style>\n",
              "<table border=\"1\" class=\"dataframe\">\n",
              "  <thead>\n",
              "    <tr style=\"text-align: right;\">\n",
              "      <th></th>\n",
              "      <th>type</th>\n",
              "      <th>text</th>\n",
              "      <th>year_built</th>\n",
              "      <th>beds</th>\n",
              "      <th>baths</th>\n",
              "      <th>baths_full</th>\n",
              "      <th>baths_half</th>\n",
              "      <th>garage</th>\n",
              "      <th>lot_sqft</th>\n",
              "      <th>sqft</th>\n",
              "      <th>stories</th>\n",
              "      <th>lastSoldPrice</th>\n",
              "      <th>soldOn</th>\n",
              "      <th>listPrice</th>\n",
              "      <th>status</th>\n",
              "    </tr>\n",
              "  </thead>\n",
              "  <tbody>\n",
              "    <tr>\n",
              "      <th>0</th>\n",
              "      <td>0.837495</td>\n",
              "      <td>327</td>\n",
              "      <td>0.134225</td>\n",
              "      <td>0.410817</td>\n",
              "      <td>1.071796</td>\n",
              "      <td>0.775256</td>\n",
              "      <td>-6.292151e-01</td>\n",
              "      <td>-0.124412</td>\n",
              "      <td>-0.031911</td>\n",
              "      <td>0.646665</td>\n",
              "      <td>-0.441958</td>\n",
              "      <td>1.124368e-16</td>\n",
              "      <td>1.124368e-16</td>\n",
              "      <td>0.123946</td>\n",
              "      <td>0</td>\n",
              "    </tr>\n",
              "    <tr>\n",
              "      <th>1</th>\n",
              "      <td>0.837495</td>\n",
              "      <td>952</td>\n",
              "      <td>-0.652278</td>\n",
              "      <td>0.410817</td>\n",
              "      <td>0.384871</td>\n",
              "      <td>-0.143197</td>\n",
              "      <td>-6.292151e-01</td>\n",
              "      <td>-0.014490</td>\n",
              "      <td>-0.012220</td>\n",
              "      <td>0.577137</td>\n",
              "      <td>-0.441958</td>\n",
              "      <td>-5.090258e-01</td>\n",
              "      <td>-5.090258e-01</td>\n",
              "      <td>-0.084419</td>\n",
              "      <td>0</td>\n",
              "    </tr>\n",
              "    <tr>\n",
              "      <th>2</th>\n",
              "      <td>0.837495</td>\n",
              "      <td>797</td>\n",
              "      <td>0.025742</td>\n",
              "      <td>0.410817</td>\n",
              "      <td>-0.302055</td>\n",
              "      <td>-0.143197</td>\n",
              "      <td>-7.384873e-16</td>\n",
              "      <td>0.095431</td>\n",
              "      <td>-0.036880</td>\n",
              "      <td>-0.625681</td>\n",
              "      <td>-0.441958</td>\n",
              "      <td>-5.959500e-01</td>\n",
              "      <td>-5.959500e-01</td>\n",
              "      <td>-0.229634</td>\n",
              "      <td>0</td>\n",
              "    </tr>\n",
              "    <tr>\n",
              "      <th>3</th>\n",
              "      <td>0.837495</td>\n",
              "      <td>1203</td>\n",
              "      <td>-0.028500</td>\n",
              "      <td>0.410817</td>\n",
              "      <td>0.384871</td>\n",
              "      <td>-0.143197</td>\n",
              "      <td>-6.292151e-01</td>\n",
              "      <td>-0.014490</td>\n",
              "      <td>-0.021082</td>\n",
              "      <td>0.306677</td>\n",
              "      <td>-0.441958</td>\n",
              "      <td>-3.834685e-01</td>\n",
              "      <td>-3.834685e-01</td>\n",
              "      <td>0.015640</td>\n",
              "      <td>0</td>\n",
              "    </tr>\n",
              "  </tbody>\n",
              "</table>\n",
              "</div>\n",
              "    <div class=\"colab-df-buttons\">\n",
              "\n",
              "  <div class=\"colab-df-container\">\n",
              "    <button class=\"colab-df-convert\" onclick=\"convertToInteractive('df-c28868d7-a0e4-4b0d-a0ee-72c83187834b')\"\n",
              "            title=\"Convert this dataframe to an interactive table.\"\n",
              "            style=\"display:none;\">\n",
              "\n",
              "  <svg xmlns=\"http://www.w3.org/2000/svg\" height=\"24px\" viewBox=\"0 -960 960 960\">\n",
              "    <path d=\"M120-120v-720h720v720H120Zm60-500h600v-160H180v160Zm220 220h160v-160H400v160Zm0 220h160v-160H400v160ZM180-400h160v-160H180v160Zm440 0h160v-160H620v160ZM180-180h160v-160H180v160Zm440 0h160v-160H620v160Z\"/>\n",
              "  </svg>\n",
              "    </button>\n",
              "\n",
              "  <style>\n",
              "    .colab-df-container {\n",
              "      display:flex;\n",
              "      gap: 12px;\n",
              "    }\n",
              "\n",
              "    .colab-df-convert {\n",
              "      background-color: #E8F0FE;\n",
              "      border: none;\n",
              "      border-radius: 50%;\n",
              "      cursor: pointer;\n",
              "      display: none;\n",
              "      fill: #1967D2;\n",
              "      height: 32px;\n",
              "      padding: 0 0 0 0;\n",
              "      width: 32px;\n",
              "    }\n",
              "\n",
              "    .colab-df-convert:hover {\n",
              "      background-color: #E2EBFA;\n",
              "      box-shadow: 0px 1px 2px rgba(60, 64, 67, 0.3), 0px 1px 3px 1px rgba(60, 64, 67, 0.15);\n",
              "      fill: #174EA6;\n",
              "    }\n",
              "\n",
              "    .colab-df-buttons div {\n",
              "      margin-bottom: 4px;\n",
              "    }\n",
              "\n",
              "    [theme=dark] .colab-df-convert {\n",
              "      background-color: #3B4455;\n",
              "      fill: #D2E3FC;\n",
              "    }\n",
              "\n",
              "    [theme=dark] .colab-df-convert:hover {\n",
              "      background-color: #434B5C;\n",
              "      box-shadow: 0px 1px 3px 1px rgba(0, 0, 0, 0.15);\n",
              "      filter: drop-shadow(0px 1px 2px rgba(0, 0, 0, 0.3));\n",
              "      fill: #FFFFFF;\n",
              "    }\n",
              "  </style>\n",
              "\n",
              "    <script>\n",
              "      const buttonEl =\n",
              "        document.querySelector('#df-c28868d7-a0e4-4b0d-a0ee-72c83187834b button.colab-df-convert');\n",
              "      buttonEl.style.display =\n",
              "        google.colab.kernel.accessAllowed ? 'block' : 'none';\n",
              "\n",
              "      async function convertToInteractive(key) {\n",
              "        const element = document.querySelector('#df-c28868d7-a0e4-4b0d-a0ee-72c83187834b');\n",
              "        const dataTable =\n",
              "          await google.colab.kernel.invokeFunction('convertToInteractive',\n",
              "                                                    [key], {});\n",
              "        if (!dataTable) return;\n",
              "\n",
              "        const docLinkHtml = 'Like what you see? Visit the ' +\n",
              "          '<a target=\"_blank\" href=https://colab.research.google.com/notebooks/data_table.ipynb>data table notebook</a>'\n",
              "          + ' to learn more about interactive tables.';\n",
              "        element.innerHTML = '';\n",
              "        dataTable['output_type'] = 'display_data';\n",
              "        await google.colab.output.renderOutput(dataTable, element);\n",
              "        const docLink = document.createElement('div');\n",
              "        docLink.innerHTML = docLinkHtml;\n",
              "        element.appendChild(docLink);\n",
              "      }\n",
              "    </script>\n",
              "  </div>\n",
              "\n",
              "\n",
              "<div id=\"df-4df2c41f-8e7d-466a-94b2-d9ab6987e28a\">\n",
              "  <button class=\"colab-df-quickchart\" onclick=\"quickchart('df-4df2c41f-8e7d-466a-94b2-d9ab6987e28a')\"\n",
              "            title=\"Suggest charts\"\n",
              "            style=\"display:none;\">\n",
              "\n",
              "<svg xmlns=\"http://www.w3.org/2000/svg\" height=\"24px\"viewBox=\"0 0 24 24\"\n",
              "     width=\"24px\">\n",
              "    <g>\n",
              "        <path d=\"M19 3H5c-1.1 0-2 .9-2 2v14c0 1.1.9 2 2 2h14c1.1 0 2-.9 2-2V5c0-1.1-.9-2-2-2zM9 17H7v-7h2v7zm4 0h-2V7h2v10zm4 0h-2v-4h2v4z\"/>\n",
              "    </g>\n",
              "</svg>\n",
              "  </button>\n",
              "\n",
              "<style>\n",
              "  .colab-df-quickchart {\n",
              "      --bg-color: #E8F0FE;\n",
              "      --fill-color: #1967D2;\n",
              "      --hover-bg-color: #E2EBFA;\n",
              "      --hover-fill-color: #174EA6;\n",
              "      --disabled-fill-color: #AAA;\n",
              "      --disabled-bg-color: #DDD;\n",
              "  }\n",
              "\n",
              "  [theme=dark] .colab-df-quickchart {\n",
              "      --bg-color: #3B4455;\n",
              "      --fill-color: #D2E3FC;\n",
              "      --hover-bg-color: #434B5C;\n",
              "      --hover-fill-color: #FFFFFF;\n",
              "      --disabled-bg-color: #3B4455;\n",
              "      --disabled-fill-color: #666;\n",
              "  }\n",
              "\n",
              "  .colab-df-quickchart {\n",
              "    background-color: var(--bg-color);\n",
              "    border: none;\n",
              "    border-radius: 50%;\n",
              "    cursor: pointer;\n",
              "    display: none;\n",
              "    fill: var(--fill-color);\n",
              "    height: 32px;\n",
              "    padding: 0;\n",
              "    width: 32px;\n",
              "  }\n",
              "\n",
              "  .colab-df-quickchart:hover {\n",
              "    background-color: var(--hover-bg-color);\n",
              "    box-shadow: 0 1px 2px rgba(60, 64, 67, 0.3), 0 1px 3px 1px rgba(60, 64, 67, 0.15);\n",
              "    fill: var(--button-hover-fill-color);\n",
              "  }\n",
              "\n",
              "  .colab-df-quickchart-complete:disabled,\n",
              "  .colab-df-quickchart-complete:disabled:hover {\n",
              "    background-color: var(--disabled-bg-color);\n",
              "    fill: var(--disabled-fill-color);\n",
              "    box-shadow: none;\n",
              "  }\n",
              "\n",
              "  .colab-df-spinner {\n",
              "    border: 2px solid var(--fill-color);\n",
              "    border-color: transparent;\n",
              "    border-bottom-color: var(--fill-color);\n",
              "    animation:\n",
              "      spin 1s steps(1) infinite;\n",
              "  }\n",
              "\n",
              "  @keyframes spin {\n",
              "    0% {\n",
              "      border-color: transparent;\n",
              "      border-bottom-color: var(--fill-color);\n",
              "      border-left-color: var(--fill-color);\n",
              "    }\n",
              "    20% {\n",
              "      border-color: transparent;\n",
              "      border-left-color: var(--fill-color);\n",
              "      border-top-color: var(--fill-color);\n",
              "    }\n",
              "    30% {\n",
              "      border-color: transparent;\n",
              "      border-left-color: var(--fill-color);\n",
              "      border-top-color: var(--fill-color);\n",
              "      border-right-color: var(--fill-color);\n",
              "    }\n",
              "    40% {\n",
              "      border-color: transparent;\n",
              "      border-right-color: var(--fill-color);\n",
              "      border-top-color: var(--fill-color);\n",
              "    }\n",
              "    60% {\n",
              "      border-color: transparent;\n",
              "      border-right-color: var(--fill-color);\n",
              "    }\n",
              "    80% {\n",
              "      border-color: transparent;\n",
              "      border-right-color: var(--fill-color);\n",
              "      border-bottom-color: var(--fill-color);\n",
              "    }\n",
              "    90% {\n",
              "      border-color: transparent;\n",
              "      border-bottom-color: var(--fill-color);\n",
              "    }\n",
              "  }\n",
              "</style>\n",
              "\n",
              "  <script>\n",
              "    async function quickchart(key) {\n",
              "      const quickchartButtonEl =\n",
              "        document.querySelector('#' + key + ' button');\n",
              "      quickchartButtonEl.disabled = true;  // To prevent multiple clicks.\n",
              "      quickchartButtonEl.classList.add('colab-df-spinner');\n",
              "      try {\n",
              "        const charts = await google.colab.kernel.invokeFunction(\n",
              "            'suggestCharts', [key], {});\n",
              "      } catch (error) {\n",
              "        console.error('Error during call to suggestCharts:', error);\n",
              "      }\n",
              "      quickchartButtonEl.classList.remove('colab-df-spinner');\n",
              "      quickchartButtonEl.classList.add('colab-df-quickchart-complete');\n",
              "    }\n",
              "    (() => {\n",
              "      let quickchartButtonEl =\n",
              "        document.querySelector('#df-4df2c41f-8e7d-466a-94b2-d9ab6987e28a button');\n",
              "      quickchartButtonEl.style.display =\n",
              "        google.colab.kernel.accessAllowed ? 'block' : 'none';\n",
              "    })();\n",
              "  </script>\n",
              "</div>\n",
              "\n",
              "    </div>\n",
              "  </div>\n"
            ],
            "application/vnd.google.colaboratory.intrinsic+json": {
              "type": "dataframe",
              "variable_name": "realstate",
              "summary": "{\n  \"name\": \"realstate\",\n  \"rows\": 2000,\n  \"fields\": [\n    {\n      \"column\": \"type\",\n      \"properties\": {\n        \"dtype\": \"number\",\n        \"std\": 1.0002500937890795,\n        \"min\": -1.7903529134140321,\n        \"max\": 1.3630648116657251,\n        \"num_unique_values\": 7,\n        \"samples\": [\n          0.837495190819099,\n          0.3119255699724727,\n          -0.7392136717207797\n        ],\n        \"semantic_type\": \"\",\n        \"description\": \"\"\n      }\n    },\n    {\n      \"column\": \"text\",\n      \"properties\": {\n        \"dtype\": \"number\",\n        \"std\": 571,\n        \"min\": 0,\n        \"max\": 1981,\n        \"num_unique_values\": 1982,\n        \"samples\": [\n          750,\n          726,\n          475\n        ],\n        \"semantic_type\": \"\",\n        \"description\": \"\"\n      }\n    },\n    {\n      \"column\": \"year_built\",\n      \"properties\": {\n        \"dtype\": \"number\",\n        \"std\": 1.0002500937890797,\n        \"min\": -2.442249205143011,\n        \"max\": 2.1140422811720243,\n        \"num_unique_values\": 150,\n        \"samples\": [\n          2.032679933202113,\n          0.4325537564605232,\n          2.005559150545476\n        ],\n        \"semantic_type\": \"\",\n        \"description\": \"\"\n      }\n    },\n    {\n      \"column\": \"beds\",\n      \"properties\": {\n        \"dtype\": \"number\",\n        \"std\": 1.0002500937890795,\n        \"min\": -1.8992863230977284,\n        \"max\": 10.228758316871152,\n        \"num_unique_values\": 15,\n        \"samples\": [\n          -1.8992863230977284,\n          3.875973029268405,\n          0.41081741784872505\n        ],\n        \"semantic_type\": \"\",\n        \"description\": \"\"\n      }\n    },\n    {\n      \"column\": \"baths\",\n      \"properties\": {\n        \"dtype\": \"number\",\n        \"std\": 1.0002500937890797,\n        \"min\": -1.6759056702461799,\n        \"max\": 7.254125220196198,\n        \"num_unique_values\": 14,\n        \"samples\": [\n          7.254125220196198,\n          3.8194979546414376,\n          1.071796142197629\n        ],\n        \"semantic_type\": \"\",\n        \"description\": \"\"\n      }\n    },\n    {\n      \"column\": \"baths_full\",\n      \"properties\": {\n        \"dtype\": \"number\",\n        \"std\": 1.0002500937890797,\n        \"min\": -1.0616503208118073,\n        \"max\": 5.3675219435416075,\n        \"num_unique_values\": 9,\n        \"samples\": [\n          3.5306155822977754,\n          -0.14319714018989083,\n          2.612162401675859\n        ],\n        \"semantic_type\": \"\",\n        \"description\": \"\"\n      }\n    },\n    {\n      \"column\": \"baths_half\",\n      \"properties\": {\n        \"dtype\": \"number\",\n        \"std\": 1.0002500937890795,\n        \"min\": -0.6292150718744265,\n        \"max\": 12.67418930489914,\n        \"num_unique_values\": 6,\n        \"samples\": [\n          -0.6292150718744265,\n          -7.384872922496548e-16,\n          12.67418930489914\n        ],\n        \"semantic_type\": \"\",\n        \"description\": \"\"\n      }\n    },\n    {\n      \"column\": \"garage\",\n      \"properties\": {\n        \"dtype\": \"number\",\n        \"std\": 1.0002500937890797,\n        \"min\": -0.12441219492403147,\n        \"max\": 43.73435908223016,\n        \"num_unique_values\": 11,\n        \"samples\": [\n          0.2053530026485565,\n          -0.12441219492403147,\n          8.009796011866472\n        ],\n        \"semantic_type\": \"\",\n        \"description\": \"\"\n      }\n    },\n    {\n      \"column\": \"lot_sqft\",\n      \"properties\": {\n        \"dtype\": \"number\",\n        \"std\": 1.0002500937890795,\n        \"min\": -0.14815057091729306,\n        \"max\": 44.492403954785075,\n        \"num_unique_values\": 445,\n        \"samples\": [\n          -0.06988462733051265,\n          -0.04706741308907562,\n          -0.09226703077424535\n        ],\n        \"semantic_type\": \"\",\n        \"description\": \"\"\n      }\n    },\n    {\n      \"column\": \"sqft\",\n      \"properties\": {\n        \"dtype\": \"number\",\n        \"std\": 1.0002500937890795,\n        \"min\": -1.1805077775463546,\n        \"max\": 15.942627620500033,\n        \"num_unique_values\": 680,\n        \"samples\": [\n          -0.3899845946821861,\n          0.47632313253747444,\n          -0.7598687928209176\n        ],\n        \"semantic_type\": \"\",\n        \"description\": \"\"\n      }\n    },\n    {\n      \"column\": \"stories\",\n      \"properties\": {\n        \"dtype\": \"number\",\n        \"std\": 1.0002500937890795,\n        \"min\": -0.5272126819896088,\n        \"max\": 9.532876785881585,\n        \"num_unique_values\": 65,\n        \"samples\": [\n          7.9130318715633425,\n          3.9060470835129517,\n          -0.441957686499175\n        ],\n        \"semantic_type\": \"\",\n        \"description\": \"\"\n      }\n    },\n    {\n      \"column\": \"lastSoldPrice\",\n      \"properties\": {\n        \"dtype\": \"number\",\n        \"std\": 1.0002500937890795,\n        \"min\": -0.7106900599704866,\n        \"max\": 13.775528135150795,\n        \"num_unique_values\": 644,\n        \"samples\": [\n          -0.45204208595566686,\n          -0.47425606430645423,\n          0.1631885318465744\n        ],\n        \"semantic_type\": \"\",\n        \"description\": \"\"\n      }\n    },\n    {\n      \"column\": \"soldOn\",\n      \"properties\": {\n        \"dtype\": \"number\",\n        \"std\": 1.0002500937890795,\n        \"min\": -0.7106900599704866,\n        \"max\": 13.775528135150795,\n        \"num_unique_values\": 644,\n        \"samples\": [\n          -0.45204208595566686,\n          -0.47425606430645423,\n          0.1631885318465744\n        ],\n        \"semantic_type\": \"\",\n        \"description\": \"\"\n      }\n    },\n    {\n      \"column\": \"listPrice\",\n      \"properties\": {\n        \"dtype\": \"number\",\n        \"std\": 1.0002500937890797,\n        \"min\": -0.5007757463842807,\n        \"max\": 19.07764260156456,\n        \"num_unique_values\": 714,\n        \"samples\": [\n          -0.3509374052936525,\n          0.11478198680899498,\n          1.206181635564752\n        ],\n        \"semantic_type\": \"\",\n        \"description\": \"\"\n      }\n    },\n    {\n      \"column\": \"status\",\n      \"properties\": {\n        \"dtype\": \"number\",\n        \"std\": 0,\n        \"min\": 0,\n        \"max\": 1,\n        \"num_unique_values\": 2,\n        \"samples\": [\n          1,\n          0\n        ],\n        \"semantic_type\": \"\",\n        \"description\": \"\"\n      }\n    }\n  ]\n}"
            }
          },
          "metadata": {},
          "execution_count": 33
        }
      ]
    },
    {
      "cell_type": "markdown",
      "source": [
        "Data is ready...\n"
      ],
      "metadata": {
        "id": "pj8RXfMRD-sr"
      }
    },
    {
      "cell_type": "markdown",
      "source": [
        "## **Simple ANNs Model**"
      ],
      "metadata": {
        "id": "N6dcAT_IFWCm"
      }
    },
    {
      "cell_type": "markdown",
      "source": [
        "#### **Predicting the last sold price**\n",
        "Apply backpropagation to the dataset for a regression task"
      ],
      "metadata": {
        "id": "BM9l--VLGP92"
      }
    },
    {
      "cell_type": "code",
      "source": [
        "realstate.head(2)"
      ],
      "metadata": {
        "colab": {
          "base_uri": "https://localhost:8080/",
          "height": 167
        },
        "id": "CEhzpHtSGn43",
        "outputId": "ad00c2c0-8d80-411d-8f2f-5e9544a5fb2b"
      },
      "execution_count": 34,
      "outputs": [
        {
          "output_type": "stream",
          "name": "stderr",
          "text": [
            "/usr/local/lib/python3.10/dist-packages/ipykernel/ipkernel.py:283: DeprecationWarning: `should_run_async` will not call `transform_cell` automatically in the future. Please pass the result to `transformed_cell` argument and any exception that happen during thetransform in `preprocessing_exc_tuple` in IPython 7.17 and above.\n",
            "  and should_run_async(code)\n"
          ]
        },
        {
          "output_type": "execute_result",
          "data": {
            "text/plain": [
              "       type  text  year_built      beds     baths  baths_full  baths_half  \\\n",
              "0  0.837495   327    0.134225  0.410817  1.071796    0.775256   -0.629215   \n",
              "1  0.837495   952   -0.652278  0.410817  0.384871   -0.143197   -0.629215   \n",
              "\n",
              "     garage  lot_sqft      sqft   stories  lastSoldPrice        soldOn  \\\n",
              "0 -0.124412 -0.031911  0.646665 -0.441958   1.124368e-16  1.124368e-16   \n",
              "1 -0.014490 -0.012220  0.577137 -0.441958  -5.090258e-01 -5.090258e-01   \n",
              "\n",
              "   listPrice  status  \n",
              "0   0.123946       0  \n",
              "1  -0.084419       0  "
            ],
            "text/html": [
              "\n",
              "  <div id=\"df-37a9667f-0e2a-44ce-9c48-65bda1dc7002\" class=\"colab-df-container\">\n",
              "    <div>\n",
              "<style scoped>\n",
              "    .dataframe tbody tr th:only-of-type {\n",
              "        vertical-align: middle;\n",
              "    }\n",
              "\n",
              "    .dataframe tbody tr th {\n",
              "        vertical-align: top;\n",
              "    }\n",
              "\n",
              "    .dataframe thead th {\n",
              "        text-align: right;\n",
              "    }\n",
              "</style>\n",
              "<table border=\"1\" class=\"dataframe\">\n",
              "  <thead>\n",
              "    <tr style=\"text-align: right;\">\n",
              "      <th></th>\n",
              "      <th>type</th>\n",
              "      <th>text</th>\n",
              "      <th>year_built</th>\n",
              "      <th>beds</th>\n",
              "      <th>baths</th>\n",
              "      <th>baths_full</th>\n",
              "      <th>baths_half</th>\n",
              "      <th>garage</th>\n",
              "      <th>lot_sqft</th>\n",
              "      <th>sqft</th>\n",
              "      <th>stories</th>\n",
              "      <th>lastSoldPrice</th>\n",
              "      <th>soldOn</th>\n",
              "      <th>listPrice</th>\n",
              "      <th>status</th>\n",
              "    </tr>\n",
              "  </thead>\n",
              "  <tbody>\n",
              "    <tr>\n",
              "      <th>0</th>\n",
              "      <td>0.837495</td>\n",
              "      <td>327</td>\n",
              "      <td>0.134225</td>\n",
              "      <td>0.410817</td>\n",
              "      <td>1.071796</td>\n",
              "      <td>0.775256</td>\n",
              "      <td>-0.629215</td>\n",
              "      <td>-0.124412</td>\n",
              "      <td>-0.031911</td>\n",
              "      <td>0.646665</td>\n",
              "      <td>-0.441958</td>\n",
              "      <td>1.124368e-16</td>\n",
              "      <td>1.124368e-16</td>\n",
              "      <td>0.123946</td>\n",
              "      <td>0</td>\n",
              "    </tr>\n",
              "    <tr>\n",
              "      <th>1</th>\n",
              "      <td>0.837495</td>\n",
              "      <td>952</td>\n",
              "      <td>-0.652278</td>\n",
              "      <td>0.410817</td>\n",
              "      <td>0.384871</td>\n",
              "      <td>-0.143197</td>\n",
              "      <td>-0.629215</td>\n",
              "      <td>-0.014490</td>\n",
              "      <td>-0.012220</td>\n",
              "      <td>0.577137</td>\n",
              "      <td>-0.441958</td>\n",
              "      <td>-5.090258e-01</td>\n",
              "      <td>-5.090258e-01</td>\n",
              "      <td>-0.084419</td>\n",
              "      <td>0</td>\n",
              "    </tr>\n",
              "  </tbody>\n",
              "</table>\n",
              "</div>\n",
              "    <div class=\"colab-df-buttons\">\n",
              "\n",
              "  <div class=\"colab-df-container\">\n",
              "    <button class=\"colab-df-convert\" onclick=\"convertToInteractive('df-37a9667f-0e2a-44ce-9c48-65bda1dc7002')\"\n",
              "            title=\"Convert this dataframe to an interactive table.\"\n",
              "            style=\"display:none;\">\n",
              "\n",
              "  <svg xmlns=\"http://www.w3.org/2000/svg\" height=\"24px\" viewBox=\"0 -960 960 960\">\n",
              "    <path d=\"M120-120v-720h720v720H120Zm60-500h600v-160H180v160Zm220 220h160v-160H400v160Zm0 220h160v-160H400v160ZM180-400h160v-160H180v160Zm440 0h160v-160H620v160ZM180-180h160v-160H180v160Zm440 0h160v-160H620v160Z\"/>\n",
              "  </svg>\n",
              "    </button>\n",
              "\n",
              "  <style>\n",
              "    .colab-df-container {\n",
              "      display:flex;\n",
              "      gap: 12px;\n",
              "    }\n",
              "\n",
              "    .colab-df-convert {\n",
              "      background-color: #E8F0FE;\n",
              "      border: none;\n",
              "      border-radius: 50%;\n",
              "      cursor: pointer;\n",
              "      display: none;\n",
              "      fill: #1967D2;\n",
              "      height: 32px;\n",
              "      padding: 0 0 0 0;\n",
              "      width: 32px;\n",
              "    }\n",
              "\n",
              "    .colab-df-convert:hover {\n",
              "      background-color: #E2EBFA;\n",
              "      box-shadow: 0px 1px 2px rgba(60, 64, 67, 0.3), 0px 1px 3px 1px rgba(60, 64, 67, 0.15);\n",
              "      fill: #174EA6;\n",
              "    }\n",
              "\n",
              "    .colab-df-buttons div {\n",
              "      margin-bottom: 4px;\n",
              "    }\n",
              "\n",
              "    [theme=dark] .colab-df-convert {\n",
              "      background-color: #3B4455;\n",
              "      fill: #D2E3FC;\n",
              "    }\n",
              "\n",
              "    [theme=dark] .colab-df-convert:hover {\n",
              "      background-color: #434B5C;\n",
              "      box-shadow: 0px 1px 3px 1px rgba(0, 0, 0, 0.15);\n",
              "      filter: drop-shadow(0px 1px 2px rgba(0, 0, 0, 0.3));\n",
              "      fill: #FFFFFF;\n",
              "    }\n",
              "  </style>\n",
              "\n",
              "    <script>\n",
              "      const buttonEl =\n",
              "        document.querySelector('#df-37a9667f-0e2a-44ce-9c48-65bda1dc7002 button.colab-df-convert');\n",
              "      buttonEl.style.display =\n",
              "        google.colab.kernel.accessAllowed ? 'block' : 'none';\n",
              "\n",
              "      async function convertToInteractive(key) {\n",
              "        const element = document.querySelector('#df-37a9667f-0e2a-44ce-9c48-65bda1dc7002');\n",
              "        const dataTable =\n",
              "          await google.colab.kernel.invokeFunction('convertToInteractive',\n",
              "                                                    [key], {});\n",
              "        if (!dataTable) return;\n",
              "\n",
              "        const docLinkHtml = 'Like what you see? Visit the ' +\n",
              "          '<a target=\"_blank\" href=https://colab.research.google.com/notebooks/data_table.ipynb>data table notebook</a>'\n",
              "          + ' to learn more about interactive tables.';\n",
              "        element.innerHTML = '';\n",
              "        dataTable['output_type'] = 'display_data';\n",
              "        await google.colab.output.renderOutput(dataTable, element);\n",
              "        const docLink = document.createElement('div');\n",
              "        docLink.innerHTML = docLinkHtml;\n",
              "        element.appendChild(docLink);\n",
              "      }\n",
              "    </script>\n",
              "  </div>\n",
              "\n",
              "\n",
              "<div id=\"df-9127d11b-5262-41a6-b057-5059287a65e8\">\n",
              "  <button class=\"colab-df-quickchart\" onclick=\"quickchart('df-9127d11b-5262-41a6-b057-5059287a65e8')\"\n",
              "            title=\"Suggest charts\"\n",
              "            style=\"display:none;\">\n",
              "\n",
              "<svg xmlns=\"http://www.w3.org/2000/svg\" height=\"24px\"viewBox=\"0 0 24 24\"\n",
              "     width=\"24px\">\n",
              "    <g>\n",
              "        <path d=\"M19 3H5c-1.1 0-2 .9-2 2v14c0 1.1.9 2 2 2h14c1.1 0 2-.9 2-2V5c0-1.1-.9-2-2-2zM9 17H7v-7h2v7zm4 0h-2V7h2v10zm4 0h-2v-4h2v4z\"/>\n",
              "    </g>\n",
              "</svg>\n",
              "  </button>\n",
              "\n",
              "<style>\n",
              "  .colab-df-quickchart {\n",
              "      --bg-color: #E8F0FE;\n",
              "      --fill-color: #1967D2;\n",
              "      --hover-bg-color: #E2EBFA;\n",
              "      --hover-fill-color: #174EA6;\n",
              "      --disabled-fill-color: #AAA;\n",
              "      --disabled-bg-color: #DDD;\n",
              "  }\n",
              "\n",
              "  [theme=dark] .colab-df-quickchart {\n",
              "      --bg-color: #3B4455;\n",
              "      --fill-color: #D2E3FC;\n",
              "      --hover-bg-color: #434B5C;\n",
              "      --hover-fill-color: #FFFFFF;\n",
              "      --disabled-bg-color: #3B4455;\n",
              "      --disabled-fill-color: #666;\n",
              "  }\n",
              "\n",
              "  .colab-df-quickchart {\n",
              "    background-color: var(--bg-color);\n",
              "    border: none;\n",
              "    border-radius: 50%;\n",
              "    cursor: pointer;\n",
              "    display: none;\n",
              "    fill: var(--fill-color);\n",
              "    height: 32px;\n",
              "    padding: 0;\n",
              "    width: 32px;\n",
              "  }\n",
              "\n",
              "  .colab-df-quickchart:hover {\n",
              "    background-color: var(--hover-bg-color);\n",
              "    box-shadow: 0 1px 2px rgba(60, 64, 67, 0.3), 0 1px 3px 1px rgba(60, 64, 67, 0.15);\n",
              "    fill: var(--button-hover-fill-color);\n",
              "  }\n",
              "\n",
              "  .colab-df-quickchart-complete:disabled,\n",
              "  .colab-df-quickchart-complete:disabled:hover {\n",
              "    background-color: var(--disabled-bg-color);\n",
              "    fill: var(--disabled-fill-color);\n",
              "    box-shadow: none;\n",
              "  }\n",
              "\n",
              "  .colab-df-spinner {\n",
              "    border: 2px solid var(--fill-color);\n",
              "    border-color: transparent;\n",
              "    border-bottom-color: var(--fill-color);\n",
              "    animation:\n",
              "      spin 1s steps(1) infinite;\n",
              "  }\n",
              "\n",
              "  @keyframes spin {\n",
              "    0% {\n",
              "      border-color: transparent;\n",
              "      border-bottom-color: var(--fill-color);\n",
              "      border-left-color: var(--fill-color);\n",
              "    }\n",
              "    20% {\n",
              "      border-color: transparent;\n",
              "      border-left-color: var(--fill-color);\n",
              "      border-top-color: var(--fill-color);\n",
              "    }\n",
              "    30% {\n",
              "      border-color: transparent;\n",
              "      border-left-color: var(--fill-color);\n",
              "      border-top-color: var(--fill-color);\n",
              "      border-right-color: var(--fill-color);\n",
              "    }\n",
              "    40% {\n",
              "      border-color: transparent;\n",
              "      border-right-color: var(--fill-color);\n",
              "      border-top-color: var(--fill-color);\n",
              "    }\n",
              "    60% {\n",
              "      border-color: transparent;\n",
              "      border-right-color: var(--fill-color);\n",
              "    }\n",
              "    80% {\n",
              "      border-color: transparent;\n",
              "      border-right-color: var(--fill-color);\n",
              "      border-bottom-color: var(--fill-color);\n",
              "    }\n",
              "    90% {\n",
              "      border-color: transparent;\n",
              "      border-bottom-color: var(--fill-color);\n",
              "    }\n",
              "  }\n",
              "</style>\n",
              "\n",
              "  <script>\n",
              "    async function quickchart(key) {\n",
              "      const quickchartButtonEl =\n",
              "        document.querySelector('#' + key + ' button');\n",
              "      quickchartButtonEl.disabled = true;  // To prevent multiple clicks.\n",
              "      quickchartButtonEl.classList.add('colab-df-spinner');\n",
              "      try {\n",
              "        const charts = await google.colab.kernel.invokeFunction(\n",
              "            'suggestCharts', [key], {});\n",
              "      } catch (error) {\n",
              "        console.error('Error during call to suggestCharts:', error);\n",
              "      }\n",
              "      quickchartButtonEl.classList.remove('colab-df-spinner');\n",
              "      quickchartButtonEl.classList.add('colab-df-quickchart-complete');\n",
              "    }\n",
              "    (() => {\n",
              "      let quickchartButtonEl =\n",
              "        document.querySelector('#df-9127d11b-5262-41a6-b057-5059287a65e8 button');\n",
              "      quickchartButtonEl.style.display =\n",
              "        google.colab.kernel.accessAllowed ? 'block' : 'none';\n",
              "    })();\n",
              "  </script>\n",
              "</div>\n",
              "\n",
              "    </div>\n",
              "  </div>\n"
            ],
            "application/vnd.google.colaboratory.intrinsic+json": {
              "type": "dataframe",
              "variable_name": "realstate",
              "summary": "{\n  \"name\": \"realstate\",\n  \"rows\": 2000,\n  \"fields\": [\n    {\n      \"column\": \"type\",\n      \"properties\": {\n        \"dtype\": \"number\",\n        \"std\": 1.0002500937890795,\n        \"min\": -1.7903529134140321,\n        \"max\": 1.3630648116657251,\n        \"num_unique_values\": 7,\n        \"samples\": [\n          0.837495190819099,\n          0.3119255699724727,\n          -0.7392136717207797\n        ],\n        \"semantic_type\": \"\",\n        \"description\": \"\"\n      }\n    },\n    {\n      \"column\": \"text\",\n      \"properties\": {\n        \"dtype\": \"number\",\n        \"std\": 571,\n        \"min\": 0,\n        \"max\": 1981,\n        \"num_unique_values\": 1982,\n        \"samples\": [\n          750,\n          726,\n          475\n        ],\n        \"semantic_type\": \"\",\n        \"description\": \"\"\n      }\n    },\n    {\n      \"column\": \"year_built\",\n      \"properties\": {\n        \"dtype\": \"number\",\n        \"std\": 1.0002500937890797,\n        \"min\": -2.442249205143011,\n        \"max\": 2.1140422811720243,\n        \"num_unique_values\": 150,\n        \"samples\": [\n          2.032679933202113,\n          0.4325537564605232,\n          2.005559150545476\n        ],\n        \"semantic_type\": \"\",\n        \"description\": \"\"\n      }\n    },\n    {\n      \"column\": \"beds\",\n      \"properties\": {\n        \"dtype\": \"number\",\n        \"std\": 1.0002500937890795,\n        \"min\": -1.8992863230977284,\n        \"max\": 10.228758316871152,\n        \"num_unique_values\": 15,\n        \"samples\": [\n          -1.8992863230977284,\n          3.875973029268405,\n          0.41081741784872505\n        ],\n        \"semantic_type\": \"\",\n        \"description\": \"\"\n      }\n    },\n    {\n      \"column\": \"baths\",\n      \"properties\": {\n        \"dtype\": \"number\",\n        \"std\": 1.0002500937890797,\n        \"min\": -1.6759056702461799,\n        \"max\": 7.254125220196198,\n        \"num_unique_values\": 14,\n        \"samples\": [\n          7.254125220196198,\n          3.8194979546414376,\n          1.071796142197629\n        ],\n        \"semantic_type\": \"\",\n        \"description\": \"\"\n      }\n    },\n    {\n      \"column\": \"baths_full\",\n      \"properties\": {\n        \"dtype\": \"number\",\n        \"std\": 1.0002500937890797,\n        \"min\": -1.0616503208118073,\n        \"max\": 5.3675219435416075,\n        \"num_unique_values\": 9,\n        \"samples\": [\n          3.5306155822977754,\n          -0.14319714018989083,\n          2.612162401675859\n        ],\n        \"semantic_type\": \"\",\n        \"description\": \"\"\n      }\n    },\n    {\n      \"column\": \"baths_half\",\n      \"properties\": {\n        \"dtype\": \"number\",\n        \"std\": 1.0002500937890795,\n        \"min\": -0.6292150718744265,\n        \"max\": 12.67418930489914,\n        \"num_unique_values\": 6,\n        \"samples\": [\n          -0.6292150718744265,\n          -7.384872922496548e-16,\n          12.67418930489914\n        ],\n        \"semantic_type\": \"\",\n        \"description\": \"\"\n      }\n    },\n    {\n      \"column\": \"garage\",\n      \"properties\": {\n        \"dtype\": \"number\",\n        \"std\": 1.0002500937890797,\n        \"min\": -0.12441219492403147,\n        \"max\": 43.73435908223016,\n        \"num_unique_values\": 11,\n        \"samples\": [\n          0.2053530026485565,\n          -0.12441219492403147,\n          8.009796011866472\n        ],\n        \"semantic_type\": \"\",\n        \"description\": \"\"\n      }\n    },\n    {\n      \"column\": \"lot_sqft\",\n      \"properties\": {\n        \"dtype\": \"number\",\n        \"std\": 1.0002500937890795,\n        \"min\": -0.14815057091729306,\n        \"max\": 44.492403954785075,\n        \"num_unique_values\": 445,\n        \"samples\": [\n          -0.06988462733051265,\n          -0.04706741308907562,\n          -0.09226703077424535\n        ],\n        \"semantic_type\": \"\",\n        \"description\": \"\"\n      }\n    },\n    {\n      \"column\": \"sqft\",\n      \"properties\": {\n        \"dtype\": \"number\",\n        \"std\": 1.0002500937890795,\n        \"min\": -1.1805077775463546,\n        \"max\": 15.942627620500033,\n        \"num_unique_values\": 680,\n        \"samples\": [\n          -0.3899845946821861,\n          0.47632313253747444,\n          -0.7598687928209176\n        ],\n        \"semantic_type\": \"\",\n        \"description\": \"\"\n      }\n    },\n    {\n      \"column\": \"stories\",\n      \"properties\": {\n        \"dtype\": \"number\",\n        \"std\": 1.0002500937890795,\n        \"min\": -0.5272126819896088,\n        \"max\": 9.532876785881585,\n        \"num_unique_values\": 65,\n        \"samples\": [\n          7.9130318715633425,\n          3.9060470835129517,\n          -0.441957686499175\n        ],\n        \"semantic_type\": \"\",\n        \"description\": \"\"\n      }\n    },\n    {\n      \"column\": \"lastSoldPrice\",\n      \"properties\": {\n        \"dtype\": \"number\",\n        \"std\": 1.0002500937890795,\n        \"min\": -0.7106900599704866,\n        \"max\": 13.775528135150795,\n        \"num_unique_values\": 644,\n        \"samples\": [\n          -0.45204208595566686,\n          -0.47425606430645423,\n          0.1631885318465744\n        ],\n        \"semantic_type\": \"\",\n        \"description\": \"\"\n      }\n    },\n    {\n      \"column\": \"soldOn\",\n      \"properties\": {\n        \"dtype\": \"number\",\n        \"std\": 1.0002500937890795,\n        \"min\": -0.7106900599704866,\n        \"max\": 13.775528135150795,\n        \"num_unique_values\": 644,\n        \"samples\": [\n          -0.45204208595566686,\n          -0.47425606430645423,\n          0.1631885318465744\n        ],\n        \"semantic_type\": \"\",\n        \"description\": \"\"\n      }\n    },\n    {\n      \"column\": \"listPrice\",\n      \"properties\": {\n        \"dtype\": \"number\",\n        \"std\": 1.0002500937890797,\n        \"min\": -0.5007757463842807,\n        \"max\": 19.07764260156456,\n        \"num_unique_values\": 714,\n        \"samples\": [\n          -0.3509374052936525,\n          0.11478198680899498,\n          1.206181635564752\n        ],\n        \"semantic_type\": \"\",\n        \"description\": \"\"\n      }\n    },\n    {\n      \"column\": \"status\",\n      \"properties\": {\n        \"dtype\": \"number\",\n        \"std\": 0,\n        \"min\": 0,\n        \"max\": 1,\n        \"num_unique_values\": 2,\n        \"samples\": [\n          1,\n          0\n        ],\n        \"semantic_type\": \"\",\n        \"description\": \"\"\n      }\n    }\n  ]\n}"
            }
          },
          "metadata": {},
          "execution_count": 34
        }
      ]
    },
    {
      "cell_type": "code",
      "source": [
        "# Drop irrelevant features like 'Sold On' for model training\n",
        "X = realstate.drop(['lastSoldPrice', 'soldOn'], axis=1)\n",
        "y = realstate['lastSoldPrice']\n"
      ],
      "metadata": {
        "id": "xm27c0aPD6QP",
        "colab": {
          "base_uri": "https://localhost:8080/"
        },
        "outputId": "b97ccf81-4f02-489d-8b3c-366aee509dd6"
      },
      "execution_count": 35,
      "outputs": [
        {
          "output_type": "stream",
          "name": "stderr",
          "text": [
            "/usr/local/lib/python3.10/dist-packages/ipykernel/ipkernel.py:283: DeprecationWarning: `should_run_async` will not call `transform_cell` automatically in the future. Please pass the result to `transformed_cell` argument and any exception that happen during thetransform in `preprocessing_exc_tuple` in IPython 7.17 and above.\n",
            "  and should_run_async(code)\n"
          ]
        }
      ]
    },
    {
      "cell_type": "code",
      "source": [
        "# Split the dataset into training and testing sets\n",
        "from sklearn.model_selection import train_test_split\n",
        "\n",
        "X_train, X_test, y_train, y_test = train_test_split(X, y, test_size=0.2, random_state=42)\n"
      ],
      "metadata": {
        "id": "OAVbrFuNGEyK",
        "colab": {
          "base_uri": "https://localhost:8080/"
        },
        "outputId": "4bc34d53-8810-4da6-d385-7f3c63e98ff5"
      },
      "execution_count": 36,
      "outputs": [
        {
          "output_type": "stream",
          "name": "stderr",
          "text": [
            "/usr/local/lib/python3.10/dist-packages/ipykernel/ipkernel.py:283: DeprecationWarning: `should_run_async` will not call `transform_cell` automatically in the future. Please pass the result to `transformed_cell` argument and any exception that happen during thetransform in `preprocessing_exc_tuple` in IPython 7.17 and above.\n",
            "  and should_run_async(code)\n"
          ]
        }
      ]
    },
    {
      "cell_type": "markdown",
      "source": [
        "#### **Neural Network Architecture**"
      ],
      "metadata": {
        "id": "pRzw9vujIKDQ"
      }
    },
    {
      "cell_type": "code",
      "source": [
        "import tensorflow as tf\n",
        "\n",
        "model = tf.keras.Sequential([\n",
        "    tf.keras.layers.Dense(64,activation='relu', input_shape=(X_train.shape[1],)),\n",
        "    tf.keras.layers.Dense(32,activation='relu'),\n",
        "    tf.keras.layers.Dense(1)\n",
        "])"
      ],
      "metadata": {
        "id": "hsckcX_jGE0v",
        "colab": {
          "base_uri": "https://localhost:8080/"
        },
        "outputId": "b27f6056-12c2-419a-fbdf-e85febb9db2d"
      },
      "execution_count": 50,
      "outputs": [
        {
          "output_type": "stream",
          "name": "stderr",
          "text": [
            "/usr/local/lib/python3.10/dist-packages/ipykernel/ipkernel.py:283: DeprecationWarning: `should_run_async` will not call `transform_cell` automatically in the future. Please pass the result to `transformed_cell` argument and any exception that happen during thetransform in `preprocessing_exc_tuple` in IPython 7.17 and above.\n",
            "  and should_run_async(code)\n"
          ]
        }
      ]
    },
    {
      "cell_type": "markdown",
      "source": [
        "#### **Compile Model**"
      ],
      "metadata": {
        "id": "qqxKz3_RJndB"
      }
    },
    {
      "cell_type": "code",
      "source": [
        "# Compile the model\n",
        "model.compile(optimizer='adam', loss='mean_squared_error' )\n",
        "print(model.summary())\n"
      ],
      "metadata": {
        "colab": {
          "base_uri": "https://localhost:8080/"
        },
        "id": "HpdrT-MoHQPD",
        "outputId": "e3710d21-d1f0-4088-fd8a-c323fb580bef"
      },
      "execution_count": 51,
      "outputs": [
        {
          "output_type": "stream",
          "name": "stdout",
          "text": [
            "Model: \"sequential_2\"\n",
            "_________________________________________________________________\n",
            " Layer (type)                Output Shape              Param #   \n",
            "=================================================================\n",
            " dense_4 (Dense)             (None, 64)                896       \n",
            "                                                                 \n",
            " dense_5 (Dense)             (None, 32)                2080      \n",
            "                                                                 \n",
            " dense_6 (Dense)             (None, 1)                 33        \n",
            "                                                                 \n",
            "=================================================================\n",
            "Total params: 3009 (11.75 KB)\n",
            "Trainable params: 3009 (11.75 KB)\n",
            "Non-trainable params: 0 (0.00 Byte)\n",
            "_________________________________________________________________\n",
            "None\n"
          ]
        },
        {
          "output_type": "stream",
          "name": "stderr",
          "text": [
            "/usr/local/lib/python3.10/dist-packages/ipykernel/ipkernel.py:283: DeprecationWarning: `should_run_async` will not call `transform_cell` automatically in the future. Please pass the result to `transformed_cell` argument and any exception that happen during thetransform in `preprocessing_exc_tuple` in IPython 7.17 and above.\n",
            "  and should_run_async(code)\n"
          ]
        }
      ]
    },
    {
      "cell_type": "markdown",
      "source": [
        "#### **Train Model**"
      ],
      "metadata": {
        "id": "O70N-JIuKYp6"
      }
    },
    {
      "cell_type": "code",
      "source": [
        "# Train the model\n",
        "\n",
        "model.fit(X_train, y_train, epochs=10, batch_size=64, validation_split=0.1)\n"
      ],
      "metadata": {
        "colab": {
          "base_uri": "https://localhost:8080/"
        },
        "id": "4Cm0UTfVHQRc",
        "outputId": "d6cd19b9-d4b6-4154-d5d6-ba3e5268c026"
      },
      "execution_count": 55,
      "outputs": [
        {
          "output_type": "stream",
          "name": "stdout",
          "text": [
            "Epoch 1/10\n",
            " 1/23 [>.............................] - ETA: 0s - loss: 0.3926"
          ]
        },
        {
          "output_type": "stream",
          "name": "stderr",
          "text": [
            "/usr/local/lib/python3.10/dist-packages/ipykernel/ipkernel.py:283: DeprecationWarning: `should_run_async` will not call `transform_cell` automatically in the future. Please pass the result to `transformed_cell` argument and any exception that happen during thetransform in `preprocessing_exc_tuple` in IPython 7.17 and above.\n",
            "  and should_run_async(code)\n"
          ]
        },
        {
          "output_type": "stream",
          "name": "stdout",
          "text": [
            "\b\b\b\b\b\b\b\b\b\b\b\b\b\b\b\b\b\b\b\b\b\b\b\b\b\b\b\b\b\b\b\b\b\b\b\b\b\b\b\b\b\b\b\b\b\b\b\b\b\b\b\b\b\b\b\b\b\b\b\b\b\b\b\r23/23 [==============================] - 0s 5ms/step - loss: 0.9238 - val_loss: 0.6461\n",
            "Epoch 2/10\n",
            "23/23 [==============================] - 0s 3ms/step - loss: 0.9168 - val_loss: 0.6088\n",
            "Epoch 3/10\n",
            "23/23 [==============================] - 0s 3ms/step - loss: 0.9104 - val_loss: 0.5813\n",
            "Epoch 4/10\n",
            "23/23 [==============================] - 0s 4ms/step - loss: 0.8952 - val_loss: 0.5575\n",
            "Epoch 5/10\n",
            "23/23 [==============================] - 0s 3ms/step - loss: 0.8819 - val_loss: 0.6683\n",
            "Epoch 6/10\n",
            "23/23 [==============================] - 0s 4ms/step - loss: 0.9472 - val_loss: 0.5386\n",
            "Epoch 7/10\n",
            "23/23 [==============================] - 0s 3ms/step - loss: 0.8682 - val_loss: 0.5367\n",
            "Epoch 8/10\n",
            "23/23 [==============================] - 0s 4ms/step - loss: 0.8738 - val_loss: 0.5246\n",
            "Epoch 9/10\n",
            "23/23 [==============================] - 0s 3ms/step - loss: 0.8594 - val_loss: 0.5260\n",
            "Epoch 10/10\n",
            "23/23 [==============================] - 0s 3ms/step - loss: 0.8558 - val_loss: 0.5348\n"
          ]
        },
        {
          "output_type": "execute_result",
          "data": {
            "text/plain": [
              "<keras.src.callbacks.History at 0x789444d7e4a0>"
            ]
          },
          "metadata": {},
          "execution_count": 55
        }
      ]
    },
    {
      "cell_type": "code",
      "source": [
        "# Evaluate the model\n",
        "mse = model.evaluate(X_test, y_test)\n",
        "print(f'Mean Squared Error: {mse}')"
      ],
      "metadata": {
        "colab": {
          "base_uri": "https://localhost:8080/"
        },
        "id": "rfKEaLv9HQUK",
        "outputId": "f0145f7a-611b-4fc7-c601-7334c1472b72"
      },
      "execution_count": 56,
      "outputs": [
        {
          "output_type": "stream",
          "name": "stderr",
          "text": [
            "/usr/local/lib/python3.10/dist-packages/ipykernel/ipkernel.py:283: DeprecationWarning: `should_run_async` will not call `transform_cell` automatically in the future. Please pass the result to `transformed_cell` argument and any exception that happen during thetransform in `preprocessing_exc_tuple` in IPython 7.17 and above.\n",
            "  and should_run_async(code)\n"
          ]
        },
        {
          "output_type": "stream",
          "name": "stdout",
          "text": [
            "13/13 [==============================] - 0s 5ms/step - loss: 0.8490\n",
            "Mean Squared Error: 0.8489518761634827\n"
          ]
        }
      ]
    },
    {
      "cell_type": "code",
      "source": [
        "# Save the model to HDF5 format\n",
        "model.save('my_model.h5')"
      ],
      "metadata": {
        "colab": {
          "base_uri": "https://localhost:8080/"
        },
        "id": "m9HO47gPjX0i",
        "outputId": "3e1ff3a8-2325-4ce8-cad9-29d5a855ba95"
      },
      "execution_count": 58,
      "outputs": [
        {
          "output_type": "stream",
          "name": "stderr",
          "text": [
            "/usr/local/lib/python3.10/dist-packages/ipykernel/ipkernel.py:283: DeprecationWarning: `should_run_async` will not call `transform_cell` automatically in the future. Please pass the result to `transformed_cell` argument and any exception that happen during thetransform in `preprocessing_exc_tuple` in IPython 7.17 and above.\n",
            "  and should_run_async(code)\n",
            "/usr/local/lib/python3.10/dist-packages/keras/src/engine/training.py:3103: UserWarning: You are saving your model as an HDF5 file via `model.save()`. This file format is considered legacy. We recommend using instead the native Keras format, e.g. `model.save('my_model.keras')`.\n",
            "  saving_api.save_model(\n"
          ]
        }
      ]
    },
    {
      "cell_type": "code",
      "source": [
        "!ls"
      ],
      "metadata": {
        "colab": {
          "base_uri": "https://localhost:8080/"
        },
        "id": "i09AL4kkjiYu",
        "outputId": "a8528592-ab3d-4f72-ce6e-cfcc1b9cc221"
      },
      "execution_count": 59,
      "outputs": [
        {
          "output_type": "stream",
          "name": "stdout",
          "text": [
            "drive\t\t\t   filled_dataset.csv  my_model.h5\t\t\t       sample_data\n",
            "encoded_dataset_label.csv  imputed_data.csv    Preprocessed_realestatedatachicago.csv\n"
          ]
        },
        {
          "output_type": "stream",
          "name": "stderr",
          "text": [
            "/usr/local/lib/python3.10/dist-packages/ipykernel/ipkernel.py:283: DeprecationWarning: `should_run_async` will not call `transform_cell` automatically in the future. Please pass the result to `transformed_cell` argument and any exception that happen during thetransform in `preprocessing_exc_tuple` in IPython 7.17 and above.\n",
            "  and should_run_async(code)\n"
          ]
        }
      ]
    },
    {
      "cell_type": "code",
      "source": [
        "loaded_model = tf.keras.models.load_model('my_model.h5')\n",
        "loaded_model"
      ],
      "metadata": {
        "colab": {
          "base_uri": "https://localhost:8080/"
        },
        "id": "d694nZjUnEUV",
        "outputId": "b1ed4c62-7032-4184-e435-fcee984b312b"
      },
      "execution_count": 75,
      "outputs": [
        {
          "output_type": "stream",
          "name": "stderr",
          "text": [
            "/usr/local/lib/python3.10/dist-packages/ipykernel/ipkernel.py:283: DeprecationWarning: `should_run_async` will not call `transform_cell` automatically in the future. Please pass the result to `transformed_cell` argument and any exception that happen during thetransform in `preprocessing_exc_tuple` in IPython 7.17 and above.\n",
            "  and should_run_async(code)\n"
          ]
        },
        {
          "output_type": "execute_result",
          "data": {
            "text/plain": [
              "<keras.src.engine.sequential.Sequential at 0x78943e69fdf0>"
            ]
          },
          "metadata": {},
          "execution_count": 75
        }
      ]
    }
  ]
}